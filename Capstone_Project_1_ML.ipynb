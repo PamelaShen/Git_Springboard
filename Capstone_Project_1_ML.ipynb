{
 "cells": [
  {
   "cell_type": "markdown",
   "metadata": {},
   "source": [
    "#### Project Overview\n",
    "\n",
    "This is the first Captone project for SpringBoard using the UCI dataset: Diabetes 130-US hospitals for years 1999-2008 Data Set. Detailed description of the dataset can be found here - https://archive.ics.uci.edu/ml/datasets/diabetes+130-us+hospitals+for+years+1999-2008."
   ]
  },
  {
   "cell_type": "markdown",
   "metadata": {},
   "source": [
    "### Step One - Data Wrangling\n",
    "First step is to read in the CSV file and explore the data to check for:\n",
    "1) non-numerical values\n",
    "2) missing cells"
   ]
  },
  {
   "cell_type": "code",
   "execution_count": 3,
   "metadata": {
    "collapsed": true
   },
   "outputs": [],
   "source": [
    "import pandas as pd\n",
    "import numpy as np\n",
    "import matplotlib.pyplot as plt"
   ]
  },
  {
   "cell_type": "code",
   "execution_count": 4,
   "metadata": {
    "collapsed": true
   },
   "outputs": [],
   "source": [
    "df_raw=pd.read_csv('/Users/YingShen/Desktop/Data_Science/SpringBorad/Git/dataset_diabetes/diabetic_data.csv')"
   ]
  },
  {
   "cell_type": "markdown",
   "metadata": {},
   "source": [
    "#### I. Feature selection\n",
    "Before using Pandas to do data wrangling, EXCEL itself can be useful to filter out some features that have too many missingness, including:\n",
    "\n",
    "weight: 98569;\n",
    "payer_code: 40256;\n",
    "medical_specialty: 49949\n",
    "\n",
    "In addition, 24 features of medications are not used neither since there is one variable that can represent all of them."
   ]
  },
  {
   "cell_type": "code",
   "execution_count": 5,
   "metadata": {
    "scrolled": true
   },
   "outputs": [
    {
     "name": "stderr",
     "output_type": "stream",
     "text": [
      "/anaconda3/lib/python3.6/site-packages/ipykernel_launcher.py:9: SettingWithCopyWarning: \n",
      "A value is trying to be set on a copy of a slice from a DataFrame\n",
      "\n",
      "See the caveats in the documentation: http://pandas.pydata.org/pandas-docs/stable/indexing.html#indexing-view-versus-copy\n",
      "  if __name__ == '__main__':\n"
     ]
    },
    {
     "name": "stdout",
     "output_type": "stream",
     "text": [
      "<class 'pandas.core.frame.DataFrame'>\n",
      "Int64Index: 71518 entries, 0 to 101765\n",
      "Data columns (total 23 columns):\n",
      "patient_nbr                 71518 non-null int64\n",
      "race                        71518 non-null object\n",
      "gender                      71518 non-null object\n",
      "age                         71518 non-null object\n",
      "admission_type_id           71518 non-null int64\n",
      "discharge_disposition_id    71518 non-null int64\n",
      "admission_source_id         71518 non-null int64\n",
      "time_in_hospital            71518 non-null int64\n",
      "num_lab_procedures          71518 non-null int64\n",
      "num_procedures              71518 non-null int64\n",
      "num_medications             71518 non-null int64\n",
      "number_outpatient           71518 non-null int64\n",
      "number_emergency            71518 non-null int64\n",
      "number_inpatient            71518 non-null int64\n",
      "diag_1                      71518 non-null object\n",
      "diag_2                      71518 non-null object\n",
      "diag_3                      71518 non-null object\n",
      "number_diagnoses            71518 non-null int64\n",
      "max_glu_serum               71518 non-null object\n",
      "A1Cresult                   71518 non-null object\n",
      "change                      71518 non-null object\n",
      "diabetesMed                 71518 non-null object\n",
      "readmitted                  71518 non-null object\n",
      "dtypes: int64(12), object(11)\n",
      "memory usage: 13.1+ MB\n",
      "None\n",
      "       patient_nbr  admission_type_id  discharge_disposition_id  \\\n",
      "mean  5.505160e+07           2.100254                  3.593235   \n",
      "min   1.350000e+02           1.000000                  1.000000   \n",
      "max   1.895026e+08           8.000000                 28.000000   \n",
      "\n",
      "      admission_source_id  time_in_hospital  num_lab_procedures  \\\n",
      "mean             5.657457           4.28913           43.075478   \n",
      "min              1.000000           1.00000            1.000000   \n",
      "max             25.000000          14.00000          132.000000   \n",
      "\n",
      "      num_procedures  num_medications  number_outpatient  number_emergency  \\\n",
      "mean        1.430577        15.705025           0.280069           0.10354   \n",
      "min         0.000000         1.000000           0.000000           0.00000   \n",
      "max         6.000000        81.000000          42.000000          42.00000   \n",
      "\n",
      "      number_inpatient  number_diagnoses  \n",
      "mean          0.177829            7.2457  \n",
      "min           0.000000            1.0000  \n",
      "max          12.000000           16.0000  \n",
      "             race  gender      age diag_1 diag_2 diag_3 max_glu_serum  \\\n",
      "count       71518   71518    71518  71518  71518  71518         71518   \n",
      "unique          6       3       10    697    726    759             4   \n",
      "top     Caucasian  Female  [70-80)    414    250    250          None   \n",
      "freq        53491   38025    18210   5233   5009   9039         68062   \n",
      "\n",
      "       A1Cresult change diabetesMed readmitted  \n",
      "count      71518  71518       71518      71518  \n",
      "unique         4      2           2          3  \n",
      "top         None     No         Yes         NO  \n",
      "freq       58532  39494       54319      42985  \n"
     ]
    }
   ],
   "source": [
    "# Select the features we need to process\n",
    "df=df_raw[['patient_nbr', 'race', 'gender', 'age', 'admission_type_id', 'discharge_disposition_id', 'admission_source_id',\n",
    "       'time_in_hospital', 'num_lab_procedures', 'num_procedures', 'num_medications',\n",
    "       'number_outpatient', 'number_emergency', 'number_inpatient', 'diag_1',\n",
    "       'diag_2', 'diag_3', 'number_diagnoses', 'max_glu_serum', 'A1Cresult',\n",
    "       'change', 'diabetesMed', 'readmitted']] \n",
    "\n",
    "# Same patienets are highly correlated with themselves and should be dropped\n",
    "df.drop_duplicates(subset=[\"patient_nbr\"],inplace=True) \n",
    "\n",
    "'''First get a general information of the variables left'''\n",
    "print(df.info()) # 71518 obs; 23 columns; int64(12), object(11); all non-null\n",
    "\n",
    "'''Then explore the variables in the dataset'''\n",
    "print(df.describe().loc[['mean','min','max']])\n",
    "print(df.describe(exclude=np.number))"
   ]
  },
  {
   "cell_type": "code",
   "execution_count": 6,
   "metadata": {
    "collapsed": true
   },
   "outputs": [],
   "source": [
    "# There are 11 string features that need to be transformed\n",
    "# Define the lambda function: categorize_label\n",
    "# categorize_label = lambda x: x.astype('category')\n",
    "\n",
    "# # Convert df[categories] to a categorical type (to be more efficient)\n",
    "# categories=['race', 'gender', 'age','diag_1','diag_2', 'diag_3', \n",
    "#              'max_glu_serum', 'A1Cresult','change', 'diabetesMed', 'readmitted']\n",
    "# df[categories] = df[categories].apply(categorize_label)\n",
    "# print(df[categories].dtypes)"
   ]
  },
  {
   "cell_type": "code",
   "execution_count": 7,
   "metadata": {},
   "outputs": [
    {
     "name": "stdout",
     "output_type": "stream",
     "text": [
      "Caucasian          53491\n",
      "AfricanAmerican    12887\n",
      "?                   1948\n",
      "Hispanic            1517\n",
      "Other               1178\n",
      "Asian                497\n",
      "Name: race, dtype: int64\n",
      "Female             38025\n",
      "Male               33490\n",
      "Unknown/Invalid        3\n",
      "Name: gender, dtype: int64\n",
      "[70-80)     18210\n",
      "[60-70)     15960\n",
      "[50-60)     12466\n",
      "[80-90)     11589\n",
      "[40-50)      6878\n",
      "[30-40)      2699\n",
      "[90-100)     1900\n",
      "[20-30)      1127\n",
      "[10-20)       535\n",
      "[0-10)        154\n",
      "Name: age, dtype: int64\n",
      "None    68062\n",
      "Norm     1731\n",
      ">200      969\n",
      ">300      756\n",
      "Name: max_glu_serum, dtype: int64\n",
      "None    58532\n",
      ">8       6304\n",
      "Norm     3791\n",
      ">7       2891\n",
      "Name: A1Cresult, dtype: int64\n",
      "No    39494\n",
      "Ch    32024\n",
      "Name: change, dtype: int64\n",
      "Yes    54319\n",
      "No     17199\n",
      "Name: diabetesMed, dtype: int64\n",
      "NO     42985\n",
      ">30    22240\n",
      "<30     6293\n",
      "Name: readmitted, dtype: int64\n"
     ]
    }
   ],
   "source": [
    "# I will transform ICD diagnosis codes later into Charlson Comorbidity Score;\n",
    "# Here let's check the values of the non-null categorical variables\n",
    "cat2=['race', 'gender', 'age','max_glu_serum', 'A1Cresult','change', 'diabetesMed', 'readmitted']\n",
    "\n",
    "for i in cat2:\n",
    "    print(df[i].value_counts())"
   ]
  },
  {
   "cell_type": "code",
   "execution_count": 8,
   "metadata": {},
   "outputs": [
    {
     "name": "stderr",
     "output_type": "stream",
     "text": [
      "/anaconda3/lib/python3.6/site-packages/ipykernel_launcher.py:4: SettingWithCopyWarning: \n",
      "A value is trying to be set on a copy of a slice from a DataFrame.\n",
      "Try using .loc[row_indexer,col_indexer] = value instead\n",
      "\n",
      "See the caveats in the documentation: http://pandas.pydata.org/pandas-docs/stable/indexing.html#indexing-view-versus-copy\n",
      "  after removing the cwd from sys.path.\n"
     ]
    }
   ],
   "source": [
    "''' Transform strings to dummy values '''\n",
    "\n",
    "# There are 3 invalid/unknown cells in gender; just delete them\n",
    "df[\"gender_d\"]=df[\"gender\"].apply(lambda x: 1 if x==\"Male\" else 0) \n",
    "df=df[df['gender']!=\"Unknown/Invalid\"]\n",
    "\n",
    "# Transform age category into norminal variables\n",
    "age_dict={\"[0-10)\":1,\"[10-20)\":2,\"[20-30)\":3,\"[30-40)\":4,\"[40-50)\":5,\"[50-60)\":6,\n",
    "          \"[60-70)\":7,\"[70-80)\":8,\"[80-90)\":9,\"[90-100)\":10}\n",
    "df[\"age_mapped\"]=df[\"age\"].map(age_dict)\n",
    "\n",
    "# Transform question mark in race into \"other\" category\n",
    "df['race']=df['race'].apply(lambda x: \"Other\" if x==\"?\" else x)"
   ]
  },
  {
   "cell_type": "markdown",
   "metadata": {},
   "source": [
    "#### Some numerical variables actually have categorical meanings: \n",
    "#### 1. discharge_disposition_id:  indicates discharge status\n",
    "First, patients who were discharged dead will be excluded from the study; then, we will create a new variable indicating if the patients were discharged home or not\n",
    "#### 2. admis_source_group:  indicates admission type"
   ]
  },
  {
   "cell_type": "code",
   "execution_count": 9,
   "metadata": {
    "collapsed": true
   },
   "outputs": [],
   "source": [
    "# Drop encounters that ended in deaths or hospice\n",
    "df=df[df['discharge_disposition_id'].isin([11,13,14,19,20,21])==False]\n",
    "df['dischar_home']=df['discharge_disposition_id'].apply(lambda x: 1 if x==1 or x==6 or x==8 else 0)"
   ]
  },
  {
   "cell_type": "code",
   "execution_count": 10,
   "metadata": {
    "collapsed": true
   },
   "outputs": [],
   "source": [
    "# Categorize admission source codes into 1: emergency; 2: referral; 3: other\n",
    "def ad_cource_group(value):\n",
    "    if value==7 or value==25:\n",
    "        return 1\n",
    "    if 1<=value<=6 or value==10 or value==18 or value==22 or value==26:\n",
    "        return 2\n",
    "    else: return 3\n",
    "df['admis_source_group']=df['admission_source_id'].apply(ad_cource_group)"
   ]
  },
  {
   "cell_type": "markdown",
   "metadata": {},
   "source": [
    "####  Transform other categorical variables into dummy variables"
   ]
  },
  {
   "cell_type": "code",
   "execution_count": 11,
   "metadata": {
    "collapsed": true
   },
   "outputs": [],
   "source": [
    "df['max_glu_dummy']=df['max_glu_serum'].apply(lambda x: 0 if x==\"None\" else 1)\n",
    "df['A1Cresult_dummy']=df['A1Cresult'].apply(lambda x: 0 if x==\"None\" else 1)\n",
    "df['change_d']=df['change'].apply(lambda x: 1 if x==\"Ch\" else 0)\n",
    "df['diabetesMed_d']=df['diabetesMed'].apply(lambda x: 1 if x==\"Yes\" else 0)\n",
    "df['readmitted_d']=df['readmitted'].apply(lambda x: 1 if x==\"<30\" else 0)\n",
    "df[[\"African_American\",\"Asian\",\"Caucasian\",\"Hispanic\",\"Other\"]]=pd.get_dummies(df['race'])"
   ]
  },
  {
   "cell_type": "markdown",
   "metadata": {},
   "source": [
    "#### Charlson Comorbidity Score from ICD-9-CM diagnosis codes\n",
    "Diagnosis codes are useful to indicate the severity of illness a patient has, which is a common way of adjusting health conditions of a patient in academia"
   ]
  },
  {
   "cell_type": "code",
   "execution_count": 12,
   "metadata": {
    "collapsed": true
   },
   "outputs": [],
   "source": [
    "''' Transform diagnosis codes into meaning CCI scores using regular expression '''\n",
    "# Diagnosis 1\n",
    "df[\"MI_CHF_Cereb_Dem_1\"]=df['diag_1'].str.match(r'(41[02][.]?\\d?\\d?)|(428[.]?\\d?\\d?)|(43[0-8][.]?\\d?\\d?)|(290[.]?\\d?\\d?)')\n",
    "df[\"PVF_1\"]=df['diag_1'].str.match(r'(443[.]9\\d?)|(441[.]?\\d?\\d?)|(785[.]4\\d?)|(V43[.]4\\d?)')\n",
    "df[\"ChroPul_1\"]=df['diag_1'].str.match(r'((49[0-9])|(50[0-5])[.]?\\d?\\d?)|(506.4\\d?)')\n",
    "df[\"Rheu_1\"]=df['diag_1'].str.match(r'(710[.][014]])|(714[.][02])|(714[.]81)|(724[.]?\\d?\\d?)')\n",
    "df[\"PepUlc_Liver_Diabetes_1\"]=df['diag_1'].str.match(r'(53[1-4][.]?\\d?\\d?)|(571[.][2456]\\d?)|(250[.][01237]\\d?)')\n",
    "df[\"Hemip_Diabetes_1\"]=df['diag_1'].str.match(r'(250[.][456]\\d?)|(344[.]1\\d?)|(342[.]?\\d?\\d?)|(250)')\n",
    "df[\"Renal_1\"]=df['diag_1'].str.match(r'58[23568][.]?\\d?\\d?')\n",
    "df[\"Cancer_1\"]=df['diag_1'].str.match(r'(1[4-6][0-9][.]?\\d?\\d?)|(17[0-2][.]?\\d?\\d?)|(17[4-9][.]?\\d?\\d?)|\\\n",
    "                                      (18[0-9][.]?\\d?\\d?)|(195[.]8)|(20[0-8][.]?\\d?\\d?)')          \n",
    "df[\"Liver_1\"]=df['diag_1'].str.match(r'(456[.][01][0-9]?)|(456[.]2[01])|(572[.][2-8]\\d?)')\n",
    "df[\"Metas_1\"]=df['diag_1'].str.match(r'(19[6-8][.]?\\d?\\d?)|(199[.]1)')\n",
    "df[\"HIV_1\"]=df['diag_1'].str.match(r'04[2-4][.]?\\d?\\d?')\n",
    "\n",
    "# Diagnosis 2\n",
    "df[\"MI_CHF_Cereb_Dem_2\"]=df['diag_2'].str.match(r'(41[02][.]?\\d?\\d?)|(428[.]?\\d?\\d?)|(43[0-8][.]?\\d?\\d?)|(290[.]?\\d?\\d?)')\n",
    "df[\"PVF_2\"]=df['diag_2'].str.match(r'(443[.]9\\d?)|(441[.]?\\d?\\d?)|(785[.]4\\d?)|(V43[.]4\\d?)')\n",
    "df[\"ChroPul_2\"]=df['diag_2'].str.match(r'((49[0-9])|(50[0-5])[.]?\\d?\\d?)|(506.4\\d?)')\n",
    "df[\"Rheu_2\"]=df['diag_2'].str.match(r'(710[.][014]])|(714[.][02])|(714[.]81)|(724[.]?\\d?\\d?)')\n",
    "df[\"PepUlc_Liver_Diabetes_2\"]=df['diag_2'].str.match(r'(53[1-4][.]?\\d?\\d?)|(571[.][2456]\\d?)|(250[.][01237]\\d?)')\n",
    "df[\"Hemip_Diabetes_2\"]=df['diag_2'].str.match(r'(250[.][456]\\d?)|(344[.]1\\d?)|(342[.]?\\d?\\d?)|(250)')\n",
    "df[\"Renal_2\"]=df['diag_2'].str.match(r'58[23568][.]?\\d?\\d?')\n",
    "df[\"Cancer_2\"]=df['diag_2'].str.match(r'(1[4-6][0-9][.]?\\d?\\d?)|(17[0-2][.]?\\d?\\d?)|(17[4-9][.]?\\d?\\d?)|\\\n",
    "                                      (18[0-9][.]?\\d?\\d?)|(195[.]8)|(20[0-8][.]?\\d?\\d?)')          \n",
    "df[\"Liver_2\"]=df['diag_2'].str.match(r'(456[.][01][0-9]?)|(456[.]2[01])|(572[.][2-8]\\d?)')\n",
    "df[\"Metas_2\"]=df['diag_2'].str.match(r'(19[6-8][.]?\\d?\\d?)|(199[.]1)')\n",
    "df[\"HIV_2\"]=df['diag_2'].str.match(r'04[2-4][.]?\\d?\\d?')\n",
    "\n",
    "# Diagnosis 3\n",
    "df[\"MI_CHF_Cereb_Dem_3\"]=df['diag_3'].str.match(r'(41[02][.]?\\d?\\d?)|(428[.]?\\d?\\d?)|(43[0-8][.]?\\d?\\d?)|(290[.]?\\d?\\d?)')\n",
    "df[\"PVF_3\"]=df['diag_3'].str.match(r'(443[.]9\\d?)|(441[.]?\\d?\\d?)|(785[.]4\\d?)|(V43[.]4\\d?)')\n",
    "df[\"ChroPul_3\"]=df['diag_3'].str.match(r'((49[0-9])|(50[0-5])[.]?\\d?\\d?)|(506.4\\d?)')\n",
    "df[\"Rheu_3\"]=df['diag_3'].str.match(r'(710[.][014]])|(714[.][02])|(714[.]81)|(724[.]?\\d?\\d?)')\n",
    "df[\"PepUlc_Liver_Diabetes_3\"]=df['diag_3'].str.match(r'(53[1-4][.]?\\d?\\d?)|(571[.][2456]\\d?)|(250[.][01237]\\d?)')\n",
    "df[\"Hemip_Diabetes_3\"]=df['diag_3'].str.match(r'(250[.][456]\\d?)|(344[.]1\\d?)|(342[.]?\\d?\\d?)|(250)')\n",
    "df[\"Renal_3\"]=df['diag_3'].str.match(r'58[23568][.]?\\d?\\d?')\n",
    "df[\"Cancer_3\"]=df['diag_3'].str.match(r'(1[4-6][0-9][.]?\\d?\\d?)|(17[0-2][.]?\\d?\\d?)|(17[4-9][.]?\\d?\\d?)|\\\n",
    "                                      (18[0-9][.]?\\d?\\d?)|(195[.]8)|(20[0-8][.]?\\d?\\d?)')          \n",
    "df[\"Liver_3\"]=df['diag_3'].str.match(r'(456[.][01][0-9]?)|(456[.]2[01])|(572[.][2-8]\\d?)')\n",
    "df[\"Metas_3\"]=df['diag_3'].str.match(r'(19[6-8][.]?\\d?\\d?)|(199[.]1)')\n",
    "df[\"HIV_3\"]=df['diag_3'].str.match(r'04[2-4][.]?\\d?\\d?')"
   ]
  },
  {
   "cell_type": "code",
   "execution_count": 13,
   "metadata": {},
   "outputs": [
    {
     "name": "stderr",
     "output_type": "stream",
     "text": [
      "/anaconda3/lib/python3.6/site-packages/pandas/core/computation/expressions.py:179: UserWarning: evaluating in Python space because the '+' operator is not supported by numexpr for the bool dtype, use '|' instead\n",
      "  .format(op=op_str, alt_op=unsupported[op_str]))\n"
     ]
    },
    {
     "data": {
      "text/plain": [
       "1.576875803915964"
      ]
     },
     "execution_count": 13,
     "metadata": {},
     "output_type": "execute_result"
    }
   ],
   "source": [
    "df['Score_1']=(df['MI_CHF_Cereb_Dem_1']+df[\"PVF_1\"]+df[\"ChroPul_1\"]+df[\"Rheu_1\"]+df[\"PepUlc_Liver_Diabetes_1\"])*1+\\\n",
    "            (df[\"Hemip_Diabetes_1\"]+df[\"Renal_1\"]+df[\"Cancer_1\"])*2+(df[\"Liver_1\"])*3+(df[\"Metas_1\"]+df[\"HIV_1\"])*6\n",
    "\n",
    "df['Score_2']=(df['MI_CHF_Cereb_Dem_2']+df[\"PVF_2\"]+df[\"ChroPul_2\"]+df[\"Rheu_2\"]+df[\"PepUlc_Liver_Diabetes_2\"])*1+\\\n",
    "            (df[\"Hemip_Diabetes_2\"]+df[\"Renal_2\"]+df[\"Cancer_2\"])*2+(df[\"Liver_2\"])*3+(df[\"Metas_2\"]+df[\"HIV_2\"])*6\n",
    "\n",
    "df['Score_3']=(df['MI_CHF_Cereb_Dem_3']+df[\"PVF_3\"]+df[\"ChroPul_3\"]+df[\"Rheu_3\"]+df[\"PepUlc_Liver_Diabetes_3\"])*1+\\\n",
    "            (df[\"Hemip_Diabetes_3\"]+df[\"Renal_3\"]+df[\"Cancer_3\"])*2+(df[\"Liver_3\"])*3+(df[\"Metas_3\"]+df[\"HIV_3\"])*6\n",
    "df['CCI']=df['Score_1']+df['Score_2']+df['Score_3']\n",
    "df['CCI'].mean()"
   ]
  },
  {
   "cell_type": "code",
   "execution_count": 14,
   "metadata": {},
   "outputs": [
    {
     "data": {
      "text/plain": [
       "(69970, 25)"
      ]
     },
     "execution_count": 14,
     "metadata": {},
     "output_type": "execute_result"
    }
   ],
   "source": [
    "# Will keep race and gender for now for visualization\n",
    "cleaned_df=df[[\"race\",\"Caucasian\",\"African_American\",\"Other\",\"Hispanic\",\"Asian\", 'gender','gender_d', 'age_mapped', \n",
    "               'dischar_home','admis_source_group',\n",
    "               'time_in_hospital', 'num_lab_procedures', 'num_procedures', \n",
    "               'num_medications','number_outpatient', 'number_emergency', \n",
    "               'number_inpatient', 'CCI', 'number_diagnoses', \n",
    "               'max_glu_dummy', 'A1Cresult_dummy','change_d', 'diabetesMed_d', 'readmitted_d']]\n",
    "cleaned_df.shape"
   ]
  },
  {
   "cell_type": "markdown",
   "metadata": {},
   "source": [
    "### Step Two - Exploratory Data Analysis\n",
    "Several Preliminary Questions to Ask :\n",
    "\n",
    "1. Since this is a claims study regarding a clinical outcome (readmission), patient characteristics should be strong indicators for the outcome; is it the case for the patient characteristics included in this study?\n",
    "2. As commonly observed in clinical studies, exposure variables can have interactive impact on each other; How can I have a preliminary analysis of that?\n",
    "3. What plots can I make to visually help me identify potential trend and relationship among all given variables and the target outcome? What plots are appropriate given the data type?\n",
    "\n",
    "Considering that the outcome variable is 1 or 0, and most predictors are categorical, barcharts of the outcome percentages would be useful to visualize difference of occurrence among different groups.\n",
    "To answer the above questions, following plots using the sns.countplot were made:"
   ]
  },
  {
   "cell_type": "code",
   "execution_count": 15,
   "metadata": {
    "collapsed": true
   },
   "outputs": [],
   "source": [
    "# Using groupby objects to generate readmission rates of each categories\n",
    "\n",
    "age_race=cleaned_df.groupby(['age_mapped','race'])['readmitted_d'].mean()\n",
    "age_race_df=pd.DataFrame(age_race)\n",
    "age_race_df=age_race_df.reset_index()\n",
    "\n",
    "gender_disc=cleaned_df.groupby(['gender','dischar_home'])['readmitted_d'].mean()\n",
    "gender_disc_df=pd.DataFrame(gender_disc)\n",
    "gender_disc_df=gender_disc_df.reset_index()\n",
    "\n",
    "age_adm=cleaned_df.groupby(['age_mapped','admis_source_group'])['readmitted_d'].mean()\n",
    "age_adm_df=pd.DataFrame(age_adm)\n",
    "age_adm_df=age_adm_df.reset_index()\n",
    "\n",
    "age_glu=cleaned_df.groupby(['age_mapped','max_glu_dummy'])['readmitted_d'].mean()\n",
    "age_glu_df=pd.DataFrame(age_glu)\n",
    "age_glu_df=age_glu_df.reset_index()\n",
    "\n",
    "age_A1c=cleaned_df.groupby(['age_mapped','A1Cresult_dummy'])['readmitted_d'].mean()\n",
    "age_A1c_df=pd.DataFrame(age_A1c)\n",
    "age_A1c_df=age_A1c_df.reset_index()\n",
    "\n",
    "\n",
    "age_dia=cleaned_df.groupby(['age_mapped','change_d'])['readmitted_d'].mean()\n",
    "age_dia_df=pd.DataFrame(age_dia)\n",
    "age_dia_df=age_dia_df.reset_index()\n",
    "\n",
    "age_c=cleaned_df.groupby(['age_mapped','diabetesMed_d'])['readmitted_d'].mean()\n",
    "age_c_df=pd.DataFrame(age_c)\n",
    "age_c_df=age_c_df.reset_index()"
   ]
  },
  {
   "cell_type": "code",
   "execution_count": 16,
   "metadata": {
    "scrolled": false
   },
   "outputs": [
    {
     "name": "stderr",
     "output_type": "stream",
     "text": [
      "/anaconda3/lib/python3.6/site-packages/seaborn/categorical.py:1508: FutureWarning: remove_na is deprecated and is a private function. Do not use.\n",
      "  stat_data = remove_na(group_data[hue_mask])\n"
     ]
    },
    {
     "data": {
      "image/png": "[encoded data removed]",
      "text/plain": [
       "<matplotlib.figure.Figure at 0x10ca8b5c0>"
      ]
     },
     "metadata": {},
     "output_type": "display_data"
    },
    {
     "data": {
      "image/png": "[encoded data removed]",
      "text/plain": [
       "<matplotlib.figure.Figure at 0x11619e7f0>"
      ]
     },
     "metadata": {},
     "output_type": "display_data"
    },
    {
     "data": {
      "image/png": "[encoded data removed]",
      "text/plain": [
       "<matplotlib.figure.Figure at 0x1162fada0>"
      ]
     },
     "metadata": {},
     "output_type": "display_data"
    },
    {
     "data": {
      "image/png": "[encoded data removed]",
      "text/plain": [
       "<matplotlib.figure.Figure at 0x116357fd0>"
      ]
     },
     "metadata": {},
     "output_type": "display_data"
    },
    {
     "data": {
      "image/png": "[encoded data removed]",
      "text/plain": [
       "<matplotlib.figure.Figure at 0x1164cb630>"
      ]
     },
     "metadata": {},
     "output_type": "display_data"
    },
    {
     "data": {
      "image/png": "[encoded data removed]",
      "text/plain": [
       "<matplotlib.figure.Figure at 0x116601908>"
      ]
     },
     "metadata": {},
     "output_type": "display_data"
    },
    {
     "data": {
      "image/png": "[encoded data removed]",
      "text/plain": [
       "<matplotlib.figure.Figure at 0x11653b4a8>"
      ]
     },
     "metadata": {},
     "output_type": "display_data"
    }
   ],
   "source": [
    "import seaborn as sns\n",
    "\n",
    "sns.barplot(x=\"age_mapped\",y=\"readmitted_d\", hue='race',data = age_race_df,hue_order=['Caucasian','Other','AfricanAmerican','Hispanic','Asian'])\n",
    "plt.show()\n",
    "\n",
    "sns.barplot(x=\"dischar_home\",y=\"readmitted_d\", hue='gender',data = gender_disc_df)\n",
    "plt.show()\n",
    "\n",
    "sns.barplot(x=\"age_mapped\",y=\"readmitted_d\", hue='admis_source_group',data = age_adm_df)\n",
    "plt.show()\n",
    "\n",
    "g=sns.barplot(x='age_mapped',y='readmitted_d',data=age_glu_df,hue='max_glu_dummy')\n",
    "plt.ylabel(\"Readmission Rates\")\n",
    "\n",
    "plt.show()\n",
    "\n",
    "g=sns.barplot(x='age_mapped',y='readmitted_d',data=age_A1c_df,hue='A1Cresult_dummy')\n",
    "plt.ylabel(\"Readmission Rates\")\n",
    "\n",
    "plt.show()\n",
    "\n",
    "g=sns.barplot(x='age_mapped',y='readmitted_d',data=age_dia_df,hue='change_d')\n",
    "plt.ylabel(\"Readmission Rates\")\n",
    "\n",
    "plt.show()\n",
    "\n",
    "g=sns.barplot(x='age_mapped',y='readmitted_d',data=age_c_df,hue='diabetesMed_d')\n",
    "plt.ylabel(\"Readmission Rates\")\n",
    "\n",
    "plt.show()"
   ]
  },
  {
   "cell_type": "code",
   "execution_count": 17,
   "metadata": {},
   "outputs": [
    {
     "name": "stderr",
     "output_type": "stream",
     "text": [
      "/anaconda3/lib/python3.6/site-packages/seaborn/categorical.py:1460: FutureWarning: remove_na is deprecated and is a private function. Do not use.\n",
      "  stat_data = remove_na(group_data)\n"
     ]
    },
    {
     "data": {
      "image/png": "[encoded data removed]",
      "text/plain": [
       "<matplotlib.figure.Figure at 0x117053be0>"
      ]
     },
     "metadata": {},
     "output_type": "display_data"
    },
    {
     "data": {
      "image/png": "[encoded data removed]",
      "text/plain": [
       "<matplotlib.figure.Figure at 0x1170835f8>"
      ]
     },
     "metadata": {},
     "output_type": "display_data"
    },
    {
     "data": {
      "image/png": "[encoded data removed]",
      "text/plain": [
       "<matplotlib.figure.Figure at 0x116190cc0>"
      ]
     },
     "metadata": {},
     "output_type": "display_data"
    }
   ],
   "source": [
    "time=cleaned_df.groupby(['time_in_hospital'])['readmitted_d'].mean()\n",
    "time_df=pd.DataFrame(time)\n",
    "time_df=time_df.reset_index()\n",
    "\n",
    "lab=cleaned_df.groupby(['num_lab_procedures'])['readmitted_d'].mean()\n",
    "lab_df=pd.DataFrame(lab)\n",
    "lab_df=lab_df.reset_index()\n",
    "\n",
    "proc=cleaned_df.groupby(['num_procedures'])['readmitted_d'].mean()\n",
    "proc_df=pd.DataFrame(proc)\n",
    "proc_df=proc_df.reset_index()\n",
    "\n",
    "g=sns.barplot(x='time_in_hospital',y='readmitted_d',data=time_df)\n",
    "plt.ylabel(\"Readmission Rates\")\n",
    "\n",
    "plt.show()\n",
    "\n",
    "g=sns.barplot(x='num_lab_procedures',y='readmitted_d',data=lab_df)\n",
    "plt.ylabel(\"Readmission Rates\")\n",
    "plt.xticks(np.arange(132,step=11),(1,12,24,36,48,60,72,84,96,108,120,132))\n",
    "plt.show()\n",
    "\n",
    "g=sns.barplot(x='num_procedures',y='readmitted_d',data=proc_df)\n",
    "plt.ylabel(\"Readmission Rates\")\n",
    "plt.show()"
   ]
  },
  {
   "cell_type": "code",
   "execution_count": 18,
   "metadata": {},
   "outputs": [
    {
     "name": "stderr",
     "output_type": "stream",
     "text": [
      "/anaconda3/lib/python3.6/site-packages/seaborn/categorical.py:1460: FutureWarning: remove_na is deprecated and is a private function. Do not use.\n",
      "  stat_data = remove_na(group_data)\n"
     ]
    },
    {
     "data": {
      "image/png": "[encoded data removed]",
      "text/plain": [
       "<matplotlib.figure.Figure at 0x11744bb00>"
      ]
     },
     "metadata": {},
     "output_type": "display_data"
    },
    {
     "data": {
      "image/png": "[encoded data removed]",
      "text/plain": [
       "<matplotlib.figure.Figure at 0x11748aa90>"
      ]
     },
     "metadata": {},
     "output_type": "display_data"
    },
    {
     "data": {
      "image/png": "[encoded data removed]",
      "text/plain": [
       "<matplotlib.figure.Figure at 0x1174e1978>"
      ]
     },
     "metadata": {},
     "output_type": "display_data"
    },
    {
     "data": {
      "image/png": "[encoded data removed]",
      "text/plain": [
       "<matplotlib.figure.Figure at 0x1175cb6a0>"
      ]
     },
     "metadata": {},
     "output_type": "display_data"
    }
   ],
   "source": [
    "med=cleaned_df.groupby(['num_medications'])['readmitted_d'].mean()\n",
    "med_df=pd.DataFrame(med)\n",
    "med_df=med_df.reset_index()\n",
    "\n",
    "outp=cleaned_df.groupby(['number_outpatient'])['readmitted_d'].mean()\n",
    "outp_df=pd.DataFrame(outp)\n",
    "outp_df=outp_df.reset_index()\n",
    "\n",
    "emerg=cleaned_df.groupby(['number_emergency'])['readmitted_d'].mean()\n",
    "emerg_df=pd.DataFrame(emerg)\n",
    "emerg_df=emerg_df.reset_index()\n",
    "\n",
    "inp=cleaned_df.groupby(['number_inpatient'])['readmitted_d'].mean()\n",
    "inp_df=pd.DataFrame(inp)\n",
    "inp_df=inp_df.reset_index()\n",
    "\n",
    "g=sns.barplot(x='num_medications',y='readmitted_d',data=med_df)\n",
    "plt.ylabel(\"Readmission Rates\")\n",
    "plt.xticks(np.arange(80,step=9),(1,10,20,30,40,50,60,70,80))\n",
    "plt.show()\n",
    "\n",
    "g=sns.barplot(x='number_outpatient',y='readmitted_d',data=outp_df)\n",
    "plt.ylabel(\"Readmission Rates\")\n",
    "plt.show()\n",
    "\n",
    "g=sns.barplot(x='number_emergency',y='readmitted_d',data=emerg_df)\n",
    "plt.ylabel(\"Readmission Rates\")\n",
    "plt.show()\n",
    "\n",
    "g=sns.barplot(x='number_inpatient',y='readmitted_d',data=inp_df)\n",
    "plt.ylabel(\"Readmission Rates\")\n",
    "plt.show()"
   ]
  },
  {
   "cell_type": "markdown",
   "metadata": {},
   "source": [
    "As suggested by the above figure, senior and white people seems to have higher readmission rates, but gender seems to have no influence of the overall trend. \n",
    "\n",
    "For the following plots that explore impact of other variables, I will always display the impact of age."
   ]
  },
  {
   "cell_type": "markdown",
   "metadata": {},
   "source": [
    "#### Further questions to ask:\n",
    "\n",
    "Based on the plots, the distribution of the readmission counts among each feature seems to have a poisson distribution. This is likely to happen since the outcome can also be treated as rare events.\n",
    "\n",
    "For future inferential statistical analysis, the next question is about what model should be used to fit the data. Whether a logistic regression model or a poisson model is appropriate can be explored later.\n",
    "\n",
    "Another action step is to further categorize three variables (number of previous inpatient,outpatient,emergency visits) into dummies based on the plots of readmission counts."
   ]
  },
  {
   "cell_type": "markdown",
   "metadata": {},
   "source": [
    "### Step Three - Inferential Statistics\n",
    "First, check if there is correlation between continuous predictors:"
   ]
  },
  {
   "cell_type": "code",
   "execution_count": 22,
   "metadata": {},
   "outputs": [
    {
     "data": {
      "text/html": [
       "<div>\n",
       "<style scoped>\n",
       "    .dataframe tbody tr th:only-of-type {\n",
       "        vertical-align: middle;\n",
       "    }\n",
       "\n",
       "    .dataframe tbody tr th {\n",
       "        vertical-align: top;\n",
       "    }\n",
       "\n",
       "    .dataframe thead th {\n",
       "        text-align: right;\n",
       "    }\n",
       "</style>\n",
       "<table border=\"1\" class=\"dataframe\">\n",
       "  <thead>\n",
       "    <tr style=\"text-align: right;\">\n",
       "      <th></th>\n",
       "      <th>age_mapped</th>\n",
       "      <th>max_glu_dummy</th>\n",
       "      <th>time_in_hospital</th>\n",
       "      <th>num_lab_procedures</th>\n",
       "      <th>num_procedures</th>\n",
       "      <th>num_medications</th>\n",
       "      <th>number_outpatient</th>\n",
       "      <th>number_emergency</th>\n",
       "      <th>number_inpatient</th>\n",
       "    </tr>\n",
       "  </thead>\n",
       "  <tbody>\n",
       "    <tr>\n",
       "      <th>age_mapped</th>\n",
       "      <td>1.000000</td>\n",
       "      <td>0.039471</td>\n",
       "      <td>0.127423</td>\n",
       "      <td>0.025128</td>\n",
       "      <td>-0.022669</td>\n",
       "      <td>0.055483</td>\n",
       "      <td>0.026203</td>\n",
       "      <td>-0.047611</td>\n",
       "      <td>0.015395</td>\n",
       "    </tr>\n",
       "    <tr>\n",
       "      <th>max_glu_dummy</th>\n",
       "      <td>0.039471</td>\n",
       "      <td>1.000000</td>\n",
       "      <td>0.012897</td>\n",
       "      <td>-0.131848</td>\n",
       "      <td>-0.082444</td>\n",
       "      <td>-0.029145</td>\n",
       "      <td>0.045375</td>\n",
       "      <td>0.024865</td>\n",
       "      <td>0.008444</td>\n",
       "    </tr>\n",
       "    <tr>\n",
       "      <th>time_in_hospital</th>\n",
       "      <td>0.127423</td>\n",
       "      <td>0.012897</td>\n",
       "      <td>1.000000</td>\n",
       "      <td>0.332151</td>\n",
       "      <td>0.188339</td>\n",
       "      <td>0.467900</td>\n",
       "      <td>-0.015451</td>\n",
       "      <td>-0.010048</td>\n",
       "      <td>0.063961</td>\n",
       "    </tr>\n",
       "    <tr>\n",
       "      <th>num_lab_procedures</th>\n",
       "      <td>0.025128</td>\n",
       "      <td>-0.131848</td>\n",
       "      <td>0.332151</td>\n",
       "      <td>1.000000</td>\n",
       "      <td>0.043834</td>\n",
       "      <td>0.258997</td>\n",
       "      <td>-0.008053</td>\n",
       "      <td>0.015458</td>\n",
       "      <td>0.079723</td>\n",
       "    </tr>\n",
       "    <tr>\n",
       "      <th>num_procedures</th>\n",
       "      <td>-0.022669</td>\n",
       "      <td>-0.082444</td>\n",
       "      <td>0.188339</td>\n",
       "      <td>0.043834</td>\n",
       "      <td>1.000000</td>\n",
       "      <td>0.400863</td>\n",
       "      <td>-0.018678</td>\n",
       "      <td>-0.035382</td>\n",
       "      <td>-0.023691</td>\n",
       "    </tr>\n",
       "    <tr>\n",
       "      <th>num_medications</th>\n",
       "      <td>0.055483</td>\n",
       "      <td>-0.029145</td>\n",
       "      <td>0.467900</td>\n",
       "      <td>0.258997</td>\n",
       "      <td>0.400863</td>\n",
       "      <td>1.000000</td>\n",
       "      <td>0.027034</td>\n",
       "      <td>0.003194</td>\n",
       "      <td>0.039377</td>\n",
       "    </tr>\n",
       "    <tr>\n",
       "      <th>number_outpatient</th>\n",
       "      <td>0.026203</td>\n",
       "      <td>0.045375</td>\n",
       "      <td>-0.015451</td>\n",
       "      <td>-0.008053</td>\n",
       "      <td>-0.018678</td>\n",
       "      <td>0.027034</td>\n",
       "      <td>1.000000</td>\n",
       "      <td>0.094841</td>\n",
       "      <td>0.068743</td>\n",
       "    </tr>\n",
       "    <tr>\n",
       "      <th>number_emergency</th>\n",
       "      <td>-0.047611</td>\n",
       "      <td>0.024865</td>\n",
       "      <td>-0.010048</td>\n",
       "      <td>0.015458</td>\n",
       "      <td>-0.035382</td>\n",
       "      <td>0.003194</td>\n",
       "      <td>0.094841</td>\n",
       "      <td>1.000000</td>\n",
       "      <td>0.147727</td>\n",
       "    </tr>\n",
       "    <tr>\n",
       "      <th>number_inpatient</th>\n",
       "      <td>0.015395</td>\n",
       "      <td>0.008444</td>\n",
       "      <td>0.063961</td>\n",
       "      <td>0.079723</td>\n",
       "      <td>-0.023691</td>\n",
       "      <td>0.039377</td>\n",
       "      <td>0.068743</td>\n",
       "      <td>0.147727</td>\n",
       "      <td>1.000000</td>\n",
       "    </tr>\n",
       "  </tbody>\n",
       "</table>\n",
       "</div>"
      ],
      "text/plain": [
       "                    age_mapped  max_glu_dummy  time_in_hospital  \\\n",
       "age_mapped            1.000000       0.039471          0.127423   \n",
       "max_glu_dummy         0.039471       1.000000          0.012897   \n",
       "time_in_hospital      0.127423       0.012897          1.000000   \n",
       "num_lab_procedures    0.025128      -0.131848          0.332151   \n",
       "num_procedures       -0.022669      -0.082444          0.188339   \n",
       "num_medications       0.055483      -0.029145          0.467900   \n",
       "number_outpatient     0.026203       0.045375         -0.015451   \n",
       "number_emergency     -0.047611       0.024865         -0.010048   \n",
       "number_inpatient      0.015395       0.008444          0.063961   \n",
       "\n",
       "                    num_lab_procedures  num_procedures  num_medications  \\\n",
       "age_mapped                    0.025128       -0.022669         0.055483   \n",
       "max_glu_dummy                -0.131848       -0.082444        -0.029145   \n",
       "time_in_hospital              0.332151        0.188339         0.467900   \n",
       "num_lab_procedures            1.000000        0.043834         0.258997   \n",
       "num_procedures                0.043834        1.000000         0.400863   \n",
       "num_medications               0.258997        0.400863         1.000000   \n",
       "number_outpatient            -0.008053       -0.018678         0.027034   \n",
       "number_emergency              0.015458       -0.035382         0.003194   \n",
       "number_inpatient              0.079723       -0.023691         0.039377   \n",
       "\n",
       "                    number_outpatient  number_emergency  number_inpatient  \n",
       "age_mapped                   0.026203         -0.047611          0.015395  \n",
       "max_glu_dummy                0.045375          0.024865          0.008444  \n",
       "time_in_hospital            -0.015451         -0.010048          0.063961  \n",
       "num_lab_procedures          -0.008053          0.015458          0.079723  \n",
       "num_procedures              -0.018678         -0.035382         -0.023691  \n",
       "num_medications              0.027034          0.003194          0.039377  \n",
       "number_outpatient            1.000000          0.094841          0.068743  \n",
       "number_emergency             0.094841          1.000000          0.147727  \n",
       "number_inpatient             0.068743          0.147727          1.000000  "
      ]
     },
     "execution_count": 22,
     "metadata": {},
     "output_type": "execute_result"
    }
   ],
   "source": [
    "cleaned_df[['age_mapped','max_glu_dummy','time_in_hospital', 'num_lab_procedures', \n",
    "            'num_procedures','num_medications','number_outpatient', 'number_emergency', 'number_inpatient']].corr()"
   ]
  },
  {
   "cell_type": "code",
   "execution_count": 24,
   "metadata": {},
   "outputs": [
    {
     "name": "stdout",
     "output_type": "stream",
     "text": [
      "Optimization terminated successfully.\n",
      "         Current function value: 0.291692\n",
      "         Iterations 7\n"
     ]
    }
   ],
   "source": [
    "from statsmodels.discrete.discrete_model import Logit\n",
    "from scipy import stats\n",
    "\n",
    "cleaned_features=[\"Caucasian\",\"African_American\",\"Other\",\"Hispanic\",\"Asian\",'gender_d', 'age_mapped', \n",
    "               'dischar_home','admis_source_group',\n",
    "               'time_in_hospital', 'num_lab_procedures', 'num_procedures', \n",
    "               'num_medications','number_outpatient', 'number_emergency', \n",
    "               'number_inpatient', 'CCI', 'number_diagnoses', \n",
    "               'max_glu_dummy', 'A1Cresult_dummy','change_d', 'diabetesMed_d']\n",
    "stats.chisqprob = lambda chisq, cleaned_df: stats.chi2.sf(chisq, cleaned_df)\n",
    "\n",
    "y=np.array(cleaned_df['readmitted_d']).astype(float)\n",
    "X=np.array(cleaned_df[cleaned_features]).astype(float)\n",
    "\n",
    "logit_reg=Logit(y,X)\n",
    "result=logit_reg.fit()"
   ]
  },
  {
   "cell_type": "code",
   "execution_count": 25,
   "metadata": {},
   "outputs": [
    {
     "data": {
      "text/html": [
       "<table class=\"simpletable\">\n",
       "<caption>Logit Regression Results</caption>\n",
       "<tr>\n",
       "  <th>Dep. Variable:</th>         <td>y</td>        <th>  No. Observations:  </th>   <td> 69970</td>  \n",
       "</tr>\n",
       "<tr>\n",
       "  <th>Model:</th>               <td>Logit</td>      <th>  Df Residuals:      </th>   <td> 69948</td>  \n",
       "</tr>\n",
       "<tr>\n",
       "  <th>Method:</th>               <td>MLE</td>       <th>  Df Model:          </th>   <td>    21</td>  \n",
       "</tr>\n",
       "<tr>\n",
       "  <th>Date:</th>          <td>Wed, 08 Aug 2018</td> <th>  Pseudo R-squ.:     </th>   <td>0.03371</td> \n",
       "</tr>\n",
       "<tr>\n",
       "  <th>Time:</th>              <td>21:50:59</td>     <th>  Log-Likelihood:    </th>  <td> -20410.</td> \n",
       "</tr>\n",
       "<tr>\n",
       "  <th>converged:</th>           <td>True</td>       <th>  LL-Null:           </th>  <td> -21122.</td> \n",
       "</tr>\n",
       "<tr>\n",
       "  <th> </th>                      <td> </td>        <th>  LLR p-value:       </th> <td>7.442e-289</td>\n",
       "</tr>\n",
       "</table>\n",
       "<table class=\"simpletable\">\n",
       "<tr>\n",
       "   <td></td>      <th>coef</th>     <th>std err</th>      <th>z</th>      <th>P>|z|</th>  <th>[0.025</th>    <th>0.975]</th>  \n",
       "</tr>\n",
       "<tr>\n",
       "  <th>x1</th>  <td>   -3.1013</td> <td>    0.108</td> <td>  -28.829</td> <td> 0.000</td> <td>   -3.312</td> <td>   -2.890</td>\n",
       "</tr>\n",
       "<tr>\n",
       "  <th>x2</th>  <td>   -3.0731</td> <td>    0.106</td> <td>  -29.018</td> <td> 0.000</td> <td>   -3.281</td> <td>   -2.866</td>\n",
       "</tr>\n",
       "<tr>\n",
       "  <th>x3</th>  <td>   -3.2800</td> <td>    0.126</td> <td>  -25.947</td> <td> 0.000</td> <td>   -3.528</td> <td>   -3.032</td>\n",
       "</tr>\n",
       "<tr>\n",
       "  <th>x4</th>  <td>   -3.1283</td> <td>    0.138</td> <td>  -22.613</td> <td> 0.000</td> <td>   -3.399</td> <td>   -2.857</td>\n",
       "</tr>\n",
       "<tr>\n",
       "  <th>x5</th>  <td>   -3.0864</td> <td>    0.194</td> <td>  -15.871</td> <td> 0.000</td> <td>   -3.468</td> <td>   -2.705</td>\n",
       "</tr>\n",
       "<tr>\n",
       "  <th>x6</th>  <td>    0.0357</td> <td>    0.027</td> <td>    1.316</td> <td> 0.188</td> <td>   -0.017</td> <td>    0.089</td>\n",
       "</tr>\n",
       "<tr>\n",
       "  <th>x7</th>  <td>    0.0488</td> <td>    0.010</td> <td>    5.131</td> <td> 0.000</td> <td>    0.030</td> <td>    0.067</td>\n",
       "</tr>\n",
       "<tr>\n",
       "  <th>x8</th>  <td>   -0.6365</td> <td>    0.030</td> <td>  -21.395</td> <td> 0.000</td> <td>   -0.695</td> <td>   -0.578</td>\n",
       "</tr>\n",
       "<tr>\n",
       "  <th>x9</th>  <td>   -0.0237</td> <td>    0.024</td> <td>   -0.995</td> <td> 0.320</td> <td>   -0.070</td> <td>    0.023</td>\n",
       "</tr>\n",
       "<tr>\n",
       "  <th>x10</th> <td>    0.0173</td> <td>    0.005</td> <td>    3.326</td> <td> 0.001</td> <td>    0.007</td> <td>    0.028</td>\n",
       "</tr>\n",
       "<tr>\n",
       "  <th>x11</th> <td>    0.0020</td> <td>    0.001</td> <td>    2.603</td> <td> 0.009</td> <td>    0.001</td> <td>    0.004</td>\n",
       "</tr>\n",
       "<tr>\n",
       "  <th>x12</th> <td>    0.0015</td> <td>    0.009</td> <td>    0.169</td> <td> 0.866</td> <td>   -0.016</td> <td>    0.019</td>\n",
       "</tr>\n",
       "<tr>\n",
       "  <th>x13</th> <td>    0.0025</td> <td>    0.002</td> <td>    1.235</td> <td> 0.217</td> <td>   -0.001</td> <td>    0.007</td>\n",
       "</tr>\n",
       "<tr>\n",
       "  <th>x14</th> <td>   -0.0028</td> <td>    0.012</td> <td>   -0.239</td> <td> 0.811</td> <td>   -0.026</td> <td>    0.021</td>\n",
       "</tr>\n",
       "<tr>\n",
       "  <th>x15</th> <td>    0.0724</td> <td>    0.021</td> <td>    3.474</td> <td> 0.001</td> <td>    0.032</td> <td>    0.113</td>\n",
       "</tr>\n",
       "<tr>\n",
       "  <th>x16</th> <td>    0.3444</td> <td>    0.016</td> <td>   21.336</td> <td> 0.000</td> <td>    0.313</td> <td>    0.376</td>\n",
       "</tr>\n",
       "<tr>\n",
       "  <th>x17</th> <td>    0.0685</td> <td>    0.008</td> <td>    9.106</td> <td> 0.000</td> <td>    0.054</td> <td>    0.083</td>\n",
       "</tr>\n",
       "<tr>\n",
       "  <th>x18</th> <td>    0.0448</td> <td>    0.008</td> <td>    5.806</td> <td> 0.000</td> <td>    0.030</td> <td>    0.060</td>\n",
       "</tr>\n",
       "<tr>\n",
       "  <th>x19</th> <td>    0.0971</td> <td>    0.064</td> <td>    1.507</td> <td> 0.132</td> <td>   -0.029</td> <td>    0.223</td>\n",
       "</tr>\n",
       "<tr>\n",
       "  <th>x20</th> <td>   -0.0891</td> <td>    0.037</td> <td>   -2.393</td> <td> 0.017</td> <td>   -0.162</td> <td>   -0.016</td>\n",
       "</tr>\n",
       "<tr>\n",
       "  <th>x21</th> <td>   -0.0275</td> <td>    0.031</td> <td>   -0.878</td> <td> 0.380</td> <td>   -0.089</td> <td>    0.034</td>\n",
       "</tr>\n",
       "<tr>\n",
       "  <th>x22</th> <td>    0.2322</td> <td>    0.038</td> <td>    6.102</td> <td> 0.000</td> <td>    0.158</td> <td>    0.307</td>\n",
       "</tr>\n",
       "</table>"
      ],
      "text/plain": [
       "<class 'statsmodels.iolib.summary.Summary'>\n",
       "\"\"\"\n",
       "                           Logit Regression Results                           \n",
       "==============================================================================\n",
       "Dep. Variable:                      y   No. Observations:                69970\n",
       "Model:                          Logit   Df Residuals:                    69948\n",
       "Method:                           MLE   Df Model:                           21\n",
       "Date:                Wed, 08 Aug 2018   Pseudo R-squ.:                 0.03371\n",
       "Time:                        21:50:59   Log-Likelihood:                -20410.\n",
       "converged:                       True   LL-Null:                       -21122.\n",
       "                                        LLR p-value:                7.442e-289\n",
       "==============================================================================\n",
       "                 coef    std err          z      P>|z|      [0.025      0.975]\n",
       "------------------------------------------------------------------------------\n",
       "x1            -3.1013      0.108    -28.829      0.000      -3.312      -2.890\n",
       "x2            -3.0731      0.106    -29.018      0.000      -3.281      -2.866\n",
       "x3            -3.2800      0.126    -25.947      0.000      -3.528      -3.032\n",
       "x4            -3.1283      0.138    -22.613      0.000      -3.399      -2.857\n",
       "x5            -3.0864      0.194    -15.871      0.000      -3.468      -2.705\n",
       "x6             0.0357      0.027      1.316      0.188      -0.017       0.089\n",
       "x7             0.0488      0.010      5.131      0.000       0.030       0.067\n",
       "x8            -0.6365      0.030    -21.395      0.000      -0.695      -0.578\n",
       "x9            -0.0237      0.024     -0.995      0.320      -0.070       0.023\n",
       "x10            0.0173      0.005      3.326      0.001       0.007       0.028\n",
       "x11            0.0020      0.001      2.603      0.009       0.001       0.004\n",
       "x12            0.0015      0.009      0.169      0.866      -0.016       0.019\n",
       "x13            0.0025      0.002      1.235      0.217      -0.001       0.007\n",
       "x14           -0.0028      0.012     -0.239      0.811      -0.026       0.021\n",
       "x15            0.0724      0.021      3.474      0.001       0.032       0.113\n",
       "x16            0.3444      0.016     21.336      0.000       0.313       0.376\n",
       "x17            0.0685      0.008      9.106      0.000       0.054       0.083\n",
       "x18            0.0448      0.008      5.806      0.000       0.030       0.060\n",
       "x19            0.0971      0.064      1.507      0.132      -0.029       0.223\n",
       "x20           -0.0891      0.037     -2.393      0.017      -0.162      -0.016\n",
       "x21           -0.0275      0.031     -0.878      0.380      -0.089       0.034\n",
       "x22            0.2322      0.038      6.102      0.000       0.158       0.307\n",
       "==============================================================================\n",
       "\"\"\""
      ]
     },
     "execution_count": 25,
     "metadata": {},
     "output_type": "execute_result"
    }
   ],
   "source": [
    "result.summary()"
   ]
  },
  {
   "cell_type": "markdown",
   "metadata": {
    "collapsed": true
   },
   "source": [
    "### Step 4. Machine Learning"
   ]
  },
  {
   "cell_type": "code",
   "execution_count": 26,
   "metadata": {},
   "outputs": [
    {
     "data": {
      "text/html": [
       "<div>\n",
       "<style scoped>\n",
       "    .dataframe tbody tr th:only-of-type {\n",
       "        vertical-align: middle;\n",
       "    }\n",
       "\n",
       "    .dataframe tbody tr th {\n",
       "        vertical-align: top;\n",
       "    }\n",
       "\n",
       "    .dataframe thead th {\n",
       "        text-align: right;\n",
       "    }\n",
       "</style>\n",
       "<table border=\"1\" class=\"dataframe\">\n",
       "  <thead>\n",
       "    <tr style=\"text-align: right;\">\n",
       "      <th></th>\n",
       "      <th>Caucasian</th>\n",
       "      <th>African_American</th>\n",
       "      <th>Other</th>\n",
       "      <th>Hispanic</th>\n",
       "      <th>Asian</th>\n",
       "      <th>gender_d</th>\n",
       "      <th>age_mapped</th>\n",
       "      <th>dischar_home</th>\n",
       "      <th>admis_source_group</th>\n",
       "      <th>time_in_hospital</th>\n",
       "      <th>...</th>\n",
       "      <th>num_medications</th>\n",
       "      <th>number_outpatient</th>\n",
       "      <th>number_emergency</th>\n",
       "      <th>number_inpatient</th>\n",
       "      <th>CCI</th>\n",
       "      <th>number_diagnoses</th>\n",
       "      <th>max_glu_dummy</th>\n",
       "      <th>A1Cresult_dummy</th>\n",
       "      <th>change_d</th>\n",
       "      <th>diabetesMed_d</th>\n",
       "    </tr>\n",
       "  </thead>\n",
       "  <tbody>\n",
       "    <tr>\n",
       "      <th>mean</th>\n",
       "      <td>0.747349</td>\n",
       "      <td>0.180434</td>\n",
       "      <td>0.043804</td>\n",
       "      <td>0.021438</td>\n",
       "      <td>0.006974</td>\n",
       "      <td>0.467929</td>\n",
       "      <td>7.044005</td>\n",
       "      <td>0.752851</td>\n",
       "      <td>1.540131</td>\n",
       "      <td>4.27326</td>\n",
       "      <td>...</td>\n",
       "      <td>15.665228</td>\n",
       "      <td>0.279548</td>\n",
       "      <td>0.103916</td>\n",
       "      <td>0.176261</td>\n",
       "      <td>1.576876</td>\n",
       "      <td>7.223796</td>\n",
       "      <td>0.047849</td>\n",
       "      <td>0.183579</td>\n",
       "      <td>0.450036</td>\n",
       "      <td>0.761626</td>\n",
       "    </tr>\n",
       "    <tr>\n",
       "      <th>min</th>\n",
       "      <td>0.000000</td>\n",
       "      <td>0.000000</td>\n",
       "      <td>0.000000</td>\n",
       "      <td>0.000000</td>\n",
       "      <td>0.000000</td>\n",
       "      <td>0.000000</td>\n",
       "      <td>1.000000</td>\n",
       "      <td>0.000000</td>\n",
       "      <td>1.000000</td>\n",
       "      <td>1.00000</td>\n",
       "      <td>...</td>\n",
       "      <td>1.000000</td>\n",
       "      <td>0.000000</td>\n",
       "      <td>0.000000</td>\n",
       "      <td>0.000000</td>\n",
       "      <td>0.000000</td>\n",
       "      <td>1.000000</td>\n",
       "      <td>0.000000</td>\n",
       "      <td>0.000000</td>\n",
       "      <td>0.000000</td>\n",
       "      <td>0.000000</td>\n",
       "    </tr>\n",
       "    <tr>\n",
       "      <th>max</th>\n",
       "      <td>1.000000</td>\n",
       "      <td>1.000000</td>\n",
       "      <td>1.000000</td>\n",
       "      <td>1.000000</td>\n",
       "      <td>1.000000</td>\n",
       "      <td>1.000000</td>\n",
       "      <td>10.000000</td>\n",
       "      <td>1.000000</td>\n",
       "      <td>3.000000</td>\n",
       "      <td>14.00000</td>\n",
       "      <td>...</td>\n",
       "      <td>81.000000</td>\n",
       "      <td>42.000000</td>\n",
       "      <td>42.000000</td>\n",
       "      <td>12.000000</td>\n",
       "      <td>18.000000</td>\n",
       "      <td>16.000000</td>\n",
       "      <td>1.000000</td>\n",
       "      <td>1.000000</td>\n",
       "      <td>1.000000</td>\n",
       "      <td>1.000000</td>\n",
       "    </tr>\n",
       "  </tbody>\n",
       "</table>\n",
       "<p>3 rows × 22 columns</p>\n",
       "</div>"
      ],
      "text/plain": [
       "      Caucasian  African_American     Other  Hispanic     Asian  gender_d  \\\n",
       "mean   0.747349          0.180434  0.043804  0.021438  0.006974  0.467929   \n",
       "min    0.000000          0.000000  0.000000  0.000000  0.000000  0.000000   \n",
       "max    1.000000          1.000000  1.000000  1.000000  1.000000  1.000000   \n",
       "\n",
       "      age_mapped  dischar_home  admis_source_group  time_in_hospital  \\\n",
       "mean    7.044005      0.752851            1.540131           4.27326   \n",
       "min     1.000000      0.000000            1.000000           1.00000   \n",
       "max    10.000000      1.000000            3.000000          14.00000   \n",
       "\n",
       "          ...        num_medications  number_outpatient  number_emergency  \\\n",
       "mean      ...              15.665228           0.279548          0.103916   \n",
       "min       ...               1.000000           0.000000          0.000000   \n",
       "max       ...              81.000000          42.000000         42.000000   \n",
       "\n",
       "      number_inpatient        CCI  number_diagnoses  max_glu_dummy  \\\n",
       "mean          0.176261   1.576876          7.223796       0.047849   \n",
       "min           0.000000   0.000000          1.000000       0.000000   \n",
       "max          12.000000  18.000000         16.000000       1.000000   \n",
       "\n",
       "      A1Cresult_dummy  change_d  diabetesMed_d  \n",
       "mean         0.183579  0.450036       0.761626  \n",
       "min          0.000000  0.000000       0.000000  \n",
       "max          1.000000  1.000000       1.000000  \n",
       "\n",
       "[3 rows x 22 columns]"
      ]
     },
     "execution_count": 26,
     "metadata": {},
     "output_type": "execute_result"
    }
   ],
   "source": [
    "ml_df=cleaned_df[cleaned_features]\n",
    "ml_df.describe().loc[['mean','min','max']]"
   ]
  },
  {
   "cell_type": "code",
   "execution_count": 27,
   "metadata": {
    "collapsed": true
   },
   "outputs": [],
   "source": [
    "from sklearn.linear_model import LogisticRegression\n",
    "from sklearn.linear_model import SGDClassifier #linear SVM\n",
    "from sklearn.naive_bayes import GaussianNB#naive bayes\n",
    "from sklearn.ensemble import VotingClassifier\n",
    "from sklearn.ensemble import RandomForestClassifier\n",
    "from sklearn.svm import SVC\n",
    "from sklearn.model_selection import train_test_split\n",
    "\n",
    "X_train, X_test, y_train, y_test = train_test_split(X,y,random_state=22)"
   ]
  },
  {
   "cell_type": "code",
   "execution_count": 28,
   "metadata": {},
   "outputs": [
    {
     "name": "stdout",
     "output_type": "stream",
     "text": [
      "[[47754     0]\n",
      " [    4  4719]]\n",
      "[[14490  1360]\n",
      " [ 1445   198]]\n",
      "             precision    recall  f1-score   support\n",
      "\n",
      "          0       0.91      0.91      0.91     15850\n",
      "          1       0.13      0.12      0.12      1643\n",
      "\n",
      "avg / total       0.84      0.84      0.84     17493\n",
      "\n"
     ]
    }
   ],
   "source": [
    "''' First try a simple decision tree classifier '''\n",
    "from sklearn.tree import DecisionTreeClassifier\n",
    "from sklearn.metrics import confusion_matrix\n",
    "from sklearn.metrics import classification_report\n",
    "\n",
    "X=np.array(ml_df)\n",
    "y=np.array(cleaned_df['readmitted_d'])\n",
    "\n",
    "X_train, X_test, y_train, y_test = train_test_split(X,y,random_state=22)\n",
    "\n",
    "dt_clf=DecisionTreeClassifier(class_weight=\"balanced\")\n",
    "dt_clf.fit(X_train,y_train)\n",
    "print(confusion_matrix(dt_clf.predict(X_train),y_train))\n",
    "print(confusion_matrix(dt_clf.predict(X_test),y_test))\n",
    "print(classification_report(dt_clf.predict(X_test),y_test)) # obvious overfitting"
   ]
  },
  {
   "cell_type": "code",
   "execution_count": 29,
   "metadata": {},
   "outputs": [
    {
     "name": "stdout",
     "output_type": "stream",
     "text": [
      "[[39945   363]\n",
      " [ 7813  4356]]\n",
      "[[12292  1103]\n",
      " [ 3643   455]]\n",
      "             precision    recall  f1-score   support\n",
      "\n",
      "          0       0.77      0.92      0.84     13395\n",
      "          1       0.29      0.11      0.16      4098\n",
      "\n",
      "avg / total       0.66      0.73      0.68     17493\n",
      "\n"
     ]
    },
    {
     "data": {
      "text/plain": [
       "\" pruning doesn't help a lot; there might be issues with noise or interaction terms \""
      ]
     },
     "execution_count": 29,
     "metadata": {},
     "output_type": "execute_result"
    }
   ],
   "source": [
    "dt_clf=DecisionTreeClassifier(max_depth=20,class_weight=\"balanced\")\n",
    "dt_clf.fit(X_train,y_train)\n",
    "print(confusion_matrix(dt_clf.predict(X_train),y_train))\n",
    "print(confusion_matrix(dt_clf.predict(X_test),y_test))\n",
    "print(classification_report(dt_clf.predict(X_test),y_test)) \n",
    "''' pruning doesn't help a lot; there might be issues with noise or interaction terms '''"
   ]
  },
  {
   "cell_type": "code",
   "execution_count": 30,
   "metadata": {},
   "outputs": [
    {
     "name": "stdout",
     "output_type": "stream",
     "text": [
      "[[39772   136]\n",
      " [ 7986  4583]]\n",
      "[[12521  1191]\n",
      " [ 3414   367]]\n",
      "             precision    recall  f1-score   support\n",
      "\n",
      "          0       0.79      0.91      0.84     13712\n",
      "          1       0.24      0.10      0.14      3781\n",
      "\n",
      "avg / total       0.67      0.74      0.69     17493\n",
      "\n"
     ]
    }
   ],
   "source": [
    "''' Try Solutoin 1: Feature selection '''\n",
    "from sklearn.feature_selection import SelectKBest\n",
    "from sklearn.feature_selection import chi2\n",
    "\n",
    "X_1 = SelectKBest(chi2, k=5).fit_transform(X, y)\n",
    "X_train, X_test, y_train, y_test = train_test_split(X_1,y,random_state=22)\n",
    "\n",
    "dt_clf=DecisionTreeClassifier(max_depth=25,class_weight=\"balanced\")\n",
    "dt_clf.fit(X_train,y_train)\n",
    "print(confusion_matrix(dt_clf.predict(X_train),y_train))\n",
    "print(confusion_matrix(dt_clf.predict(X_test),y_test))\n",
    "print(classification_report(dt_clf.predict(X_test),y_test)) "
   ]
  },
  {
   "cell_type": "code",
   "execution_count": 31,
   "metadata": {},
   "outputs": [
    {
     "name": "stdout",
     "output_type": "stream",
     "text": [
      "[[36849   705]\n",
      " [10909  4014]]\n",
      "[[11678  1106]\n",
      " [ 4257   452]]\n",
      "             precision    recall  f1-score   support\n",
      "\n",
      "          0       0.73      0.91      0.81     12784\n",
      "          1       0.29      0.10      0.14      4709\n",
      "\n",
      "avg / total       0.61      0.69      0.63     17493\n",
      "\n"
     ]
    }
   ],
   "source": [
    "''' Try Solution 2: Polynomial Terms '''\n",
    "from sklearn.preprocessing import PolynomialFeatures\n",
    "\n",
    "poly = PolynomialFeatures(2)\n",
    "X_poly=poly.fit_transform(X) #276 features\n",
    "\n",
    "X_2 = SelectKBest(chi2, k=5).fit_transform(X_poly, y)\n",
    "X_train, X_test, y_train, y_test = train_test_split(X_2,y,random_state=22)\n",
    "\n",
    "dt_clf=DecisionTreeClassifier(max_depth=25,class_weight=\"balanced\")\n",
    "dt_clf.fit(X_train,y_train)\n",
    "print(confusion_matrix(dt_clf.predict(X_train),y_train))\n",
    "print(confusion_matrix(dt_clf.predict(X_test),y_test))\n",
    "print(classification_report(dt_clf.predict(X_test),y_test)) "
   ]
  },
  {
   "cell_type": "markdown",
   "metadata": {
    "collapsed": true
   },
   "source": [
    "### Step 4-2. Data Wrangling Updates\n",
    "\n",
    "In hope to find additional information that was missing with data wrangling"
   ]
  },
  {
   "cell_type": "code",
   "execution_count": 32,
   "metadata": {},
   "outputs": [
    {
     "data": {
      "text/plain": [
       "(101766, 31)"
      ]
     },
     "execution_count": 32,
     "metadata": {},
     "output_type": "execute_result"
    }
   ],
   "source": [
    "df_raw2=df_raw[['medical_specialty','diag_1',\n",
    "       'diag_2', 'diag_3', 'max_glu_serum', 'A1Cresult',\n",
    "       'metformin', 'repaglinide', 'nateglinide', 'chlorpropamide',\n",
    "       'glimepiride', 'acetohexamide', 'glipizide', 'glyburide', 'tolbutamide',\n",
    "       'pioglitazone', 'rosiglitazone', 'acarbose', 'miglitol', 'troglitazone',\n",
    "       'tolazamide', 'examide', 'citoglipton', 'insulin',\n",
    "       'glyburide-metformin', 'glipizide-metformin',\n",
    "       'glimepiride-pioglitazone', 'metformin-rosiglitazone',\n",
    "       'metformin-pioglitazone', 'change', 'diabetesMed']]\n",
    "df_raw2.shape"
   ]
  },
  {
   "cell_type": "code",
   "execution_count": 33,
   "metadata": {},
   "outputs": [
    {
     "data": {
      "text/plain": [
       "(69970, 56)"
      ]
     },
     "execution_count": 33,
     "metadata": {},
     "output_type": "execute_result"
    }
   ],
   "source": [
    "new_df=df_raw2.merge(cleaned_df,how='right', left_index=True,right_index=True)\n",
    "new_df.shape"
   ]
  },
  {
   "cell_type": "code",
   "execution_count": 34,
   "metadata": {
    "collapsed": true
   },
   "outputs": [],
   "source": [
    "''' Add new information about whether the drugs were up or down '''\n",
    "\n",
    "drugs_df=new_df[['metformin', 'repaglinide', 'nateglinide', 'chlorpropamide',\n",
    "       'glimepiride', 'acetohexamide', 'glipizide', 'glyburide', 'tolbutamide',\n",
    "       'pioglitazone', 'rosiglitazone', 'acarbose', 'miglitol', 'troglitazone',\n",
    "       'tolazamide', 'examide', 'citoglipton', 'insulin',\n",
    "       'glyburide-metformin', 'glipizide-metformin',\n",
    "       'glimepiride-pioglitazone', 'metformin-rosiglitazone',\n",
    "       'metformin-pioglitazone']]\n",
    "up_df=drugs_df.isin(['Up'])\n",
    "down_df=drugs_df.isin(['Down'])\n",
    "new_df['med_up']=up_df.sum(axis=1)\n",
    "new_df['med_down']=down_df.sum(axis=1)"
   ]
  },
  {
   "cell_type": "code",
   "execution_count": 35,
   "metadata": {
    "collapsed": true
   },
   "outputs": [],
   "source": [
    "''' Add new information about the physician specialty '''\n",
    "def specialty_transf(string): \n",
    "    if string=='?': \n",
    "        return 'unknown'\n",
    "    if string=='InternalMedicine':\n",
    "        return 'inter_med'\n",
    "    if string=='Emergency/Trauma':\n",
    "        return 'emergency'\n",
    "    if string== 'Family/GeneralPractice':\n",
    "        return 'general'\n",
    "    if string.startswith('Surgery'): \n",
    "        return 'surgery'\n",
    "    if string== 'Cardiology':\n",
    "        return 'Cardiology'\n",
    "    else:\n",
    "        return 'Other_Spec'\n",
    "\n",
    "new_df['specialty_trans']=new_df['medical_specialty'].apply(specialty_transf)"
   ]
  },
  {
   "cell_type": "code",
   "execution_count": 41,
   "metadata": {
    "collapsed": true
   },
   "outputs": [],
   "source": [
    "''' Add new information about the disease '''\n",
    "new_df['circul1']=new_df['diag_1'].str.match(r'(39[0-9][.]?\\d?\\d?)|(4[0-5][0-9][.]?\\d?\\d?)|(785[.]?\\d?\\d?)')\n",
    "new_df['circul1']= new_df['circul1'].apply(np.sum)\n",
    "new_df['respir1']=new_df['diag_1'].str.match(r'(4[6-9][0-9][.]? \\d? \\d?)|(5[0-1][0-9][.]? \\d? \\d? |(786[.]? \\d? \\d?))')\n",
    "new_df['respir1']= new_df['respir1'].apply(np.sum)\n",
    "\n",
    "new_df['circul2']=new_df['diag_2'].str.match(r'(39[0-9][.]?\\d?\\d?)|(4[0-5][0-9][.]?\\d?\\d?)|(785[.]?\\d?\\d?)')\n",
    "new_df['circul2']= new_df['circul2'].apply(np.sum)\n",
    "new_df['respir2']=new_df['diag_2'].str.match(r'(4[6-9][0-9][.]? \\d? \\d?)|(5[0-1][0-9][.]? \\d? \\d? |(786[.]? \\d? \\d?))')\n",
    "new_df['respir2']= new_df['respir2'].apply(np.sum)\n",
    "\n",
    "new_df['circul3']=new_df['diag_3'].str.match(r'(39[0-9][.]?\\d?\\d?)|(4[0-5][0-9][.]?\\d?\\d?)|(785[.]?\\d?\\d?)')\n",
    "new_df['circul3']= new_df['circul3'].apply(np.sum)\n",
    "new_df['respir3']=new_df['diag_3'].str.match(r'(4[6-9][0-9][.]? \\d? \\d?)|(5[0-1][0-9][.]? \\d? \\d? |(786[.]? \\d? \\d?))')\n",
    "new_df['respir3']= new_df['respir3'].apply(np.sum)\n",
    "\n",
    "new_df['circul']=new_df['circul1']+new_df['circul2']+new_df['circul3']\n",
    "new_df['circulatory']=new_df['circul'].apply(lambda x:1 if x>0 else 0)\n",
    "new_df['respir']=new_df['circul1']+new_df['circul2']+new_df['circul3']\n",
    "new_df['respiratory']=new_df['respir'].apply(lambda x:1 if x>0 else 0)"
   ]
  },
  {
   "cell_type": "code",
   "execution_count": 42,
   "metadata": {},
   "outputs": [
    {
     "data": {
      "text/plain": [
       "3    58642\n",
       "2    10641\n",
       "1      687\n",
       "Name: age_update, dtype: int64"
      ]
     },
     "execution_count": 42,
     "metadata": {},
     "output_type": "execute_result"
    }
   ],
   "source": [
    "''' Group Age into below 30,30-60,and 60 above '''\n",
    "def age_transf(string):\n",
    "    if string in (0,1,2):\n",
    "        return 1\n",
    "    if string in (3,4,5):\n",
    "        return 2\n",
    "    if string in (6,7,8,9,10): \n",
    "        return 3\n",
    "\n",
    "new_df['age_update']=new_df['age_mapped'].apply(age_transf)\n",
    "new_df['age_update'].value_counts()"
   ]
  },
  {
   "cell_type": "code",
   "execution_count": 43,
   "metadata": {
    "collapsed": true
   },
   "outputs": [],
   "source": [
    "encode_features=['max_glu_serum','A1Cresult','specialty_trans']\n",
    "df_temp=pd.get_dummies(new_df[encode_features])\n",
    "df_temp.columns\n",
    "new_df[['max_glu_serum_>200', 'max_glu_serum_>300', 'max_glu_serum_None',\n",
    "        'max_glu_serum_Norm', 'A1Cresult_>7', 'A1Cresult_>8', 'A1Cresult_None',\n",
    "        'A1Cresult_Norm','specialty_trans_Other_Spec', 'specialty_trans_emergency',\n",
    "        'specialty_trans_Cardiology','specialty_trans_general', 'specialty_trans_inter_med',\n",
    "        'specialty_trans_surgery','specialty_trans_unknown']]=pd.get_dummies(new_df[encode_features])"
   ]
  },
  {
   "cell_type": "code",
   "execution_count": 44,
   "metadata": {},
   "outputs": [
    {
     "data": {
      "text/plain": [
       "Index(['medical_specialty', 'diag_1', 'diag_2', 'diag_3', 'max_glu_serum',\n",
       "       'A1Cresult', 'metformin', 'repaglinide', 'nateglinide',\n",
       "       'chlorpropamide', 'glimepiride', 'acetohexamide', 'glipizide',\n",
       "       'glyburide', 'tolbutamide', 'pioglitazone', 'rosiglitazone', 'acarbose',\n",
       "       'miglitol', 'troglitazone', 'tolazamide', 'examide', 'citoglipton',\n",
       "       'insulin', 'glyburide-metformin', 'glipizide-metformin',\n",
       "       'glimepiride-pioglitazone', 'metformin-rosiglitazone',\n",
       "       'metformin-pioglitazone', 'change', 'diabetesMed', 'race', 'Caucasian',\n",
       "       'African_American', 'Other', 'Hispanic', 'Asian', 'gender', 'gender_d',\n",
       "       'age_mapped', 'dischar_home', 'admis_source_group', 'time_in_hospital',\n",
       "       'num_lab_procedures', 'num_procedures', 'num_medications',\n",
       "       'number_outpatient', 'number_emergency', 'number_inpatient', 'CCI',\n",
       "       'number_diagnoses', 'max_glu_dummy', 'A1Cresult_dummy', 'change_d',\n",
       "       'diabetesMed_d', 'readmitted_d', 'med_up', 'med_down',\n",
       "       'specialty_trans', 'circul1', 'respir1', 'circul2', 'respir2',\n",
       "       'circul3', 'respir3', 'circul', 'circulatory', 'respir', 'respiraroty',\n",
       "       'age_update', 'max_glu_serum_>200', 'max_glu_serum_>300',\n",
       "       'max_glu_serum_None', 'max_glu_serum_Norm', 'A1Cresult_>7',\n",
       "       'A1Cresult_>8', 'A1Cresult_None', 'A1Cresult_Norm',\n",
       "       'specialty_trans_Other_Spec', 'specialty_trans_emergency',\n",
       "       'specialty_trans_Cardiology', 'specialty_trans_general',\n",
       "       'specialty_trans_inter_med', 'specialty_trans_surgery',\n",
       "       'specialty_trans_unknown', 'respiratory'],\n",
       "      dtype='object')"
      ]
     },
     "execution_count": 44,
     "metadata": {},
     "output_type": "execute_result"
    }
   ],
   "source": [
    "new_df.columns"
   ]
  },
  {
   "cell_type": "code",
   "execution_count": 45,
   "metadata": {},
   "outputs": [],
   "source": [
    "updated_features=['Caucasian','African_American', 'Other', 'Hispanic', 'Asian',\n",
    "                 'dischar_home', 'admis_source_group', 'time_in_hospital',\n",
    "                  'num_lab_procedures', 'num_procedures', 'num_medications',\n",
    "                  'number_outpatient', 'number_emergency', 'number_inpatient', 'CCI',\n",
    "                  'number_diagnoses','change_d','diabetesMed_d','med_up', 'med_down',\n",
    "                  'circulatory', 'respiratory', 'age_update',\n",
    "                  'max_glu_serum_>200','max_glu_serum_>300', 'max_glu_serum_None', \n",
    "                  'max_glu_serum_Norm','A1Cresult_>7', 'A1Cresult_>8', \n",
    "                  'A1Cresult_None', 'A1Cresult_Norm','specialty_trans_Other_Spec', \n",
    "                  'specialty_trans_emergency','specialty_trans_Cardiology', \n",
    "                  'specialty_trans_general','specialty_trans_inter_med', \n",
    "                  'specialty_trans_surgery','specialty_trans_unknown']\n",
    "df_updated=new_df[updated_features]"
   ]
  },
  {
   "cell_type": "code",
   "execution_count": 46,
   "metadata": {
    "collapsed": true
   },
   "outputs": [],
   "source": [
    "try_features=['num_medications','specialty_trans_emergency','specialty_trans_surgery',\n",
    "             'dischar_home','med_up', 'med_down','A1Cresult_>8', 'admis_source_group']\n",
    "df_try=df_updated[try_features]"
   ]
  },
  {
   "cell_type": "code",
   "execution_count": 55,
   "metadata": {
    "collapsed": true
   },
   "outputs": [],
   "source": [
    "from sklearn.tree import DecisionTreeClassifier\n",
    "from sklearn.model_selection import train_test_split\n",
    "\n",
    "X=np.array(df_updated)\n",
    "y=np.array(new_df['readmitted_d'])\n",
    "\n",
    "X_train, X_test, y_train, y_test = train_test_split(X,y,random_state=22)"
   ]
  },
  {
   "cell_type": "code",
   "execution_count": 56,
   "metadata": {},
   "outputs": [
    {
     "name": "stdout",
     "output_type": "stream",
     "text": [
      "[[43247    43]\n",
      " [ 4511  4676]]\n",
      "[[13108  1214]\n",
      " [ 2827   344]]\n",
      "             precision    recall  f1-score   support\n",
      "\n",
      "          0       0.82      0.92      0.87     14322\n",
      "          1       0.22      0.11      0.15      3171\n",
      "\n",
      "avg / total       0.71      0.77      0.74     17493\n",
      "\n"
     ]
    }
   ],
   "source": [
    "dt_clf=DecisionTreeClassifier(max_depth=25,class_weight=\"balanced\")\n",
    "dt_clf.fit(X_train,y_train)\n",
    "print(confusion_matrix(dt_clf.predict(X_train),y_train))\n",
    "print(confusion_matrix(dt_clf.predict(X_test),y_test))\n",
    "print(classification_report(dt_clf.predict(X_test),y_test))"
   ]
  },
  {
   "cell_type": "code",
   "execution_count": 57,
   "metadata": {},
   "outputs": [
    {
     "name": "stdout",
     "output_type": "stream",
     "text": [
      "[[47560   375]\n",
      " [  198  4344]]\n",
      "[[15775  1525]\n",
      " [  160    33]]\n",
      "             precision    recall  f1-score   support\n",
      "\n",
      "          0       0.99      0.91      0.95     17300\n",
      "          1       0.02      0.17      0.04       193\n",
      "\n",
      "avg / total       0.98      0.90      0.94     17493\n",
      "\n"
     ]
    }
   ],
   "source": [
    "rf_clf=RandomForestClassifier(max_depth=25,n_estimators=25,max_features=5,class_weight=\"balanced\")\n",
    "rf_clf.fit(X_train,y_train)\n",
    "print(confusion_matrix(rf_clf.predict(X_train),y_train))\n",
    "print(confusion_matrix(rf_clf.predict(X_test),y_test))\n",
    "print(classification_report(rf_clf.predict(X_test),y_test))"
   ]
  },
  {
   "cell_type": "markdown",
   "metadata": {},
   "source": [
    "#### It proves that if you have many noises in your data, RandomForest does poorer than DecisionTree."
   ]
  },
  {
   "cell_type": "code",
   "execution_count": 64,
   "metadata": {},
   "outputs": [
    {
     "name": "stdout",
     "output_type": "stream",
     "text": [
      "[[30745    78]\n",
      " [ 5069  3465]]\n",
      "[[9631  967]\n",
      " [2313  209]]\n",
      "             precision    recall  f1-score   support\n",
      "\n",
      "          0       0.81      0.91      0.85     10598\n",
      "          1       0.18      0.08      0.11      2522\n",
      "\n",
      "avg / total       0.69      0.75      0.71     13120\n",
      "\n"
     ]
    }
   ],
   "source": [
    "''' Still, conduct feature selectin '''\n",
    "from sklearn.feature_selection import SelectKBest\n",
    "from sklearn.feature_selection import chi2\n",
    "\n",
    "X_new = SelectKBest(chi2, k=5).fit_transform(X_train, y_train)\n",
    "X_train, X_test, y_train, y_test = train_test_split(X_new,y_train,random_state=22)\n",
    "\n",
    "dt_clf2=DecisionTreeClassifier(max_depth=25,class_weight=\"balanced\")\n",
    "dt_clf2.fit(X_train,y_train)\n",
    "print(confusion_matrix(dt_clf2.predict(X_train),y_train))\n",
    "print(confusion_matrix(dt_clf2.predict(X_test),y_test))\n",
    "print(classification_report(dt_clf2.predict(X_test),y_test))"
   ]
  },
  {
   "cell_type": "code",
   "execution_count": 65,
   "metadata": {},
   "outputs": [
    {
     "name": "stdout",
     "output_type": "stream",
     "text": [
      "Resampled dataset shape Counter({0: 4719, 1: 4719})\n"
     ]
    }
   ],
   "source": [
    "''' Try Random Undersampling '''\n",
    "from collections import Counter\n",
    "from imblearn.under_sampling import RandomUnderSampler\n",
    "rus= RandomUnderSampler(ratio='auto', return_indices=False, random_state=None, replacement=False)\n",
    "\n",
    "X=np.array(df_updated)\n",
    "y=np.array(new_df['readmitted_d'])\n",
    "\n",
    "X_train, X_test, y_train, y_test = train_test_split(X,y,random_state=22)\n",
    "\n",
    "X_resamp, y_resamp = rus.fit_sample(X_train, y_train)\n",
    "print('Resampled dataset shape {}'.format(Counter(y_resamp)))"
   ]
  },
  {
   "cell_type": "code",
   "execution_count": 66,
   "metadata": {},
   "outputs": [
    {
     "name": "stdout",
     "output_type": "stream",
     "text": [
      "[[43180    42]\n",
      " [ 4578  4677]]\n",
      "[[13078  1201]\n",
      " [ 2857   357]]\n",
      "             precision    recall  f1-score   support\n",
      "\n",
      "          0       0.82      0.92      0.87     14279\n",
      "          1       0.23      0.11      0.15      3214\n",
      "\n",
      "avg / total       0.71      0.77      0.73     17493\n",
      "\n"
     ]
    }
   ],
   "source": [
    "dt_clf=DecisionTreeClassifier(max_depth=25,class_weight=\"balanced\")\n",
    "dt_clf.fit(X_train,y_train)\n",
    "print(confusion_matrix(dt_clf.predict(X_train),y_train))\n",
    "print(confusion_matrix(dt_clf.predict(X_test),y_test))\n",
    "print(classification_report(dt_clf.predict(X_test),y_test))"
   ]
  },
  {
   "cell_type": "code",
   "execution_count": null,
   "metadata": {
    "collapsed": true
   },
   "outputs": [],
   "source": []
  }
 ],
 "metadata": {
  "kernelspec": {
   "display_name": "Python 3",
   "language": "python",
   "name": "python3"
  },
  "language_info": {
   "codemirror_mode": {
    "name": "ipython",
    "version": 3
   },
   "file_extension": ".py",
   "mimetype": "text/x-python",
   "name": "python",
   "nbconvert_exporter": "python",
   "pygments_lexer": "ipython3",
   "version": "3.6.3"
  }
 },
 "nbformat": 4,
 "nbformat_minor": 2
}
