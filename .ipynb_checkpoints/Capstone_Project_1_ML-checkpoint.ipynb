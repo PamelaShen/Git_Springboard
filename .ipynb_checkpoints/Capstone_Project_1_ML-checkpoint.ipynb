{
 "cells": [
  {
   "cell_type": "markdown",
   "metadata": {},
   "source": [
    "#### Project Overview\n",
    "\n",
    "This is the first Captone project for SpringBoard using the UCI dataset: Diabetes 130-US hospitals for years 1999-2008 Data Set. Detailed description of the dataset can be found here - https://archive.ics.uci.edu/ml/datasets/diabetes+130-us+hospitals+for+years+1999-2008."
   ]
  },
  {
   "cell_type": "markdown",
   "metadata": {},
   "source": [
    "### Step One - Data Wrangling\n",
    "First step is to read in the CSV file and explore the data to check for:\n",
    "1) non-numerical values\n",
    "2) missing cells"
   ]
  },
  {
   "cell_type": "code",
   "execution_count": 16,
   "metadata": {},
   "outputs": [],
   "source": [
    "import pandas as pd\n",
    "import numpy as np\n",
    "import matplotlib.pyplot as plt\n",
    "import seaborn as sns"
   ]
  },
  {
   "cell_type": "code",
   "execution_count": 17,
   "metadata": {
    "collapsed": true
   },
   "outputs": [],
   "source": [
    "df_raw=pd.read_csv('/Users/YingShen/Desktop/Data_Science/SpringBorad/Git/dataset_diabetes/diabetic_data.csv')"
   ]
  },
  {
   "cell_type": "markdown",
   "metadata": {},
   "source": [
    "#### I. Preliminary Analysis\n",
    "First roughly explore the data to see if there are too many missing cells."
   ]
  },
  {
   "cell_type": "code",
   "execution_count": 18,
   "metadata": {},
   "outputs": [
    {
     "name": "stdout",
     "output_type": "stream",
     "text": [
      "(101766, 50)\n"
     ]
    },
    {
     "data": {
      "text/html": [
       "<div>\n",
       "<style scoped>\n",
       "    .dataframe tbody tr th:only-of-type {\n",
       "        vertical-align: middle;\n",
       "    }\n",
       "\n",
       "    .dataframe tbody tr th {\n",
       "        vertical-align: top;\n",
       "    }\n",
       "\n",
       "    .dataframe thead th {\n",
       "        text-align: right;\n",
       "    }\n",
       "</style>\n",
       "<table border=\"1\" class=\"dataframe\">\n",
       "  <thead>\n",
       "    <tr style=\"text-align: right;\">\n",
       "      <th></th>\n",
       "      <th>encounter_id</th>\n",
       "      <th>patient_nbr</th>\n",
       "      <th>race</th>\n",
       "      <th>gender</th>\n",
       "      <th>age</th>\n",
       "      <th>weight</th>\n",
       "      <th>admission_type_id</th>\n",
       "      <th>discharge_disposition_id</th>\n",
       "      <th>admission_source_id</th>\n",
       "      <th>time_in_hospital</th>\n",
       "      <th>...</th>\n",
       "      <th>citoglipton</th>\n",
       "      <th>insulin</th>\n",
       "      <th>glyburide-metformin</th>\n",
       "      <th>glipizide-metformin</th>\n",
       "      <th>glimepiride-pioglitazone</th>\n",
       "      <th>metformin-rosiglitazone</th>\n",
       "      <th>metformin-pioglitazone</th>\n",
       "      <th>change</th>\n",
       "      <th>diabetesMed</th>\n",
       "      <th>readmitted</th>\n",
       "    </tr>\n",
       "  </thead>\n",
       "  <tbody>\n",
       "    <tr>\n",
       "      <th>0</th>\n",
       "      <td>2278392</td>\n",
       "      <td>8222157</td>\n",
       "      <td>Caucasian</td>\n",
       "      <td>Female</td>\n",
       "      <td>[0-10)</td>\n",
       "      <td>?</td>\n",
       "      <td>6</td>\n",
       "      <td>25</td>\n",
       "      <td>1</td>\n",
       "      <td>1</td>\n",
       "      <td>...</td>\n",
       "      <td>No</td>\n",
       "      <td>No</td>\n",
       "      <td>No</td>\n",
       "      <td>No</td>\n",
       "      <td>No</td>\n",
       "      <td>No</td>\n",
       "      <td>No</td>\n",
       "      <td>No</td>\n",
       "      <td>No</td>\n",
       "      <td>NO</td>\n",
       "    </tr>\n",
       "    <tr>\n",
       "      <th>1</th>\n",
       "      <td>149190</td>\n",
       "      <td>55629189</td>\n",
       "      <td>Caucasian</td>\n",
       "      <td>Female</td>\n",
       "      <td>[10-20)</td>\n",
       "      <td>?</td>\n",
       "      <td>1</td>\n",
       "      <td>1</td>\n",
       "      <td>7</td>\n",
       "      <td>3</td>\n",
       "      <td>...</td>\n",
       "      <td>No</td>\n",
       "      <td>Up</td>\n",
       "      <td>No</td>\n",
       "      <td>No</td>\n",
       "      <td>No</td>\n",
       "      <td>No</td>\n",
       "      <td>No</td>\n",
       "      <td>Ch</td>\n",
       "      <td>Yes</td>\n",
       "      <td>&gt;30</td>\n",
       "    </tr>\n",
       "    <tr>\n",
       "      <th>2</th>\n",
       "      <td>64410</td>\n",
       "      <td>86047875</td>\n",
       "      <td>AfricanAmerican</td>\n",
       "      <td>Female</td>\n",
       "      <td>[20-30)</td>\n",
       "      <td>?</td>\n",
       "      <td>1</td>\n",
       "      <td>1</td>\n",
       "      <td>7</td>\n",
       "      <td>2</td>\n",
       "      <td>...</td>\n",
       "      <td>No</td>\n",
       "      <td>No</td>\n",
       "      <td>No</td>\n",
       "      <td>No</td>\n",
       "      <td>No</td>\n",
       "      <td>No</td>\n",
       "      <td>No</td>\n",
       "      <td>No</td>\n",
       "      <td>Yes</td>\n",
       "      <td>NO</td>\n",
       "    </tr>\n",
       "    <tr>\n",
       "      <th>3</th>\n",
       "      <td>500364</td>\n",
       "      <td>82442376</td>\n",
       "      <td>Caucasian</td>\n",
       "      <td>Male</td>\n",
       "      <td>[30-40)</td>\n",
       "      <td>?</td>\n",
       "      <td>1</td>\n",
       "      <td>1</td>\n",
       "      <td>7</td>\n",
       "      <td>2</td>\n",
       "      <td>...</td>\n",
       "      <td>No</td>\n",
       "      <td>Up</td>\n",
       "      <td>No</td>\n",
       "      <td>No</td>\n",
       "      <td>No</td>\n",
       "      <td>No</td>\n",
       "      <td>No</td>\n",
       "      <td>Ch</td>\n",
       "      <td>Yes</td>\n",
       "      <td>NO</td>\n",
       "    </tr>\n",
       "    <tr>\n",
       "      <th>4</th>\n",
       "      <td>16680</td>\n",
       "      <td>42519267</td>\n",
       "      <td>Caucasian</td>\n",
       "      <td>Male</td>\n",
       "      <td>[40-50)</td>\n",
       "      <td>?</td>\n",
       "      <td>1</td>\n",
       "      <td>1</td>\n",
       "      <td>7</td>\n",
       "      <td>1</td>\n",
       "      <td>...</td>\n",
       "      <td>No</td>\n",
       "      <td>Steady</td>\n",
       "      <td>No</td>\n",
       "      <td>No</td>\n",
       "      <td>No</td>\n",
       "      <td>No</td>\n",
       "      <td>No</td>\n",
       "      <td>Ch</td>\n",
       "      <td>Yes</td>\n",
       "      <td>NO</td>\n",
       "    </tr>\n",
       "  </tbody>\n",
       "</table>\n",
       "<p>5 rows × 50 columns</p>\n",
       "</div>"
      ],
      "text/plain": [
       "   encounter_id  patient_nbr             race  gender      age weight  \\\n",
       "0       2278392      8222157        Caucasian  Female   [0-10)      ?   \n",
       "1        149190     55629189        Caucasian  Female  [10-20)      ?   \n",
       "2         64410     86047875  AfricanAmerican  Female  [20-30)      ?   \n",
       "3        500364     82442376        Caucasian    Male  [30-40)      ?   \n",
       "4         16680     42519267        Caucasian    Male  [40-50)      ?   \n",
       "\n",
       "   admission_type_id  discharge_disposition_id  admission_source_id  \\\n",
       "0                  6                        25                    1   \n",
       "1                  1                         1                    7   \n",
       "2                  1                         1                    7   \n",
       "3                  1                         1                    7   \n",
       "4                  1                         1                    7   \n",
       "\n",
       "   time_in_hospital    ...     citoglipton insulin  glyburide-metformin  \\\n",
       "0                 1    ...              No      No                   No   \n",
       "1                 3    ...              No      Up                   No   \n",
       "2                 2    ...              No      No                   No   \n",
       "3                 2    ...              No      Up                   No   \n",
       "4                 1    ...              No  Steady                   No   \n",
       "\n",
       "   glipizide-metformin  glimepiride-pioglitazone  metformin-rosiglitazone  \\\n",
       "0                   No                        No                       No   \n",
       "1                   No                        No                       No   \n",
       "2                   No                        No                       No   \n",
       "3                   No                        No                       No   \n",
       "4                   No                        No                       No   \n",
       "\n",
       "   metformin-pioglitazone  change diabetesMed readmitted  \n",
       "0                      No      No          No         NO  \n",
       "1                      No      Ch         Yes        >30  \n",
       "2                      No      No         Yes         NO  \n",
       "3                      No      Ch         Yes         NO  \n",
       "4                      No      Ch         Yes         NO  \n",
       "\n",
       "[5 rows x 50 columns]"
      ]
     },
     "execution_count": 18,
     "metadata": {},
     "output_type": "execute_result"
    }
   ],
   "source": [
    "print(df_raw.shape)\n",
    "df_raw.head()\n",
    "# there are missing values coded as \"?\"; and many medications were not prescribed"
   ]
  },
  {
   "cell_type": "code",
   "execution_count": 19,
   "metadata": {},
   "outputs": [
    {
     "data": {
      "text/plain": [
       "encounter_id                     0\n",
       "patient_nbr                      0\n",
       "race                          2273\n",
       "gender                           3\n",
       "age                              0\n",
       "weight                       98569\n",
       "admission_type_id                0\n",
       "discharge_disposition_id         0\n",
       "admission_source_id              0\n",
       "time_in_hospital                 0\n",
       "payer_code                   40256\n",
       "medical_specialty            49949\n",
       "num_lab_procedures               0\n",
       "num_procedures                   0\n",
       "num_medications                  0\n",
       "number_outpatient                0\n",
       "number_emergency                 0\n",
       "number_inpatient                 0\n",
       "diag_1                          21\n",
       "diag_2                         358\n",
       "diag_3                        1423\n",
       "number_diagnoses                 0\n",
       "max_glu_serum                96420\n",
       "A1Cresult                    84748\n",
       "metformin                    81778\n",
       "repaglinide                 100227\n",
       "nateglinide                 101063\n",
       "chlorpropamide              101680\n",
       "glimepiride                  96575\n",
       "acetohexamide               101765\n",
       "glipizide                    89080\n",
       "glyburide                    91116\n",
       "tolbutamide                 101743\n",
       "pioglitazone                 94438\n",
       "rosiglitazone                95401\n",
       "acarbose                    101458\n",
       "miglitol                    101728\n",
       "troglitazone                101763\n",
       "tolazamide                  101727\n",
       "examide                     101766\n",
       "citoglipton                 101766\n",
       "insulin                      47383\n",
       "glyburide-metformin         101060\n",
       "glipizide-metformin         101753\n",
       "glimepiride-pioglitazone    101765\n",
       "metformin-rosiglitazone     101764\n",
       "metformin-pioglitazone      101765\n",
       "change                       54755\n",
       "diabetesMed                  23403\n",
       "readmitted                       0\n",
       "dtype: int64"
      ]
     },
     "execution_count": 19,
     "metadata": {},
     "output_type": "execute_result"
    }
   ],
   "source": [
    "df_raw.isin([\"?\",\"No\",\"Unknown/Invalid\",\"None\"]).sum()"
   ]
  },
  {
   "cell_type": "markdown",
   "metadata": {},
   "source": [
    "#### Exclude missing observations\n",
    "As shown aove, some features have too many missingness, including:\n",
    "\n",
    "weight: 98569 missing;\n",
    "payer_code: 40256 missing;\n",
    "medical_specialty: 49949 missing\n",
    "\n",
    "Medical_specialty will be kept; other two variables are considered not relevent to the outcome and will be dropped; Medicatoins will be processed to include information about whether there is a increase in dosage, a dicrease in dosage, or no change in dosage."
   ]
  },
  {
   "cell_type": "code",
   "execution_count": 20,
   "metadata": {
    "scrolled": true
   },
   "outputs": [
    {
     "name": "stderr",
     "output_type": "stream",
     "text": [
      "/anaconda3/lib/python3.6/site-packages/ipykernel_launcher.py:9: UserWarning: Boolean Series key will be reindexed to match DataFrame index.\n",
      "  if __name__ == '__main__':\n"
     ]
    },
    {
     "name": "stdout",
     "output_type": "stream",
     "text": [
      "(69970, 46)\n",
      "      admission_type_id  discharge_disposition_id  admission_source_id  \\\n",
      "mean           2.100273                   3.59305             5.657484   \n",
      "min            1.000000                   1.00000             1.000000   \n",
      "max            8.000000                  28.00000            25.000000   \n",
      "\n",
      "      time_in_hospital  num_lab_procedures  num_procedures  num_medications  \\\n",
      "mean           4.28917           43.075858        1.430525        15.704999   \n",
      "min            1.00000            1.000000        0.000000         1.000000   \n",
      "max           14.00000          132.000000        6.000000        81.000000   \n",
      "\n",
      "      number_outpatient  number_emergency  number_inpatient  number_diagnoses  \n",
      "mean           0.280081          0.103545          0.177837          7.245753  \n",
      "min            0.000000          0.000000          0.000000          1.000000  \n",
      "max           42.000000         42.000000         12.000000         16.000000  \n"
     ]
    }
   ],
   "source": [
    "# Select the features we need to process\n",
    "df=df_raw.drop(columns=['weight','payer_code'])\n",
    "\n",
    "# Same patienets are highly correlated with themselves and should be dropped\n",
    "df.drop_duplicates(subset=[\"patient_nbr\"],inplace=True) \n",
    "df.drop(columns=['encounter_id','patient_nbr'],inplace=True)\n",
    "\n",
    "# There are 3 invalid/unknown cells in gender; just delete them\n",
    "df=df[df_raw['gender']!=\"Unknown/Invalid\"]\n",
    "\n",
    "# Drop encounters that ended in deaths or hospice\n",
    "df3=df[df['discharge_disposition_id'].isin([11,13,14,19,20,21])==False]\n",
    "\n",
    "''' Get a general idea of the variables left'''\n",
    "print(df3.shape) \n",
    "\n",
    "'''Then explore numeric variables in the dataset'''\n",
    "print(df.describe().loc[['mean','min','max']])"
   ]
  },
  {
   "cell_type": "code",
   "execution_count": 21,
   "metadata": {},
   "outputs": [
    {
     "data": {
      "text/plain": [
       "\" Medications to keep: 'metformin','glipizide','glyburide','insulin' \""
      ]
     },
     "execution_count": 21,
     "metadata": {},
     "output_type": "execute_result"
    }
   ],
   "source": [
    "df.isin([\"?\",\"No\",\"Unknown/Invalid\",\"None\"]).sum()\n",
    "''' Medications to keep: 'metformin','glipizide','glyburide','insulin' '''"
   ]
  },
  {
   "cell_type": "code",
   "execution_count": 22,
   "metadata": {},
   "outputs": [
    {
     "name": "stdout",
     "output_type": "stream",
     "text": [
      "race:\n",
      "\n",
      "Caucasian          53491\n",
      "AfricanAmerican    12887\n",
      "?                   1946\n",
      "Hispanic            1517\n",
      "Other               1177\n",
      "Asian                497\n",
      "Name: race, dtype: int64\n",
      "gender:\n",
      "\n",
      "Female    38025\n",
      "Male      33490\n",
      "Name: gender, dtype: int64\n",
      "age:\n",
      "\n",
      "[70-80)     18208\n",
      "[60-70)     15959\n",
      "[50-60)     12466\n",
      "[80-90)     11589\n",
      "[40-50)      6878\n",
      "[30-40)      2699\n",
      "[90-100)     1900\n",
      "[20-30)      1127\n",
      "[10-20)       535\n",
      "[0-10)        154\n",
      "Name: age, dtype: int64\n",
      "max_glu_serum:\n",
      "\n",
      "None    68059\n",
      "Norm     1731\n",
      ">200      969\n",
      ">300      756\n",
      "Name: max_glu_serum, dtype: int64\n",
      "A1Cresult:\n",
      "\n",
      "None    58529\n",
      ">8       6304\n",
      "Norm     3791\n",
      ">7       2891\n",
      "Name: A1Cresult, dtype: int64\n",
      "change:\n",
      "\n",
      "No    39493\n",
      "Ch    32022\n",
      "Name: change, dtype: int64\n",
      "diabetesMed:\n",
      "\n",
      "Yes    54317\n",
      "No     17198\n",
      "Name: diabetesMed, dtype: int64\n",
      "readmitted:\n",
      "\n",
      "NO     42982\n",
      ">30    22240\n",
      "<30     6293\n",
      "Name: readmitted, dtype: int64\n"
     ]
    }
   ],
   "source": [
    "''' Explore categorical variables in the dataset'''\n",
    "cat_l=['race', 'gender', 'age','max_glu_serum', 'A1Cresult','change', \n",
    "       'diabetesMed', 'readmitted'] # 'medical_specialty', 'diag_1'-'diag_3'\n",
    "\n",
    "for i in cat_l:\n",
    "    print(i+':\\n')\n",
    "    print(df[i].value_counts())"
   ]
  },
  {
   "cell_type": "code",
   "execution_count": 23,
   "metadata": {
    "collapsed": true
   },
   "outputs": [],
   "source": [
    "''' Transform target variable to be 1 versus 0 '''\n",
    "df['readmitted_d']=df['readmitted'].apply(lambda x: 1 if x==\"<30\" else 0)"
   ]
  },
  {
   "cell_type": "markdown",
   "metadata": {},
   "source": [
    "#### Some numerical variables actually have categorical meanings: \n",
    "#### 1. discharge_disposition_id:  indicates discharge status\n",
    "patients who were discharged dead were excluded from the study; then, we will create a new variable based on the readmition rates"
   ]
  },
  {
   "cell_type": "code",
   "execution_count": 24,
   "metadata": {
    "scrolled": true
   },
   "outputs": [
    {
     "name": "stderr",
     "output_type": "stream",
     "text": [
      "/anaconda3/lib/python3.6/site-packages/seaborn/categorical.py:1460: FutureWarning: remove_na is deprecated and is a private function. Do not use.\n",
      "  stat_data = remove_na(group_data)\n"
     ]
    },
    {
     "data": {
      "image/png": "[encoded data removed]",
      "text/plain": [
       "<matplotlib.figure.Figure at 0x114f40160>"
      ]
     },
     "metadata": {},
     "output_type": "display_data"
    }
   ],
   "source": [
    "''' Create a reusable function to generate barplots for categorical variables '''\n",
    "def category_barplot(feature,target,df):\n",
    "    f=df.groupby([feature])[target].mean()\n",
    "    feature_df=pd.DataFrame(f)\n",
    "    feature_df=feature_df.reset_index()\n",
    "    g=sns.barplot(x=feature,y=target,data=feature_df)\n",
    "    return plt.show()\n",
    "\n",
    "category_barplot('discharge_disposition_id','readmitted_d',df)"
   ]
  },
  {
   "cell_type": "code",
   "execution_count": 25,
   "metadata": {},
   "outputs": [
    {
     "name": "stderr",
     "output_type": "stream",
     "text": [
      "/anaconda3/lib/python3.6/site-packages/seaborn/categorical.py:1460: FutureWarning: remove_na is deprecated and is a private function. Do not use.\n",
      "  stat_data = remove_na(group_data)\n"
     ]
    },
    {
     "data": {
      "image/png": "[encoded data removed]",
      "text/plain": [
       "<matplotlib.figure.Figure at 0x114b9ff60>"
      ]
     },
     "metadata": {},
     "output_type": "display_data"
    }
   ],
   "source": [
    "def dicharge_group(value):\n",
    "    if value in (12,15,28):\n",
    "        return 1\n",
    "    if value ==22:\n",
    "        return 2\n",
    "    if value in (5,9):\n",
    "        return 3\n",
    "    if value in (2,3):\n",
    "        return 4\n",
    "    else:\n",
    "        return 5\n",
    "df['dischar_group']=df['discharge_disposition_id'].apply(dicharge_group)\n",
    "category_barplot('dischar_group','readmitted_d',df)"
   ]
  },
  {
   "cell_type": "markdown",
   "metadata": {},
   "source": [
    "#### 2. admission_source_id:  indicates admission type"
   ]
  },
  {
   "cell_type": "code",
   "execution_count": 26,
   "metadata": {},
   "outputs": [
    {
     "name": "stderr",
     "output_type": "stream",
     "text": [
      "/anaconda3/lib/python3.6/site-packages/seaborn/categorical.py:1460: FutureWarning: remove_na is deprecated and is a private function. Do not use.\n",
      "  stat_data = remove_na(group_data)\n"
     ]
    },
    {
     "data": {
      "image/png": "[encoded data removed]",
      "text/plain": [
       "<matplotlib.figure.Figure at 0x115457f60>"
      ]
     },
     "metadata": {},
     "output_type": "display_data"
    }
   ],
   "source": [
    "category_barplot('admission_source_id','readmitted_d',df)"
   ]
  },
  {
   "cell_type": "code",
   "execution_count": 27,
   "metadata": {},
   "outputs": [
    {
     "name": "stderr",
     "output_type": "stream",
     "text": [
      "/anaconda3/lib/python3.6/site-packages/seaborn/categorical.py:1460: FutureWarning: remove_na is deprecated and is a private function. Do not use.\n",
      "  stat_data = remove_na(group_data)\n"
     ]
    },
    {
     "data": {
      "image/png": "[encoded data removed]",
      "text/plain": [
       "<matplotlib.figure.Figure at 0x1154eb1d0>"
      ]
     },
     "metadata": {},
     "output_type": "display_data"
    }
   ],
   "source": [
    "def ad_cource_group(value):\n",
    "    if value==3 or value==20:\n",
    "        return 1\n",
    "    else: \n",
    "        return 0\n",
    "df['admis_source_group']=df['admission_source_id'].apply(ad_cource_group)\n",
    "category_barplot('admis_source_group','readmitted_d',df)"
   ]
  },
  {
   "cell_type": "markdown",
   "metadata": {},
   "source": [
    "#### 3.　admission_type_id: indicates emergent of elective"
   ]
  },
  {
   "cell_type": "code",
   "execution_count": 28,
   "metadata": {},
   "outputs": [
    {
     "name": "stderr",
     "output_type": "stream",
     "text": [
      "/anaconda3/lib/python3.6/site-packages/seaborn/categorical.py:1460: FutureWarning: remove_na is deprecated and is a private function. Do not use.\n",
      "  stat_data = remove_na(group_data)\n"
     ]
    },
    {
     "data": {
      "image/png": "[encoded data removed]",
      "text/plain": [
       "<matplotlib.figure.Figure at 0x115468320>"
      ]
     },
     "metadata": {},
     "output_type": "display_data"
    }
   ],
   "source": [
    "category_barplot('admission_type_id','readmitted_d',df)"
   ]
  },
  {
   "cell_type": "code",
   "execution_count": 29,
   "metadata": {
    "collapsed": true
   },
   "outputs": [],
   "source": [
    "def ad_type_group(value):\n",
    "    if value==4 or value==6:\n",
    "        return 1\n",
    "    else: \n",
    "        return 0\n",
    "df['ad_type_group']=df['admission_type_id'].apply(ad_type_group)\n",
    "# category_barplot('ad_type_group','readmitted_d',df)"
   ]
  },
  {
   "cell_type": "code",
   "execution_count": 30,
   "metadata": {},
   "outputs": [
    {
     "name": "stderr",
     "output_type": "stream",
     "text": [
      "/anaconda3/lib/python3.6/site-packages/seaborn/categorical.py:1460: FutureWarning: remove_na is deprecated and is a private function. Do not use.\n",
      "  stat_data = remove_na(group_data)\n"
     ]
    },
    {
     "data": {
      "image/png": "[encoded data removed]",
      "text/plain": [
       "<matplotlib.figure.Figure at 0x1183b5198>"
      ]
     },
     "metadata": {},
     "output_type": "display_data"
    }
   ],
   "source": [
    "''' Transform age category into norminal variables '''\n",
    "age_dict={\"[0-10)\":1,\"[10-20)\":2,\"[20-30)\":3,\"[30-40)\":4,\"[40-50)\":5,\"[50-60)\":6,\n",
    "          \"[60-70)\":7,\"[70-80)\":8,\"[80-90)\":9,\"[90-100)\":10}\n",
    "df[\"age_10\"]=df[\"age\"].map(age_dict)\n",
    "category_barplot('age_10','readmitted_d',df)"
   ]
  },
  {
   "cell_type": "code",
   "execution_count": 31,
   "metadata": {},
   "outputs": [
    {
     "name": "stderr",
     "output_type": "stream",
     "text": [
      "/anaconda3/lib/python3.6/site-packages/seaborn/categorical.py:1460: FutureWarning: remove_na is deprecated and is a private function. Do not use.\n",
      "  stat_data = remove_na(group_data)\n"
     ]
    },
    {
     "data": {
      "image/png": "[encoded data removed]",
      "text/plain": [
       "<matplotlib.figure.Figure at 0x1185352b0>"
      ]
     },
     "metadata": {},
     "output_type": "display_data"
    }
   ],
   "source": [
    "def age_group(value):\n",
    "    if value==1:\n",
    "        return 1\n",
    "    if value==2:\n",
    "        return 2\n",
    "    if value in (3,4,5,6):\n",
    "        return 3\n",
    "    if value in (7,10):\n",
    "        return 4\n",
    "    else: \n",
    "        return 5\n",
    "df['age_group']=df['age_10'].apply(age_group)\n",
    "category_barplot('age_group','readmitted_d',df)"
   ]
  },
  {
   "cell_type": "code",
   "execution_count": 32,
   "metadata": {},
   "outputs": [
    {
     "name": "stderr",
     "output_type": "stream",
     "text": [
      "/anaconda3/lib/python3.6/site-packages/seaborn/categorical.py:1460: FutureWarning: remove_na is deprecated and is a private function. Do not use.\n",
      "  stat_data = remove_na(group_data)\n"
     ]
    },
    {
     "data": {
      "image/png": "[encoded data removed]",
      "text/plain": [
       "<matplotlib.figure.Figure at 0x11850f358>"
      ]
     },
     "metadata": {},
     "output_type": "display_data"
    }
   ],
   "source": [
    "''' group codes about the physician specialty '''\n",
    "series=df.groupby(['medical_specialty'])['readmitted_d'].mean()\n",
    "ranked=series.sort_values(ascending=False)\n",
    "rank_1=[]\n",
    "rank_2=[]\n",
    "rank_3=[]\n",
    "rank_4=[]\n",
    "rank_5=[]\n",
    "for i in ranked.index:\n",
    "    if ranked[i]>=0.15:\n",
    "        rank_1.append(i)\n",
    "    if 0.15>ranked[i]>=0.11:\n",
    "        rank_2.append(i)\n",
    "    if 0.11>ranked[i]>=0.09:\n",
    "        rank_3.append(i)\n",
    "    if 0.09>ranked[i]>=0.05:\n",
    "        rank_4.append(i)\n",
    "    if 0.05>ranked[i]:\n",
    "        rank_5.append(i)\n",
    "        \n",
    "def med_spec_group(string):\n",
    "    if string in rank_1:\n",
    "        return 1\n",
    "    if string in rank_2:\n",
    "        return 2\n",
    "    if string in rank_3:\n",
    "        return 3\n",
    "    if string in rank_4:\n",
    "        return 4\n",
    "    if string in rank_5:\n",
    "        return 5\n",
    "    else:\n",
    "        return 6\n",
    "df['med_spec_group']=df['medical_specialty'].apply(med_spec_group)\n",
    "category_barplot('med_spec_group','readmitted_d',df)"
   ]
  },
  {
   "cell_type": "markdown",
   "metadata": {},
   "source": [
    "####  Transform other categorical variables into dummy variables"
   ]
  },
  {
   "cell_type": "code",
   "execution_count": 33,
   "metadata": {
    "collapsed": true
   },
   "outputs": [],
   "source": [
    "df[\"gender_d\"]=df[\"gender\"].apply(lambda x: 1 if x==\"Male\" else 0) \n",
    "df['max_glu_dummy']=df['max_glu_serum'].apply(lambda x: 0 if x==\"None\" else 1)\n",
    "df['A1Cresult_dummy']=df['A1Cresult'].apply(lambda x: 0 if x==\"None\" else 1)\n",
    "df['change_d']=df['change'].apply(lambda x: 1 if x==\"Ch\" else 0)\n",
    "df['diabetesMed_d']=df['diabetesMed'].apply(lambda x: 1 if x==\"Yes\" else 0)"
   ]
  },
  {
   "cell_type": "markdown",
   "metadata": {},
   "source": [
    "#### Based on the features I have, it is necessary to create new features that are potential to be related with the outcome"
   ]
  },
  {
   "cell_type": "code",
   "execution_count": 34,
   "metadata": {
    "collapsed": true
   },
   "outputs": [],
   "source": [
    "temp_AlC8=pd.get_dummies(df['A1Cresult']).loc[:,'>8']\n",
    "temp_None=pd.get_dummies(df['A1Cresult']).loc[:,'None']\n",
    "\n",
    "temp_ch=pd.get_dummies(df['change']).loc[:,'Ch']\n",
    "temp_no=pd.get_dummies(df['change']).loc[:,'No']\n",
    "\n",
    "temp_AlC8_Changed=temp_AlC8*temp_ch\n",
    "temp_AlC8_NonCh=temp_AlC8*temp_no\n",
    "\n",
    "df['No_Alc']=temp_None\n",
    "df['Alc_ch']=temp_AlC8_Changed\n",
    "df['Alc_nonch']=temp_AlC8_NonCh"
   ]
  },
  {
   "cell_type": "code",
   "execution_count": 35,
   "metadata": {
    "collapsed": true
   },
   "outputs": [],
   "source": [
    "''' Add new information about whether the drugs were up or down '''\n",
    "\n",
    "drugs_df=df[['metformin', 'repaglinide', 'nateglinide', 'chlorpropamide',\n",
    "       'glimepiride', 'acetohexamide', 'glipizide', 'glyburide', 'tolbutamide',\n",
    "       'pioglitazone', 'rosiglitazone', 'acarbose', 'miglitol', 'troglitazone',\n",
    "       'tolazamide', 'examide', 'citoglipton', 'insulin',\n",
    "       'glyburide-metformin', 'glipizide-metformin',\n",
    "       'glimepiride-pioglitazone', 'metformin-rosiglitazone',\n",
    "       'metformin-pioglitazone']]\n",
    "up_df=drugs_df.isin(['Up'])\n",
    "down_df=drugs_df.isin(['Down'])\n",
    "df['med_up']=up_df.sum(axis=1)\n",
    "df['med_down']=down_df.sum(axis=1)"
   ]
  },
  {
   "cell_type": "code",
   "execution_count": 36,
   "metadata": {},
   "outputs": [
    {
     "data": {
      "text/plain": [
       "0    62639\n",
       "1     8680\n",
       "2      192\n",
       "3        4\n",
       "Name: med_down, dtype: int64"
      ]
     },
     "execution_count": 36,
     "metadata": {},
     "output_type": "execute_result"
    }
   ],
   "source": [
    "df['med_down'].value_counts()"
   ]
  },
  {
   "cell_type": "code",
   "execution_count": 37,
   "metadata": {},
   "outputs": [
    {
     "name": "stderr",
     "output_type": "stream",
     "text": [
      "/anaconda3/lib/python3.6/site-packages/seaborn/categorical.py:1460: FutureWarning: remove_na is deprecated and is a private function. Do not use.\n",
      "  stat_data = remove_na(group_data)\n"
     ]
    },
    {
     "data": {
      "image/png": "[encoded data removed]",
      "text/plain": [
       "<matplotlib.figure.Figure at 0x1145a0c88>"
      ]
     },
     "metadata": {},
     "output_type": "display_data"
    },
    {
     "data": {
      "image/png": "[encoded data removed]",
      "text/plain": [
       "<matplotlib.figure.Figure at 0x1148c83c8>"
      ]
     },
     "metadata": {},
     "output_type": "display_data"
    },
    {
     "data": {
      "image/png": "[encoded data removed]",
      "text/plain": [
       "<matplotlib.figure.Figure at 0x114936550>"
      ]
     },
     "metadata": {},
     "output_type": "display_data"
    },
    {
     "data": {
      "image/png": "[encoded data removed]",
      "text/plain": [
       "<matplotlib.figure.Figure at 0x114920fd0>"
      ]
     },
     "metadata": {},
     "output_type": "display_data"
    }
   ],
   "source": [
    "med_list=['metformin','glipizide','glyburide','insulin']\n",
    "\n",
    "category_barplot('metformin','readmitted_d',df)\n",
    "category_barplot('glipizide','readmitted_d',df)\n",
    "category_barplot('glyburide','readmitted_d',df) # will drop\n",
    "category_barplot('insulin','readmitted_d',df)"
   ]
  },
  {
   "cell_type": "code",
   "execution_count": 38,
   "metadata": {
    "collapsed": true
   },
   "outputs": [],
   "source": [
    "df.drop(columns=['repaglinide', 'nateglinide', 'chlorpropamide',\n",
    "       'glimepiride', 'acetohexamide', 'glyburide', 'tolbutamide',\n",
    "       'pioglitazone', 'rosiglitazone', 'acarbose', 'miglitol', 'troglitazone',\n",
    "       'tolazamide', 'examide', 'citoglipton', \n",
    "       'glyburide-metformin', 'glipizide-metformin',\n",
    "       'glimepiride-pioglitazone', 'metformin-rosiglitazone',\n",
    "       'metformin-pioglitazone'],inplace=True)"
   ]
  },
  {
   "cell_type": "markdown",
   "metadata": {},
   "source": [
    "#### Charlson Comorbidity Score from ICD-9-CM diagnosis codes\n",
    "Diagnosis codes are useful to indicate the severity of illness a patient has, which is a common way of adjusting health conditions of a patient in academia"
   ]
  },
  {
   "cell_type": "code",
   "execution_count": 39,
   "metadata": {
    "collapsed": true,
    "scrolled": true
   },
   "outputs": [],
   "source": [
    "series_count=pd.DataFrame(df['diag_1'].value_counts())\n",
    "series_rates=pd.DataFrame(df.groupby(['diag_1'])['readmitted_d'].mean())\n",
    "\n",
    "temp_df=series_count.merge(series_rates,left_index=True,right_index=True)\n",
    "temp_df1=temp_df[temp_df['readmitted_d']>0.15]\n",
    "diag_1st=temp_df1.index.tolist()\n",
    "\n",
    "temp_df2=temp_df[temp_df['readmitted_d']>0.1]\n",
    "diag_2nd=set(temp_df2.index.tolist())-set(diag_1st)\n",
    "\n",
    "temp_df3=temp_df[temp_df['readmitted_d']>0.05]\n",
    "diag_3rd=set(temp_df3.index.tolist())-set(diag_1st)-set(diag_2nd)\n",
    "\n",
    "# temp_df4=temp_df[temp_df['readmitted_d']<=0.05]\n",
    "# diag_4th=set(temp_df4.index.tolist())\n",
    "\n",
    "def diag_group(string):\n",
    "    if string in diag_1st:\n",
    "        return 1\n",
    "    if string in diag_2nd:\n",
    "        return 2\n",
    "    if string in diag_3rd:\n",
    "        return 3\n",
    "    else:\n",
    "        return 4\n",
    "df['diag_group']=df['diag_1'].apply(diag_group)"
   ]
  },
  {
   "cell_type": "code",
   "execution_count": 40,
   "metadata": {
    "collapsed": true
   },
   "outputs": [],
   "source": [
    "''' Transform diagnosis codes into meaningful CCI scores using regular expression '''\n",
    "# Diagnosis 1\n",
    "df[\"MI_CHF_Cereb_Dem_1\"]=df['diag_1'].str.match(r'(41[02][.]?\\d?\\d?)|(428[.]?\\d?\\d?)|(43[0-8][.]?\\d?\\d?)|(290[.]?\\d?\\d?)')\n",
    "df[\"PVF_1\"]=df['diag_1'].str.match(r'(443[.]9\\d?)|(441[.]?\\d?\\d?)|(785[.]4\\d?)|(V43[.]4\\d?)')\n",
    "df[\"ChroPul_1\"]=df['diag_1'].str.match(r'((49[0-9])|(50[0-5])[.]?\\d?\\d?)|(506.4\\d?)')\n",
    "df[\"Rheu_1\"]=df['diag_1'].str.match(r'(710[.][014]])|(714[.][02])|(714[.]81)|(724[.]?\\d?\\d?)')\n",
    "df[\"PepUlc_Liver_Diabetes_1\"]=df['diag_1'].str.match(r'(53[1-4][.]?\\d?\\d?)|(571[.][2456]\\d?)|(250[.][01237]\\d?)')\n",
    "df[\"Hemip_Diabetes_1\"]=df['diag_1'].str.match(r'(250[.][456]\\d?)|(344[.]1\\d?)|(342[.]?\\d?\\d?)|(250)')\n",
    "df[\"Renal_1\"]=df['diag_1'].str.match(r'58[23568][.]?\\d?\\d?')\n",
    "df[\"Cancer_1\"]=df['diag_1'].str.match(r'(1[4-6][0-9][.]?\\d?\\d?)|(17[0-2][.]?\\d?\\d?)|(17[4-9][.]?\\d?\\d?)|\\\n",
    "                                      (18[0-9][.]?\\d?\\d?)|(195[.]8)|(20[0-8][.]?\\d?\\d?)')          \n",
    "df[\"Liver_1\"]=df['diag_1'].str.match(r'(456[.][01][0-9]?)|(456[.]2[01])|(572[.][2-8]\\d?)')\n",
    "df[\"Metas_1\"]=df['diag_1'].str.match(r'(19[6-8][.]?\\d?\\d?)|(199[.]1)')\n",
    "df[\"HIV_1\"]=df['diag_1'].str.match(r'04[2-4][.]?\\d?\\d?')\n",
    "\n",
    "# Diagnosis 2\n",
    "df[\"MI_CHF_Cereb_Dem_2\"]=df['diag_2'].str.match(r'(41[02][.]?\\d?\\d?)|(428[.]?\\d?\\d?)|(43[0-8][.]?\\d?\\d?)|(290[.]?\\d?\\d?)')\n",
    "df[\"PVF_2\"]=df['diag_2'].str.match(r'(443[.]9\\d?)|(441[.]?\\d?\\d?)|(785[.]4\\d?)|(V43[.]4\\d?)')\n",
    "df[\"ChroPul_2\"]=df['diag_2'].str.match(r'((49[0-9])|(50[0-5])[.]?\\d?\\d?)|(506.4\\d?)')\n",
    "df[\"Rheu_2\"]=df['diag_2'].str.match(r'(710[.][014]])|(714[.][02])|(714[.]81)|(724[.]?\\d?\\d?)')\n",
    "df[\"PepUlc_Liver_Diabetes_2\"]=df['diag_2'].str.match(r'(53[1-4][.]?\\d?\\d?)|(571[.][2456]\\d?)|(250[.][01237]\\d?)')\n",
    "df[\"Hemip_Diabetes_2\"]=df['diag_2'].str.match(r'(250[.][456]\\d?)|(344[.]1\\d?)|(342[.]?\\d?\\d?)|(250)')\n",
    "df[\"Renal_2\"]=df['diag_2'].str.match(r'58[23568][.]?\\d?\\d?')\n",
    "df[\"Cancer_2\"]=df['diag_2'].str.match(r'(1[4-6][0-9][.]?\\d?\\d?)|(17[0-2][.]?\\d?\\d?)|(17[4-9][.]?\\d?\\d?)|\\\n",
    "                                      (18[0-9][.]?\\d?\\d?)|(195[.]8)|(20[0-8][.]?\\d?\\d?)')          \n",
    "df[\"Liver_2\"]=df['diag_2'].str.match(r'(456[.][01][0-9]?)|(456[.]2[01])|(572[.][2-8]\\d?)')\n",
    "df[\"Metas_2\"]=df['diag_2'].str.match(r'(19[6-8][.]?\\d?\\d?)|(199[.]1)')\n",
    "df[\"HIV_2\"]=df['diag_2'].str.match(r'04[2-4][.]?\\d?\\d?')\n",
    "\n",
    "# Diagnosis 3\n",
    "df[\"MI_CHF_Cereb_Dem_3\"]=df['diag_3'].str.match(r'(41[02][.]?\\d?\\d?)|(428[.]?\\d?\\d?)|(43[0-8][.]?\\d?\\d?)|(290[.]?\\d?\\d?)')\n",
    "df[\"PVF_3\"]=df['diag_3'].str.match(r'(443[.]9\\d?)|(441[.]?\\d?\\d?)|(785[.]4\\d?)|(V43[.]4\\d?)')\n",
    "df[\"ChroPul_3\"]=df['diag_3'].str.match(r'((49[0-9])|(50[0-5])[.]?\\d?\\d?)|(506.4\\d?)')\n",
    "df[\"Rheu_3\"]=df['diag_3'].str.match(r'(710[.][014]])|(714[.][02])|(714[.]81)|(724[.]?\\d?\\d?)')\n",
    "df[\"PepUlc_Liver_Diabetes_3\"]=df['diag_3'].str.match(r'(53[1-4][.]?\\d?\\d?)|(571[.][2456]\\d?)|(250[.][01237]\\d?)')\n",
    "df[\"Hemip_Diabetes_3\"]=df['diag_3'].str.match(r'(250[.][456]\\d?)|(344[.]1\\d?)|(342[.]?\\d?\\d?)|(250)')\n",
    "df[\"Renal_3\"]=df['diag_3'].str.match(r'58[23568][.]?\\d?\\d?')\n",
    "df[\"Cancer_3\"]=df['diag_3'].str.match(r'(1[4-6][0-9][.]?\\d?\\d?)|(17[0-2][.]?\\d?\\d?)|(17[4-9][.]?\\d?\\d?)|\\\n",
    "                                      (18[0-9][.]?\\d?\\d?)|(195[.]8)|(20[0-8][.]?\\d?\\d?)')          \n",
    "df[\"Liver_3\"]=df['diag_3'].str.match(r'(456[.][01][0-9]?)|(456[.]2[01])|(572[.][2-8]\\d?)')\n",
    "df[\"Metas_3\"]=df['diag_3'].str.match(r'(19[6-8][.]?\\d?\\d?)|(199[.]1)')\n",
    "df[\"HIV_3\"]=df['diag_3'].str.match(r'04[2-4][.]?\\d?\\d?')"
   ]
  },
  {
   "cell_type": "code",
   "execution_count": 41,
   "metadata": {},
   "outputs": [
    {
     "name": "stderr",
     "output_type": "stream",
     "text": [
      "/anaconda3/lib/python3.6/site-packages/pandas/core/computation/expressions.py:179: UserWarning: evaluating in Python space because the '+' operator is not supported by numexpr for the bool dtype, use '|' instead\n",
      "  .format(op=op_str, alt_op=unsupported[op_str]))\n"
     ]
    },
    {
     "data": {
      "text/plain": [
       "1.5889673495070964"
      ]
     },
     "execution_count": 41,
     "metadata": {},
     "output_type": "execute_result"
    }
   ],
   "source": [
    "df['Score_1']=(df['MI_CHF_Cereb_Dem_1']+df[\"PVF_1\"]+df[\"ChroPul_1\"]+df[\"Rheu_1\"]+df[\"PepUlc_Liver_Diabetes_1\"])*1+\\\n",
    "            (df[\"Hemip_Diabetes_1\"]+df[\"Renal_1\"]+df[\"Cancer_1\"])*2+(df[\"Liver_1\"])*3+(df[\"Metas_1\"]+df[\"HIV_1\"])*6\n",
    "\n",
    "df['Score_2']=(df['MI_CHF_Cereb_Dem_2']+df[\"PVF_2\"]+df[\"ChroPul_2\"]+df[\"Rheu_2\"]+df[\"PepUlc_Liver_Diabetes_2\"])*1+\\\n",
    "            (df[\"Hemip_Diabetes_2\"]+df[\"Renal_2\"]+df[\"Cancer_2\"])*2+(df[\"Liver_2\"])*3+(df[\"Metas_2\"]+df[\"HIV_2\"])*6\n",
    "\n",
    "df['Score_3']=(df['MI_CHF_Cereb_Dem_3']+df[\"PVF_3\"]+df[\"ChroPul_3\"]+df[\"Rheu_3\"]+df[\"PepUlc_Liver_Diabetes_3\"])*1+\\\n",
    "            (df[\"Hemip_Diabetes_3\"]+df[\"Renal_3\"]+df[\"Cancer_3\"])*2+(df[\"Liver_3\"])*3+(df[\"Metas_3\"]+df[\"HIV_3\"])*6\n",
    "df['CCI']=df['Score_1']+df['Score_2']+df['Score_3']\n",
    "df['CCI'].mean()"
   ]
  },
  {
   "cell_type": "code",
   "execution_count": 42,
   "metadata": {},
   "outputs": [
    {
     "data": {
      "text/plain": [
       "Index(['race_?', 'race_AfricanAmerican', 'race_Asian', 'race_Caucasian',\n",
       "       'race_Hispanic', 'race_Other', 'insulin_Down', 'insulin_No',\n",
       "       'insulin_Steady', 'insulin_Up', 'metformin_Down', 'metformin_No',\n",
       "       'metformin_Steady', 'metformin_Up', 'glipizide_Down', 'glipizide_No',\n",
       "       'glipizide_Steady', 'glipizide_Up'],\n",
       "      dtype='object')"
      ]
     },
     "execution_count": 42,
     "metadata": {},
     "output_type": "execute_result"
    }
   ],
   "source": [
    "dummy_cols=pd.get_dummies(df[['race','insulin','metformin','glipizide']]).columns\n",
    "df[dummy_cols]=pd.get_dummies(df[['race','insulin','metformin','glipizide']])\n",
    "pd.get_dummies(df[['race','insulin','metformin','glipizide']]).columns"
   ]
  },
  {
   "cell_type": "code",
   "execution_count": 43,
   "metadata": {},
   "outputs": [
    {
     "data": {
      "text/plain": [
       "(71515, 40)"
      ]
     },
     "execution_count": 43,
     "metadata": {},
     "output_type": "execute_result"
    }
   ],
   "source": [
    "features_v1=['race_?', 'race_AfricanAmerican', 'race_Asian', 'race_Caucasian',\n",
    "             'race_Hispanic', 'race_Other', 'gender_d', 'dischar_group', \n",
    "             'ad_type_group','med_spec_group','admis_source_group', 'diag_group',\n",
    "             'time_in_hospital', 'num_lab_procedures', 'num_procedures',\n",
    "             'num_medications', 'number_outpatient', 'number_emergency',\n",
    "             'number_inpatient', 'number_diagnoses', \n",
    "             'max_glu_dummy', 'A1Cresult_dummy', 'diabetesMed_d','Alc_ch', \n",
    "             'Alc_nonch', 'med_up', 'med_down', 'CCI','insulin_Down', 'insulin_No',\n",
    "             'insulin_Steady', 'insulin_Up', 'metformin_Down', 'metformin_No',\n",
    "             'metformin_Steady', 'metformin_Up', 'glipizide_Down', 'glipizide_No',\n",
    "             'glipizide_Steady', 'glipizide_Up']\n",
    "df_v1=df[features_v1]\n",
    "df_v1.shape"
   ]
  },
  {
   "cell_type": "markdown",
   "metadata": {},
   "source": [
    "### Step Three - Inferential Statistics\n",
    "First, check if there is correlation between continuous predictors:"
   ]
  },
  {
   "cell_type": "code",
   "execution_count": 44,
   "metadata": {},
   "outputs": [
    {
     "data": {
      "text/html": [
       "<div>\n",
       "<style scoped>\n",
       "    .dataframe tbody tr th:only-of-type {\n",
       "        vertical-align: middle;\n",
       "    }\n",
       "\n",
       "    .dataframe tbody tr th {\n",
       "        vertical-align: top;\n",
       "    }\n",
       "\n",
       "    .dataframe thead th {\n",
       "        text-align: right;\n",
       "    }\n",
       "</style>\n",
       "<table border=\"1\" class=\"dataframe\">\n",
       "  <thead>\n",
       "    <tr style=\"text-align: right;\">\n",
       "      <th></th>\n",
       "      <th>time_in_hospital</th>\n",
       "      <th>num_lab_procedures</th>\n",
       "      <th>num_procedures</th>\n",
       "      <th>num_medications</th>\n",
       "      <th>number_outpatient</th>\n",
       "      <th>number_emergency</th>\n",
       "      <th>number_inpatient</th>\n",
       "    </tr>\n",
       "  </thead>\n",
       "  <tbody>\n",
       "    <tr>\n",
       "      <th>time_in_hospital</th>\n",
       "      <td>1.000000</td>\n",
       "      <td>0.330117</td>\n",
       "      <td>0.188944</td>\n",
       "      <td>0.469430</td>\n",
       "      <td>-0.014988</td>\n",
       "      <td>-0.009808</td>\n",
       "      <td>0.063734</td>\n",
       "    </tr>\n",
       "    <tr>\n",
       "      <th>num_lab_procedures</th>\n",
       "      <td>0.330117</td>\n",
       "      <td>1.000000</td>\n",
       "      <td>0.050125</td>\n",
       "      <td>0.261932</td>\n",
       "      <td>-0.006938</td>\n",
       "      <td>0.014087</td>\n",
       "      <td>0.080159</td>\n",
       "    </tr>\n",
       "    <tr>\n",
       "      <th>num_procedures</th>\n",
       "      <td>0.188944</td>\n",
       "      <td>0.050125</td>\n",
       "      <td>1.000000</td>\n",
       "      <td>0.403728</td>\n",
       "      <td>-0.018340</td>\n",
       "      <td>-0.035173</td>\n",
       "      <td>-0.023969</td>\n",
       "    </tr>\n",
       "    <tr>\n",
       "      <th>num_medications</th>\n",
       "      <td>0.469430</td>\n",
       "      <td>0.261932</td>\n",
       "      <td>0.403728</td>\n",
       "      <td>1.000000</td>\n",
       "      <td>0.026185</td>\n",
       "      <td>0.002400</td>\n",
       "      <td>0.037488</td>\n",
       "    </tr>\n",
       "    <tr>\n",
       "      <th>number_outpatient</th>\n",
       "      <td>-0.014988</td>\n",
       "      <td>-0.006938</td>\n",
       "      <td>-0.018340</td>\n",
       "      <td>0.026185</td>\n",
       "      <td>1.000000</td>\n",
       "      <td>0.095000</td>\n",
       "      <td>0.068588</td>\n",
       "    </tr>\n",
       "    <tr>\n",
       "      <th>number_emergency</th>\n",
       "      <td>-0.009808</td>\n",
       "      <td>0.014087</td>\n",
       "      <td>-0.035173</td>\n",
       "      <td>0.002400</td>\n",
       "      <td>0.095000</td>\n",
       "      <td>1.000000</td>\n",
       "      <td>0.146545</td>\n",
       "    </tr>\n",
       "    <tr>\n",
       "      <th>number_inpatient</th>\n",
       "      <td>0.063734</td>\n",
       "      <td>0.080159</td>\n",
       "      <td>-0.023969</td>\n",
       "      <td>0.037488</td>\n",
       "      <td>0.068588</td>\n",
       "      <td>0.146545</td>\n",
       "      <td>1.000000</td>\n",
       "    </tr>\n",
       "  </tbody>\n",
       "</table>\n",
       "</div>"
      ],
      "text/plain": [
       "                    time_in_hospital  num_lab_procedures  num_procedures  \\\n",
       "time_in_hospital            1.000000            0.330117        0.188944   \n",
       "num_lab_procedures          0.330117            1.000000        0.050125   \n",
       "num_procedures              0.188944            0.050125        1.000000   \n",
       "num_medications             0.469430            0.261932        0.403728   \n",
       "number_outpatient          -0.014988           -0.006938       -0.018340   \n",
       "number_emergency           -0.009808            0.014087       -0.035173   \n",
       "number_inpatient            0.063734            0.080159       -0.023969   \n",
       "\n",
       "                    num_medications  number_outpatient  number_emergency  \\\n",
       "time_in_hospital           0.469430          -0.014988         -0.009808   \n",
       "num_lab_procedures         0.261932          -0.006938          0.014087   \n",
       "num_procedures             0.403728          -0.018340         -0.035173   \n",
       "num_medications            1.000000           0.026185          0.002400   \n",
       "number_outpatient          0.026185           1.000000          0.095000   \n",
       "number_emergency           0.002400           0.095000          1.000000   \n",
       "number_inpatient           0.037488           0.068588          0.146545   \n",
       "\n",
       "                    number_inpatient  \n",
       "time_in_hospital            0.063734  \n",
       "num_lab_procedures          0.080159  \n",
       "num_procedures             -0.023969  \n",
       "num_medications             0.037488  \n",
       "number_outpatient           0.068588  \n",
       "number_emergency            0.146545  \n",
       "number_inpatient            1.000000  "
      ]
     },
     "execution_count": 44,
     "metadata": {},
     "output_type": "execute_result"
    }
   ],
   "source": [
    "df_v1[['time_in_hospital', 'num_lab_procedures', 'num_procedures',\n",
    "            'num_medications','number_outpatient', 'number_emergency', \n",
    "            'number_inpatient']].corr()"
   ]
  },
  {
   "cell_type": "code",
   "execution_count": 48,
   "metadata": {
    "collapsed": true
   },
   "outputs": [],
   "source": [
    "from statsmodels.discrete.discrete_model import Logit\n",
    "\n",
    "features2=['time_in_hospital','dischar_home','No_Alc','Alc_ch', 'Alc_nonch']\n",
    "\n",
    "y=np.array(df['readmitted_d']).astype(float)\n",
    "X=np.array(df_v1).astype(float)"
   ]
  },
  {
   "cell_type": "code",
   "execution_count": 49,
   "metadata": {},
   "outputs": [
    {
     "name": "stdout",
     "output_type": "stream",
     "text": [
      "Optimization terminated successfully.\n",
      "         Current function value: 0.282008\n",
      "         Iterations 8\n"
     ]
    }
   ],
   "source": [
    "import statsmodels.discrete.discrete_model as sm\n",
    "from scipy import stats\n",
    "\n",
    "stats.chisqprob = lambda chisq, df_v1: stats.chi2.sf(chisq, df_v1)\n",
    "\n",
    "logit = sm.Logit(y, X)\n",
    "results=logit.fit()\n",
    "params=results.params"
   ]
  },
  {
   "cell_type": "code",
   "execution_count": 38,
   "metadata": {},
   "outputs": [
    {
     "name": "stderr",
     "output_type": "stream",
     "text": [
      "/anaconda3/lib/python3.6/site-packages/statsmodels/base/model.py:1029: RuntimeWarning: invalid value encountered in sqrt\n",
      "  return np.sqrt(np.diag(self.cov_params()))\n",
      "/anaconda3/lib/python3.6/site-packages/scipy/stats/_distn_infrastructure.py:879: RuntimeWarning: invalid value encountered in greater\n",
      "  return (self.a < x) & (x < self.b)\n",
      "/anaconda3/lib/python3.6/site-packages/scipy/stats/_distn_infrastructure.py:879: RuntimeWarning: invalid value encountered in less\n",
      "  return (self.a < x) & (x < self.b)\n",
      "/anaconda3/lib/python3.6/site-packages/scipy/stats/_distn_infrastructure.py:1821: RuntimeWarning: invalid value encountered in less_equal\n",
      "  cond2 = cond0 & (x <= self.a)\n"
     ]
    },
    {
     "data": {
      "text/html": [
       "<table class=\"simpletable\">\n",
       "<caption>Logit Regression Results</caption>\n",
       "<tr>\n",
       "  <th>Dep. Variable:</th>         <td>y</td>        <th>  No. Observations:  </th>  <td> 71515</td> \n",
       "</tr>\n",
       "<tr>\n",
       "  <th>Model:</th>               <td>Logit</td>      <th>  Df Residuals:      </th>  <td> 71478</td> \n",
       "</tr>\n",
       "<tr>\n",
       "  <th>Method:</th>               <td>MLE</td>       <th>  Df Model:          </th>  <td>    36</td> \n",
       "</tr>\n",
       "<tr>\n",
       "  <th>Date:</th>          <td>Sun, 12 Aug 2018</td> <th>  Pseudo R-squ.:     </th>  <td>0.05327</td>\n",
       "</tr>\n",
       "<tr>\n",
       "  <th>Time:</th>              <td>16:10:47</td>     <th>  Log-Likelihood:    </th> <td> -20168.</td>\n",
       "</tr>\n",
       "<tr>\n",
       "  <th>converged:</th>           <td>True</td>       <th>  LL-Null:           </th> <td> -21303.</td>\n",
       "</tr>\n",
       "<tr>\n",
       "  <th> </th>                      <td> </td>        <th>  LLR p-value:       </th>  <td> 0.000</td> \n",
       "</tr>\n",
       "</table>\n",
       "<table class=\"simpletable\">\n",
       "<tr>\n",
       "   <td></td>      <th>coef</th>     <th>std err</th>      <th>z</th>      <th>P>|z|</th>  <th>[0.025</th>    <th>0.975]</th>  \n",
       "</tr>\n",
       "<tr>\n",
       "  <th>x1</th>  <td>   -0.7792</td> <td>  8.6e+05</td> <td>-9.06e-07</td> <td> 1.000</td> <td>-1.69e+06</td> <td> 1.69e+06</td>\n",
       "</tr>\n",
       "<tr>\n",
       "  <th>x2</th>  <td>   -0.6599</td> <td> 8.66e+05</td> <td>-7.62e-07</td> <td> 1.000</td> <td> -1.7e+06</td> <td>  1.7e+06</td>\n",
       "</tr>\n",
       "<tr>\n",
       "  <th>x3</th>  <td>   -0.6283</td> <td> 8.64e+05</td> <td>-7.27e-07</td> <td> 1.000</td> <td>-1.69e+06</td> <td> 1.69e+06</td>\n",
       "</tr>\n",
       "<tr>\n",
       "  <th>x4</th>  <td>   -0.6248</td> <td> 8.65e+05</td> <td>-7.22e-07</td> <td> 1.000</td> <td> -1.7e+06</td> <td>  1.7e+06</td>\n",
       "</tr>\n",
       "<tr>\n",
       "  <th>x5</th>  <td>   -0.6854</td> <td> 8.65e+05</td> <td>-7.92e-07</td> <td> 1.000</td> <td> -1.7e+06</td> <td>  1.7e+06</td>\n",
       "</tr>\n",
       "<tr>\n",
       "  <th>x6</th>  <td>   -0.8359</td> <td> 8.64e+05</td> <td>-9.67e-07</td> <td> 1.000</td> <td>-1.69e+06</td> <td> 1.69e+06</td>\n",
       "</tr>\n",
       "<tr>\n",
       "  <th>x7</th>  <td>    0.0097</td> <td>    0.027</td> <td>    0.357</td> <td> 0.721</td> <td>   -0.044</td> <td>    0.063</td>\n",
       "</tr>\n",
       "<tr>\n",
       "  <th>x8</th>  <td>   -0.4617</td> <td>    0.017</td> <td>  -26.469</td> <td> 0.000</td> <td>   -0.496</td> <td>   -0.428</td>\n",
       "</tr>\n",
       "<tr>\n",
       "  <th>x9</th>  <td>    0.1102</td> <td>    0.057</td> <td>    1.937</td> <td> 0.053</td> <td>   -0.001</td> <td>    0.222</td>\n",
       "</tr>\n",
       "<tr>\n",
       "  <th>x10</th> <td>   -0.2292</td> <td>    0.028</td> <td>   -8.131</td> <td> 0.000</td> <td>   -0.284</td> <td>   -0.174</td>\n",
       "</tr>\n",
       "<tr>\n",
       "  <th>x11</th> <td>    0.3946</td> <td>    0.176</td> <td>    2.245</td> <td> 0.025</td> <td>    0.050</td> <td>    0.739</td>\n",
       "</tr>\n",
       "<tr>\n",
       "  <th>x12</th> <td>   -0.3923</td> <td>    0.018</td> <td>  -21.670</td> <td> 0.000</td> <td>   -0.428</td> <td>   -0.357</td>\n",
       "</tr>\n",
       "<tr>\n",
       "  <th>x13</th> <td>    0.0071</td> <td>    0.005</td> <td>    1.365</td> <td> 0.172</td> <td>   -0.003</td> <td>    0.017</td>\n",
       "</tr>\n",
       "<tr>\n",
       "  <th>x14</th> <td>    0.0012</td> <td>    0.001</td> <td>    1.579</td> <td> 0.114</td> <td>   -0.000</td> <td>    0.003</td>\n",
       "</tr>\n",
       "<tr>\n",
       "  <th>x15</th> <td>    0.0178</td> <td>    0.009</td> <td>    2.019</td> <td> 0.043</td> <td>    0.001</td> <td>    0.035</td>\n",
       "</tr>\n",
       "<tr>\n",
       "  <th>x16</th> <td>    0.0030</td> <td>    0.002</td> <td>    1.458</td> <td> 0.145</td> <td>   -0.001</td> <td>    0.007</td>\n",
       "</tr>\n",
       "<tr>\n",
       "  <th>x17</th> <td>    0.0010</td> <td>    0.012</td> <td>    0.085</td> <td> 0.932</td> <td>   -0.022</td> <td>    0.024</td>\n",
       "</tr>\n",
       "<tr>\n",
       "  <th>x18</th> <td>    0.0783</td> <td>    0.021</td> <td>    3.757</td> <td> 0.000</td> <td>    0.037</td> <td>    0.119</td>\n",
       "</tr>\n",
       "<tr>\n",
       "  <th>x19</th> <td>    0.3157</td> <td>    0.016</td> <td>   19.461</td> <td> 0.000</td> <td>    0.284</td> <td>    0.347</td>\n",
       "</tr>\n",
       "<tr>\n",
       "  <th>x20</th> <td>    0.0228</td> <td>    0.008</td> <td>    2.934</td> <td> 0.003</td> <td>    0.008</td> <td>    0.038</td>\n",
       "</tr>\n",
       "<tr>\n",
       "  <th>x21</th> <td>    0.0556</td> <td>    0.064</td> <td>    0.866</td> <td> 0.387</td> <td>   -0.070</td> <td>    0.182</td>\n",
       "</tr>\n",
       "<tr>\n",
       "  <th>x22</th> <td>   -0.0524</td> <td>    0.048</td> <td>   -1.090</td> <td> 0.276</td> <td>   -0.147</td> <td>    0.042</td>\n",
       "</tr>\n",
       "<tr>\n",
       "  <th>x23</th> <td>    0.2247</td> <td>    0.045</td> <td>    5.026</td> <td> 0.000</td> <td>    0.137</td> <td>    0.312</td>\n",
       "</tr>\n",
       "<tr>\n",
       "  <th>x24</th> <td>   -0.0325</td> <td>    0.074</td> <td>   -0.437</td> <td> 0.662</td> <td>   -0.178</td> <td>    0.113</td>\n",
       "</tr>\n",
       "<tr>\n",
       "  <th>x25</th> <td>   -0.0581</td> <td>    0.095</td> <td>   -0.609</td> <td> 0.543</td> <td>   -0.245</td> <td>    0.129</td>\n",
       "</tr>\n",
       "<tr>\n",
       "  <th>x26</th> <td>    0.0818</td> <td>    0.094</td> <td>    0.870</td> <td> 0.384</td> <td>   -0.103</td> <td>    0.266</td>\n",
       "</tr>\n",
       "<tr>\n",
       "  <th>x27</th> <td>   -0.0124</td> <td>    0.126</td> <td>   -0.098</td> <td> 0.922</td> <td>   -0.260</td> <td>    0.235</td>\n",
       "</tr>\n",
       "<tr>\n",
       "  <th>x28</th> <td>    0.0413</td> <td>    0.008</td> <td>    5.464</td> <td> 0.000</td> <td>    0.027</td> <td>    0.056</td>\n",
       "</tr>\n",
       "<tr>\n",
       "  <th>x29</th> <td>    0.8898</td> <td> 7.44e+05</td> <td>  1.2e-06</td> <td> 1.000</td> <td>-1.46e+06</td> <td> 1.46e+06</td>\n",
       "</tr>\n",
       "<tr>\n",
       "  <th>x30</th> <td>    0.8136</td> <td> 7.44e+05</td> <td> 1.09e-06</td> <td> 1.000</td> <td>-1.46e+06</td> <td> 1.46e+06</td>\n",
       "</tr>\n",
       "<tr>\n",
       "  <th>x31</th> <td>    0.7691</td> <td> 7.45e+05</td> <td> 1.03e-06</td> <td> 1.000</td> <td>-1.46e+06</td> <td> 1.46e+06</td>\n",
       "</tr>\n",
       "<tr>\n",
       "  <th>x32</th> <td>    0.7248</td> <td> 7.45e+05</td> <td> 9.73e-07</td> <td> 1.000</td> <td>-1.46e+06</td> <td> 1.46e+06</td>\n",
       "</tr>\n",
       "<tr>\n",
       "  <th>x33</th> <td>    0.7321</td> <td>      nan</td> <td>      nan</td> <td>   nan</td> <td>      nan</td> <td>      nan</td>\n",
       "</tr>\n",
       "<tr>\n",
       "  <th>x34</th> <td>    0.6036</td> <td>      nan</td> <td>      nan</td> <td>   nan</td> <td>      nan</td> <td>      nan</td>\n",
       "</tr>\n",
       "<tr>\n",
       "  <th>x35</th> <td>    0.5213</td> <td>      nan</td> <td>      nan</td> <td>   nan</td> <td>      nan</td> <td>      nan</td>\n",
       "</tr>\n",
       "<tr>\n",
       "  <th>x36</th> <td>    0.2165</td> <td>      nan</td> <td>      nan</td> <td>   nan</td> <td>      nan</td> <td>      nan</td>\n",
       "</tr>\n",
       "<tr>\n",
       "  <th>x37</th> <td>    0.4047</td> <td> 5.08e+05</td> <td> 7.97e-07</td> <td> 1.000</td> <td>-9.95e+05</td> <td> 9.95e+05</td>\n",
       "</tr>\n",
       "<tr>\n",
       "  <th>x38</th> <td>    0.1539</td> <td> 5.08e+05</td> <td> 3.03e-07</td> <td> 1.000</td> <td>-9.95e+05</td> <td> 9.95e+05</td>\n",
       "</tr>\n",
       "<tr>\n",
       "  <th>x39</th> <td>    0.1738</td> <td> 5.08e+05</td> <td> 3.42e-07</td> <td> 1.000</td> <td>-9.95e+05</td> <td> 9.95e+05</td>\n",
       "</tr>\n",
       "<tr>\n",
       "  <th>x40</th> <td>    0.1906</td> <td> 5.08e+05</td> <td> 3.75e-07</td> <td> 1.000</td> <td>-9.95e+05</td> <td> 9.95e+05</td>\n",
       "</tr>\n",
       "</table>"
      ],
      "text/plain": [
       "<class 'statsmodels.iolib.summary.Summary'>\n",
       "\"\"\"\n",
       "                           Logit Regression Results                           \n",
       "==============================================================================\n",
       "Dep. Variable:                      y   No. Observations:                71515\n",
       "Model:                          Logit   Df Residuals:                    71478\n",
       "Method:                           MLE   Df Model:                           36\n",
       "Date:                Sun, 12 Aug 2018   Pseudo R-squ.:                 0.05327\n",
       "Time:                        16:10:47   Log-Likelihood:                -20168.\n",
       "converged:                       True   LL-Null:                       -21303.\n",
       "                                        LLR p-value:                     0.000\n",
       "==============================================================================\n",
       "                 coef    std err          z      P>|z|      [0.025      0.975]\n",
       "------------------------------------------------------------------------------\n",
       "x1            -0.7792    8.6e+05  -9.06e-07      1.000   -1.69e+06    1.69e+06\n",
       "x2            -0.6599   8.66e+05  -7.62e-07      1.000    -1.7e+06     1.7e+06\n",
       "x3            -0.6283   8.64e+05  -7.27e-07      1.000   -1.69e+06    1.69e+06\n",
       "x4            -0.6248   8.65e+05  -7.22e-07      1.000    -1.7e+06     1.7e+06\n",
       "x5            -0.6854   8.65e+05  -7.92e-07      1.000    -1.7e+06     1.7e+06\n",
       "x6            -0.8359   8.64e+05  -9.67e-07      1.000   -1.69e+06    1.69e+06\n",
       "x7             0.0097      0.027      0.357      0.721      -0.044       0.063\n",
       "x8            -0.4617      0.017    -26.469      0.000      -0.496      -0.428\n",
       "x9             0.1102      0.057      1.937      0.053      -0.001       0.222\n",
       "x10           -0.2292      0.028     -8.131      0.000      -0.284      -0.174\n",
       "x11            0.3946      0.176      2.245      0.025       0.050       0.739\n",
       "x12           -0.3923      0.018    -21.670      0.000      -0.428      -0.357\n",
       "x13            0.0071      0.005      1.365      0.172      -0.003       0.017\n",
       "x14            0.0012      0.001      1.579      0.114      -0.000       0.003\n",
       "x15            0.0178      0.009      2.019      0.043       0.001       0.035\n",
       "x16            0.0030      0.002      1.458      0.145      -0.001       0.007\n",
       "x17            0.0010      0.012      0.085      0.932      -0.022       0.024\n",
       "x18            0.0783      0.021      3.757      0.000       0.037       0.119\n",
       "x19            0.3157      0.016     19.461      0.000       0.284       0.347\n",
       "x20            0.0228      0.008      2.934      0.003       0.008       0.038\n",
       "x21            0.0556      0.064      0.866      0.387      -0.070       0.182\n",
       "x22           -0.0524      0.048     -1.090      0.276      -0.147       0.042\n",
       "x23            0.2247      0.045      5.026      0.000       0.137       0.312\n",
       "x24           -0.0325      0.074     -0.437      0.662      -0.178       0.113\n",
       "x25           -0.0581      0.095     -0.609      0.543      -0.245       0.129\n",
       "x26            0.0818      0.094      0.870      0.384      -0.103       0.266\n",
       "x27           -0.0124      0.126     -0.098      0.922      -0.260       0.235\n",
       "x28            0.0413      0.008      5.464      0.000       0.027       0.056\n",
       "x29            0.8898   7.44e+05    1.2e-06      1.000   -1.46e+06    1.46e+06\n",
       "x30            0.8136   7.44e+05   1.09e-06      1.000   -1.46e+06    1.46e+06\n",
       "x31            0.7691   7.45e+05   1.03e-06      1.000   -1.46e+06    1.46e+06\n",
       "x32            0.7248   7.45e+05   9.73e-07      1.000   -1.46e+06    1.46e+06\n",
       "x33            0.7321        nan        nan        nan         nan         nan\n",
       "x34            0.6036        nan        nan        nan         nan         nan\n",
       "x35            0.5213        nan        nan        nan         nan         nan\n",
       "x36            0.2165        nan        nan        nan         nan         nan\n",
       "x37            0.4047   5.08e+05   7.97e-07      1.000   -9.95e+05    9.95e+05\n",
       "x38            0.1539   5.08e+05   3.03e-07      1.000   -9.95e+05    9.95e+05\n",
       "x39            0.1738   5.08e+05   3.42e-07      1.000   -9.95e+05    9.95e+05\n",
       "x40            0.1906   5.08e+05   3.75e-07      1.000   -9.95e+05    9.95e+05\n",
       "==============================================================================\n",
       "\"\"\""
      ]
     },
     "execution_count": 38,
     "metadata": {},
     "output_type": "execute_result"
    }
   ],
   "source": [
    "results.summary()"
   ]
  },
  {
   "cell_type": "markdown",
   "metadata": {
    "collapsed": true
   },
   "source": [
    "### Step 4. Machine Learning"
   ]
  },
  {
   "cell_type": "code",
   "execution_count": 50,
   "metadata": {
    "collapsed": true
   },
   "outputs": [],
   "source": [
    "''' Write a reusable function for processing X '''\n",
    "\n",
    "from sklearn.metrics import confusion_matrix, precision_recall_curve\n",
    "from sklearn.metrics import classification_report\n",
    "from sklearn.metrics import roc_auc_score\n",
    "from sklearn.model_selection import cross_val_score\n",
    "from sklearn.model_selection import train_test_split\n",
    "from imblearn.over_sampling import RandomOverSampler,SMOTE\n",
    "from sklearn.preprocessing import PolynomialFeatures\n",
    "from sklearn.feature_selection import SelectKBest, chi2\n",
    "\n",
    "def train_pipe(df,clf,resample=False,sampler=RandomOverSampler,select=False,k=10,poly=False):\n",
    "    X=df.as_matrix()\n",
    "    if poly==True:\n",
    "        feat_poly = PolynomialFeatures(2)\n",
    "        X=feat_poly.fit_transform(X)\n",
    "    if select==True:\n",
    "        X = SelectKBest(chi2, k=k).fit_transform(X, y)   \n",
    "    X_train, X_test, y_train, y_test = train_test_split(X,y,test_size=0.25,random_state=22)\n",
    "    \n",
    "    if resample==True:\n",
    "        ros = sampler(ratio='auto', random_state=None)\n",
    "        X_train, y_train = ros.fit_sample(X_train, y_train)   \n",
    "    \n",
    "    clf=clf\n",
    "    clf.fit(X_train,y_train)\n",
    "    scores=cross_val_score(clf, X_train, y_train, cv=5,scoring='roc_auc')\n",
    "    auc_score=roc_auc_score(y_test,clf.predict(X_test))\n",
    "    report=print(classification_report(y_test,clf.predict(X_test)))\n",
    "    return scores,auc_score,report,confusion_matrix(y_test,clf.predict(X_test))"
   ]
  },
  {
   "cell_type": "code",
   "execution_count": 51,
   "metadata": {},
   "outputs": [
    {
     "name": "stdout",
     "output_type": "stream",
     "text": [
      "             precision    recall  f1-score   support\n",
      "\n",
      "        0.0       0.92      0.88      0.90     16301\n",
      "        1.0       0.12      0.17      0.14      1578\n",
      "\n",
      "avg / total       0.85      0.82      0.83     17879\n",
      "\n"
     ]
    },
    {
     "data": {
      "text/plain": [
       "(array([0.51896826, 0.52186686, 0.520114  , 0.52799954, 0.52255755]),\n",
       " 0.5243185489642763,\n",
       " None,\n",
       " array([[14377,  1924],\n",
       "        [ 1315,   263]]))"
      ]
     },
     "execution_count": 51,
     "metadata": {},
     "output_type": "execute_result"
    }
   ],
   "source": [
    "''' First try a simple decision tree classifier '''\n",
    "\n",
    "from sklearn.tree import DecisionTreeClassifier\n",
    "clf1=DecisionTreeClassifier(max_depth=30,class_weight='balanced')\n",
    "train_pipe(df_v1,clf1)\n",
    "# High bias and high variance; Decision Tree may not be a good predictor"
   ]
  },
  {
   "cell_type": "code",
   "execution_count": 57,
   "metadata": {},
   "outputs": [
    {
     "name": "stdout",
     "output_type": "stream",
     "text": [
      "             precision    recall  f1-score   support\n",
      "\n",
      "        0.0       0.91      1.00      0.95     16301\n",
      "        1.0       0.25      0.01      0.03      1578\n",
      "\n",
      "avg / total       0.85      0.91      0.87     17879\n",
      "\n"
     ]
    },
    {
     "data": {
      "text/plain": [
       "(array([0.58195812, 0.57935408, 0.57431989, 0.56589729, 0.58019288]),\n",
       " 0.5051405984174927,\n",
       " None,\n",
       " array([[16231,    70],\n",
       "        [ 1555,    23]]))"
      ]
     },
     "execution_count": 57,
     "metadata": {},
     "output_type": "execute_result"
    }
   ],
   "source": [
    "from sklearn.ensemble import RandomForestClassifier\n",
    "rf_clf=RandomForestClassifier(max_depth=30,class_weight='balanced')\n",
    "train_pipe(df_v1,rf_clf) # Random Forest does worse due to noise"
   ]
  },
  {
   "cell_type": "code",
   "execution_count": 77,
   "metadata": {},
   "outputs": [
    {
     "name": "stdout",
     "output_type": "stream",
     "text": [
      "             precision    recall  f1-score   support\n",
      "\n",
      "        0.0       0.94      0.67      0.78     16301\n",
      "        1.0       0.14      0.54      0.22      1578\n",
      "\n",
      "avg / total       0.87      0.66      0.73     17879\n",
      "\n"
     ]
    },
    {
     "data": {
      "text/plain": [
       "(array([0.69305374, 0.6991486 , 0.68390328, 0.69325916, 0.69487283]),\n",
       " 0.6044709131267771,\n",
       " None,\n",
       " array([[10885,  5416],\n",
       "        [  724,   854]]))"
      ]
     },
     "execution_count": 77,
     "metadata": {},
     "output_type": "execute_result"
    }
   ],
   "source": [
    "from sklearn.linear_model import LogisticRegression\n",
    "\n",
    "clf2=LogisticRegression(class_weight=\"balanced\")\n",
    "train_pipe(df_v1,clf2,resample=True,poly=True)\n",
    "# Better, but is overfitting"
   ]
  },
  {
   "cell_type": "code",
   "execution_count": 78,
   "metadata": {},
   "outputs": [
    {
     "name": "stdout",
     "output_type": "stream",
     "text": [
      "             precision    recall  f1-score   support\n",
      "\n",
      "        0.0       0.94      0.66      0.78     16301\n",
      "        1.0       0.14      0.55      0.22      1578\n",
      "\n",
      "avg / total       0.87      0.65      0.73     17879\n",
      "\n"
     ]
    },
    {
     "data": {
      "text/plain": [
       "(array([0.65914554, 0.64015882, 0.63963055, 0.64987343, 0.6438119 ]),\n",
       " 0.6077717167895567,\n",
       " None,\n",
       " array([[10817,  5484],\n",
       "        [  707,   871]]))"
      ]
     },
     "execution_count": 78,
     "metadata": {},
     "output_type": "execute_result"
    }
   ],
   "source": [
    "''' Without Resample '''\n",
    "lg_clf=LogisticRegression(class_weight=\"balanced\")\n",
    "train_pipe(df_v1,lg_clf,poly=True)"
   ]
  },
  {
   "cell_type": "code",
   "execution_count": 79,
   "metadata": {},
   "outputs": [
    {
     "name": "stdout",
     "output_type": "stream",
     "text": [
      "             precision    recall  f1-score   support\n",
      "\n",
      "        0.0       0.94      0.68      0.79     16301\n",
      "        1.0       0.14      0.54      0.22      1578\n",
      "\n",
      "avg / total       0.87      0.67      0.74     17879\n",
      "\n"
     ]
    },
    {
     "data": {
      "text/plain": [
       "(array([0.66852699, 0.65613227, 0.65844847, 0.66912131, 0.66596279]),\n",
       " 0.6112192569616163,\n",
       " None,\n",
       " array([[11136,  5165],\n",
       "        [  727,   851]]))"
      ]
     },
     "execution_count": 79,
     "metadata": {},
     "output_type": "execute_result"
    }
   ],
   "source": [
    "''' Without Polynomial Terms '''\n",
    "lg_clf2=LogisticRegression(class_weight=\"balanced\")\n",
    "train_pipe(df_v1,lg_clf2)"
   ]
  },
  {
   "cell_type": "code",
   "execution_count": 81,
   "metadata": {},
   "outputs": [
    {
     "name": "stdout",
     "output_type": "stream",
     "text": [
      "\n",
      "******** For i = 0.35 ******\n",
      "Our AUC is 0.55364855111255\n",
      "[[ 2999 13302]\n",
      " [  121  1457]]\n",
      "\n",
      "******** For i = 0.4 ******\n",
      "Our AUC is 0.5963518104319026\n",
      "[[ 6168 10133]\n",
      " [  293  1285]]\n",
      "\n",
      "******** For i = 0.42 ******\n",
      "Our AUC is 0.605368865144619\n",
      "[[7464 8837]\n",
      " [ 390 1188]]\n",
      "\n",
      "******** For i = 0.45 ******\n",
      "Our AUC is 0.6140311786605734\n",
      "[[9079 7222]\n",
      " [ 519 1059]]\n",
      "\n",
      "******** For i = 0.46 ******\n",
      "Our AUC is 0.6143830819277613\n",
      "[[9545 6756]\n",
      " [ 563 1015]]\n",
      "\n",
      "******** For i = 0.47 ******\n",
      "Our AUC is 0.6134264664068055\n",
      "[[9989 6312]\n",
      " [ 609  969]]\n",
      "\n",
      "******** For i = 0.48 ******\n",
      "Our AUC is 0.6110076757053557\n",
      "[[10375  5926]\n",
      " [  654   924]]\n",
      "\n",
      "******** For i = 0.49 ******\n",
      "Our AUC is 0.6106433905125604\n",
      "[[10766  5535]\n",
      " [  693   885]]\n",
      "\n",
      "******** For i = 0.5 ******\n",
      "Our AUC is 0.6112192569616163\n",
      "[[11136  5165]\n",
      " [  727   851]]\n",
      "\n",
      "******** For i = 0.55 ******\n",
      "Our AUC is 0.6050005951876956\n",
      "[[12865  3436]\n",
      " [  914   664]]\n",
      "\n",
      "******** For i = 0.6 ******\n",
      "Our AUC is 0.5898641867982781\n",
      "[[14076  2225]\n",
      " [ 1079   499]]\n"
     ]
    }
   ],
   "source": [
    "''' Explore the probability threshold '''\n",
    "def thres_auc(target_proba_test):\n",
    "    for i in [0.35,0.4,0.42,0.45,0.46,0.47,0.48,0.49,0.5,0.55,0.6]:\n",
    "        df_test=pd.DataFrame(target_proba_test,columns=['p'])\n",
    "\n",
    "        df_test['target']=df_test['p'].apply(lambda x:1 if x>=i else 0)\n",
    "        y_pred_test=np.array(df_test['target'])\n",
    "        \n",
    "        print('\\n******** For i = {} ******'.format(i))\n",
    "        print('Our AUC is {}'.format(roc_auc_score(y_test,y_pred_test)))\n",
    "        print(confusion_matrix(y_test,y_pred_test))\n",
    "\n",
    "target_proba_test=lg_clf2.predict_proba(X_test)[:,1]        \n",
    "thres_auc(target_proba_test)"
   ]
  },
  {
   "cell_type": "code",
   "execution_count": 83,
   "metadata": {},
   "outputs": [
    {
     "name": "stdout",
     "output_type": "stream",
     "text": [
      "{'C': 0.1}\n",
      "0.6637827583322172\n",
      "             precision    recall  f1-score   support\n",
      "\n",
      "        0.0       0.94      0.68      0.79     16301\n",
      "        1.0       0.14      0.54      0.22      1578\n",
      "\n",
      "avg / total       0.87      0.67      0.74     17879\n",
      "\n"
     ]
    },
    {
     "data": {
      "text/plain": [
       "\" C=0.1 doesn't improve with auc=0.610 \""
      ]
     },
     "execution_count": 83,
     "metadata": {},
     "output_type": "execute_result"
    }
   ],
   "source": [
    "''' Now try GridSearch to prune logistic regression '''\n",
    "from sklearn.grid_search import GridSearchCV\n",
    "X_train, X_test, y_train, y_test = train_test_split(X,y,test_size=0.25,random_state=22)\n",
    "\n",
    "pg = {'C': [0.01, 0.1, 0.5, 0.8, 1, 1.2, 1.5, 10, 100]}\n",
    "\n",
    "clf=LogisticRegression(class_weight=\"balanced\")\n",
    "grid = GridSearchCV(clf, param_grid=pg, cv=5,scoring='roc_auc')\n",
    "grid.fit(X_train, y_train)\n",
    "\n",
    "print(grid.best_params_)\n",
    "print(grid.best_score_)"
   ]
  },
  {
   "cell_type": "code",
   "execution_count": 85,
   "metadata": {},
   "outputs": [
    {
     "name": "stdout",
     "output_type": "stream",
     "text": [
      "             precision    recall  f1-score   support\n",
      "\n",
      "        0.0       0.94      0.68      0.79     16301\n",
      "        1.0       0.14      0.54      0.22      1578\n",
      "\n",
      "avg / total       0.87      0.67      0.74     17879\n",
      "\n"
     ]
    },
    {
     "data": {
      "text/plain": [
       "(array([0.66872466, 0.65657838, 0.65857474, 0.6692556 , 0.66577518]),\n",
       " 0.6106981081272937,\n",
       " None,\n",
       " array([[11150,  5151],\n",
       "        [  730,   848]]))"
      ]
     },
     "execution_count": 85,
     "metadata": {},
     "output_type": "execute_result"
    }
   ],
   "source": [
    "clf=LogisticRegression(C=0.1,class_weight=\"balanced\")\n",
    "train_pipe(df_v1,clf) # C=0.1 doesn't improve with auc=0.61"
   ]
  },
  {
   "cell_type": "code",
   "execution_count": 68,
   "metadata": {},
   "outputs": [
    {
     "name": "stdout",
     "output_type": "stream",
     "text": [
      "             precision    recall  f1-score   support\n",
      "\n",
      "        0.0       0.94      0.69      0.79     16301\n",
      "        1.0       0.14      0.54      0.22      1578\n",
      "\n",
      "avg / total       0.87      0.67      0.74     17879\n",
      "\n"
     ]
    },
    {
     "name": "stderr",
     "output_type": "stream",
     "text": [
      "/anaconda3/lib/python3.6/site-packages/sklearn/preprocessing/label.py:151: DeprecationWarning: The truth value of an empty array is ambiguous. Returning False, but in future this will result in an error. Use `array.size > 0` to check that an array is not empty.\n",
      "  if diff:\n",
      "/anaconda3/lib/python3.6/site-packages/sklearn/preprocessing/label.py:151: DeprecationWarning: The truth value of an empty array is ambiguous. Returning False, but in future this will result in an error. Use `array.size > 0` to check that an array is not empty.\n",
      "  if diff:\n",
      "/anaconda3/lib/python3.6/site-packages/sklearn/preprocessing/label.py:151: DeprecationWarning: The truth value of an empty array is ambiguous. Returning False, but in future this will result in an error. Use `array.size > 0` to check that an array is not empty.\n",
      "  if diff:\n"
     ]
    },
    {
     "data": {
      "text/plain": [
       "(array([0.67652037, 0.68342558, 0.68108246, 0.67929661, 0.68094469]),\n",
       " 0.6106983996954007,\n",
       " None,\n",
       " array([[11181,  5120],\n",
       "        [  733,   845]]))"
      ]
     },
     "execution_count": 68,
     "metadata": {},
     "output_type": "execute_result"
    }
   ],
   "source": [
    "import xgboost as xgb\n",
    "clf3 = xgb.XGBClassifier(max_depth=3,objective='binary:logistic',silent = True,n_estimators=50)\n",
    "train_pipe(df_v1,clf3,resample=True)"
   ]
  },
  {
   "cell_type": "code",
   "execution_count": 86,
   "metadata": {},
   "outputs": [
    {
     "name": "stdout",
     "output_type": "stream",
     "text": [
      "             precision    recall  f1-score   support\n",
      "\n",
      "        0.0       0.94      0.68      0.79     16301\n",
      "        1.0       0.14      0.55      0.23      1578\n",
      "\n",
      "avg / total       0.87      0.67      0.74     17879\n",
      "\n"
     ]
    },
    {
     "name": "stderr",
     "output_type": "stream",
     "text": [
      "/anaconda3/lib/python3.6/site-packages/sklearn/preprocessing/label.py:151: DeprecationWarning: The truth value of an empty array is ambiguous. Returning False, but in future this will result in an error. Use `array.size > 0` to check that an array is not empty.\n",
      "  if diff:\n",
      "/anaconda3/lib/python3.6/site-packages/sklearn/preprocessing/label.py:151: DeprecationWarning: The truth value of an empty array is ambiguous. Returning False, but in future this will result in an error. Use `array.size > 0` to check that an array is not empty.\n",
      "  if diff:\n",
      "/anaconda3/lib/python3.6/site-packages/sklearn/preprocessing/label.py:151: DeprecationWarning: The truth value of an empty array is ambiguous. Returning False, but in future this will result in an error. Use `array.size > 0` to check that an array is not empty.\n",
      "  if diff:\n"
     ]
    },
    {
     "data": {
      "text/plain": [
       "(array([0.67590835, 0.6807047 , 0.67103649, 0.6716093 , 0.6800944 ]),\n",
       " 0.6163291824142602,\n",
       " None,\n",
       " array([[11065,  5236],\n",
       "        [  704,   874]]))"
      ]
     },
     "execution_count": 86,
     "metadata": {},
     "output_type": "execute_result"
    }
   ],
   "source": [
    "from sklearn.ensemble import VotingClassifier\n",
    "eclf=VotingClassifier(estimators=[('lr', lg_clf2), ('xgb', clf3)], voting='soft')\n",
    "train_pipe(df_v1,eclf,resample=True)"
   ]
  },
  {
   "cell_type": "code",
   "execution_count": 87,
   "metadata": {},
   "outputs": [
    {
     "name": "stdout",
     "output_type": "stream",
     "text": [
      "\n",
      "******** For i = 0.35 ******\n",
      "Our AUC is 0.5459669755189309\n",
      "[[ 2418 13883]\n",
      " [   89  1489]]\n",
      "\n",
      "******** For i = 0.4 ******\n",
      "Our AUC is 0.5891407480113695\n",
      "[[ 5623 10678]\n",
      " [  263  1315]]\n",
      "\n",
      "******** For i = 0.42 ******\n",
      "Our AUC is 0.6007757150046935\n",
      "[[7056 9245]\n",
      " [ 365 1213]]\n",
      "\n",
      "******** For i = 0.45 ******\n",
      "Our AUC is 0.6117590467169081\n",
      "[[8757 7544]\n",
      " [ 495 1083]]\n",
      "\n",
      "******** For i = 0.46 ******\n",
      "Our AUC is 0.6139304904743144\n",
      "[[9241 7060]\n",
      " [ 535 1043]]\n",
      "\n",
      "******** For i = 0.47 ******\n",
      "Our AUC is 0.612667436872978\n",
      "[[9706 6595]\n",
      " [ 584  994]]\n",
      "\n",
      "******** For i = 0.48 ******\n",
      "Our AUC is 0.6125494101032937\n",
      "[[10198  6103]\n",
      " [  632   946]]\n",
      "\n",
      "******** For i = 0.49 ******\n",
      "Our AUC is 0.6118891055304717\n",
      "[[10631  5670]\n",
      " [  676   902]]\n",
      "\n",
      "******** For i = 0.5 ******\n",
      "Our AUC is 0.6163291824142602\n",
      "[[11065  5236]\n",
      " [  704   874]]\n",
      "\n",
      "******** For i = 0.55 ******\n",
      "Our AUC is 0.6050523971213597\n",
      "[[12939  3362]\n",
      " [  921   657]]\n",
      "\n",
      "******** For i = 0.6 ******\n",
      "Our AUC is 0.5898040071410083\n",
      "[[14198  2103]\n",
      " [ 1091   487]]\n"
     ]
    }
   ],
   "source": [
    "target_proba_test2=eclf.predict_proba(X_test)[:,1]        \n",
    "thres_auc(target_proba_test2)"
   ]
  }
 ],
 "metadata": {
  "kernelspec": {
   "display_name": "Python 3",
   "language": "python",
   "name": "python3"
  },
  "language_info": {
   "codemirror_mode": {
    "name": "ipython",
    "version": 3
   },
   "file_extension": ".py",
   "mimetype": "text/x-python",
   "name": "python",
   "nbconvert_exporter": "python",
   "pygments_lexer": "ipython3",
   "version": "3.6.3"
  }
 },
 "nbformat": 4,
 "nbformat_minor": 2
}
