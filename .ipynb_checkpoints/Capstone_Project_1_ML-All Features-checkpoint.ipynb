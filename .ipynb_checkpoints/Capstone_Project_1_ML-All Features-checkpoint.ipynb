{
 "cells": [
  {
   "cell_type": "markdown",
   "metadata": {},
   "source": [
    "#### Project Overview\n",
    "\n",
    "This is the first Captone project for SpringBoard using the UCI dataset: Diabetes 130-US hospitals for years 1999-2008 Data Set. Detailed description of the dataset can be found here - https://archive.ics.uci.edu/ml/datasets/diabetes+130-us+hospitals+for+years+1999-2008."
   ]
  },
  {
   "cell_type": "markdown",
   "metadata": {},
   "source": [
    "### Step One - Data Wrangling\n",
    "First step is to read in the CSV file and explore the data to check for:\n",
    "1) non-numerical values\n",
    "2) missing cells"
   ]
  },
  {
   "cell_type": "code",
   "execution_count": 15,
   "metadata": {
    "collapsed": true
   },
   "outputs": [],
   "source": [
    "import pandas as pd\n",
    "import numpy as np\n",
    "import matplotlib.pyplot as plt\n",
    "import seaborn as sns"
   ]
  },
  {
   "cell_type": "code",
   "execution_count": 77,
   "metadata": {
    "collapsed": true
   },
   "outputs": [],
   "source": [
    "df_raw=pd.read_csv('/Users/YingShen/Desktop/Data_Science/SpringBorad/Git/dataset_diabetes/diabetic_data.csv')"
   ]
  },
  {
   "cell_type": "markdown",
   "metadata": {},
   "source": [
    "#### I. Preliminary Analysis\n",
    "First roughly explore the data to see if there are too many missing cells."
   ]
  },
  {
   "cell_type": "code",
   "execution_count": 25,
   "metadata": {},
   "outputs": [
    {
     "name": "stdout",
     "output_type": "stream",
     "text": [
      "(101766, 50)\n"
     ]
    },
    {
     "data": {
      "text/html": [
       "<div>\n",
       "<style scoped>\n",
       "    .dataframe tbody tr th:only-of-type {\n",
       "        vertical-align: middle;\n",
       "    }\n",
       "\n",
       "    .dataframe tbody tr th {\n",
       "        vertical-align: top;\n",
       "    }\n",
       "\n",
       "    .dataframe thead th {\n",
       "        text-align: right;\n",
       "    }\n",
       "</style>\n",
       "<table border=\"1\" class=\"dataframe\">\n",
       "  <thead>\n",
       "    <tr style=\"text-align: right;\">\n",
       "      <th></th>\n",
       "      <th>encounter_id</th>\n",
       "      <th>patient_nbr</th>\n",
       "      <th>race</th>\n",
       "      <th>gender</th>\n",
       "      <th>age</th>\n",
       "      <th>weight</th>\n",
       "      <th>admission_type_id</th>\n",
       "      <th>discharge_disposition_id</th>\n",
       "      <th>admission_source_id</th>\n",
       "      <th>time_in_hospital</th>\n",
       "      <th>...</th>\n",
       "      <th>citoglipton</th>\n",
       "      <th>insulin</th>\n",
       "      <th>glyburide-metformin</th>\n",
       "      <th>glipizide-metformin</th>\n",
       "      <th>glimepiride-pioglitazone</th>\n",
       "      <th>metformin-rosiglitazone</th>\n",
       "      <th>metformin-pioglitazone</th>\n",
       "      <th>change</th>\n",
       "      <th>diabetesMed</th>\n",
       "      <th>readmitted</th>\n",
       "    </tr>\n",
       "  </thead>\n",
       "  <tbody>\n",
       "    <tr>\n",
       "      <th>0</th>\n",
       "      <td>2278392</td>\n",
       "      <td>8222157</td>\n",
       "      <td>Caucasian</td>\n",
       "      <td>Female</td>\n",
       "      <td>[0-10)</td>\n",
       "      <td>?</td>\n",
       "      <td>6</td>\n",
       "      <td>25</td>\n",
       "      <td>1</td>\n",
       "      <td>1</td>\n",
       "      <td>...</td>\n",
       "      <td>No</td>\n",
       "      <td>No</td>\n",
       "      <td>No</td>\n",
       "      <td>No</td>\n",
       "      <td>No</td>\n",
       "      <td>No</td>\n",
       "      <td>No</td>\n",
       "      <td>No</td>\n",
       "      <td>No</td>\n",
       "      <td>NO</td>\n",
       "    </tr>\n",
       "    <tr>\n",
       "      <th>1</th>\n",
       "      <td>149190</td>\n",
       "      <td>55629189</td>\n",
       "      <td>Caucasian</td>\n",
       "      <td>Female</td>\n",
       "      <td>[10-20)</td>\n",
       "      <td>?</td>\n",
       "      <td>1</td>\n",
       "      <td>1</td>\n",
       "      <td>7</td>\n",
       "      <td>3</td>\n",
       "      <td>...</td>\n",
       "      <td>No</td>\n",
       "      <td>Up</td>\n",
       "      <td>No</td>\n",
       "      <td>No</td>\n",
       "      <td>No</td>\n",
       "      <td>No</td>\n",
       "      <td>No</td>\n",
       "      <td>Ch</td>\n",
       "      <td>Yes</td>\n",
       "      <td>&gt;30</td>\n",
       "    </tr>\n",
       "    <tr>\n",
       "      <th>2</th>\n",
       "      <td>64410</td>\n",
       "      <td>86047875</td>\n",
       "      <td>AfricanAmerican</td>\n",
       "      <td>Female</td>\n",
       "      <td>[20-30)</td>\n",
       "      <td>?</td>\n",
       "      <td>1</td>\n",
       "      <td>1</td>\n",
       "      <td>7</td>\n",
       "      <td>2</td>\n",
       "      <td>...</td>\n",
       "      <td>No</td>\n",
       "      <td>No</td>\n",
       "      <td>No</td>\n",
       "      <td>No</td>\n",
       "      <td>No</td>\n",
       "      <td>No</td>\n",
       "      <td>No</td>\n",
       "      <td>No</td>\n",
       "      <td>Yes</td>\n",
       "      <td>NO</td>\n",
       "    </tr>\n",
       "    <tr>\n",
       "      <th>3</th>\n",
       "      <td>500364</td>\n",
       "      <td>82442376</td>\n",
       "      <td>Caucasian</td>\n",
       "      <td>Male</td>\n",
       "      <td>[30-40)</td>\n",
       "      <td>?</td>\n",
       "      <td>1</td>\n",
       "      <td>1</td>\n",
       "      <td>7</td>\n",
       "      <td>2</td>\n",
       "      <td>...</td>\n",
       "      <td>No</td>\n",
       "      <td>Up</td>\n",
       "      <td>No</td>\n",
       "      <td>No</td>\n",
       "      <td>No</td>\n",
       "      <td>No</td>\n",
       "      <td>No</td>\n",
       "      <td>Ch</td>\n",
       "      <td>Yes</td>\n",
       "      <td>NO</td>\n",
       "    </tr>\n",
       "    <tr>\n",
       "      <th>4</th>\n",
       "      <td>16680</td>\n",
       "      <td>42519267</td>\n",
       "      <td>Caucasian</td>\n",
       "      <td>Male</td>\n",
       "      <td>[40-50)</td>\n",
       "      <td>?</td>\n",
       "      <td>1</td>\n",
       "      <td>1</td>\n",
       "      <td>7</td>\n",
       "      <td>1</td>\n",
       "      <td>...</td>\n",
       "      <td>No</td>\n",
       "      <td>Steady</td>\n",
       "      <td>No</td>\n",
       "      <td>No</td>\n",
       "      <td>No</td>\n",
       "      <td>No</td>\n",
       "      <td>No</td>\n",
       "      <td>Ch</td>\n",
       "      <td>Yes</td>\n",
       "      <td>NO</td>\n",
       "    </tr>\n",
       "  </tbody>\n",
       "</table>\n",
       "<p>5 rows × 50 columns</p>\n",
       "</div>"
      ],
      "text/plain": [
       "   encounter_id  patient_nbr             race  gender      age weight  \\\n",
       "0       2278392      8222157        Caucasian  Female   [0-10)      ?   \n",
       "1        149190     55629189        Caucasian  Female  [10-20)      ?   \n",
       "2         64410     86047875  AfricanAmerican  Female  [20-30)      ?   \n",
       "3        500364     82442376        Caucasian    Male  [30-40)      ?   \n",
       "4         16680     42519267        Caucasian    Male  [40-50)      ?   \n",
       "\n",
       "   admission_type_id  discharge_disposition_id  admission_source_id  \\\n",
       "0                  6                        25                    1   \n",
       "1                  1                         1                    7   \n",
       "2                  1                         1                    7   \n",
       "3                  1                         1                    7   \n",
       "4                  1                         1                    7   \n",
       "\n",
       "   time_in_hospital    ...     citoglipton insulin  glyburide-metformin  \\\n",
       "0                 1    ...              No      No                   No   \n",
       "1                 3    ...              No      Up                   No   \n",
       "2                 2    ...              No      No                   No   \n",
       "3                 2    ...              No      Up                   No   \n",
       "4                 1    ...              No  Steady                   No   \n",
       "\n",
       "   glipizide-metformin  glimepiride-pioglitazone  metformin-rosiglitazone  \\\n",
       "0                   No                        No                       No   \n",
       "1                   No                        No                       No   \n",
       "2                   No                        No                       No   \n",
       "3                   No                        No                       No   \n",
       "4                   No                        No                       No   \n",
       "\n",
       "   metformin-pioglitazone  change diabetesMed readmitted  \n",
       "0                      No      No          No         NO  \n",
       "1                      No      Ch         Yes        >30  \n",
       "2                      No      No         Yes         NO  \n",
       "3                      No      Ch         Yes         NO  \n",
       "4                      No      Ch         Yes         NO  \n",
       "\n",
       "[5 rows x 50 columns]"
      ]
     },
     "execution_count": 25,
     "metadata": {},
     "output_type": "execute_result"
    }
   ],
   "source": [
    "print(df_raw.shape)\n",
    "df_raw.head()\n",
    "# there are missing values coded as \"?\"; and many medications were not prescribed"
   ]
  },
  {
   "cell_type": "markdown",
   "metadata": {},
   "source": [
    "#### Exclude missing observations\n",
    "As shown aove, some features have too many missingness, including:\n",
    "\n",
    "weight: 98569 missing;\n",
    "payer_code: 40256 missing;\n",
    "medical_specialty: 49949 missing\n",
    "\n",
    "Medical_specialty will be kept; other two variables are considered not relevent to the outcome and will be dropped; Medicatoins will be processed to include information about whether there is a increase in dosage, a dicrease in dosage, or no change in dosage."
   ]
  },
  {
   "cell_type": "code",
   "execution_count": 83,
   "metadata": {
    "scrolled": true
   },
   "outputs": [
    {
     "name": "stdout",
     "output_type": "stream",
     "text": [
      "(70431, 46)\n",
      "      admission_type_id  discharge_disposition_id  admission_source_id  \\\n",
      "mean           2.105181                  3.478241             5.641152   \n",
      "min            1.000000                  1.000000             1.000000   \n",
      "max            8.000000                 28.000000            25.000000   \n",
      "\n",
      "      time_in_hospital  num_lab_procedures  num_procedures  num_medications  \\\n",
      "mean          4.283682           42.917011        1.422058        15.666723   \n",
      "min           1.000000            1.000000        0.000000         1.000000   \n",
      "max          14.000000          132.000000        6.000000        81.000000   \n",
      "\n",
      "      number_outpatient  number_emergency  number_inpatient  number_diagnoses  \n",
      "mean           0.280104          0.103861          0.176868          7.231248  \n",
      "min            0.000000          0.000000          0.000000          1.000000  \n",
      "max           42.000000         42.000000         12.000000         16.000000  \n"
     ]
    }
   ],
   "source": [
    "# Select the features we need to process\n",
    "df=df_raw.drop(columns=['weight','payer_code'])\n",
    "\n",
    "# Same patienets are highly correlated with themselves and should be dropped\n",
    "df.drop_duplicates(subset=[\"patient_nbr\"],inplace=True) \n",
    "df.drop(columns=['encounter_id','patient_nbr'],inplace=True)\n",
    "\n",
    "# There are 3 invalid/unknown cells in gender; just delete them\n",
    "df=df[df['gender']!=\"Unknown/Invalid\"]\n",
    "\n",
    "# Drop encounters that ended in deaths or hospice\n",
    "df=df[df['discharge_disposition_id'].isin([11,19,20,21])==False]\n",
    "\n",
    "''' Get a general idea of the variables left'''\n",
    "print(df.shape) \n",
    "\n",
    "'''Then explore numeric variables in the dataset'''\n",
    "print(df.describe().loc[['mean','min','max']])"
   ]
  },
  {
   "cell_type": "code",
   "execution_count": 51,
   "metadata": {},
   "outputs": [
    {
     "name": "stdout",
     "output_type": "stream",
     "text": [
      "race:\n",
      "\n",
      "Caucasian          52663\n",
      "AfricanAmerican    12692\n",
      "?                   1919\n",
      "Hispanic            1506\n",
      "Other               1160\n",
      "Asian                491\n",
      "Name: race, dtype: int64\n",
      "gender:\n",
      "\n",
      "Female    37468\n",
      "Male      32963\n",
      "Name: gender, dtype: int64\n",
      "age:\n",
      "\n",
      "[70-80)     17887\n",
      "[60-70)     15762\n",
      "[50-60)     12368\n",
      "[80-90)     11267\n",
      "[40-50)      6840\n",
      "[30-40)      2692\n",
      "[90-100)     1806\n",
      "[20-30)      1122\n",
      "[10-20)       534\n",
      "[0-10)        153\n",
      "Name: age, dtype: int64\n",
      "max_glu_serum:\n",
      "\n",
      "None    67046\n",
      "Norm     1717\n",
      ">200      946\n",
      ">300      722\n",
      "Name: max_glu_serum, dtype: int64\n",
      "A1Cresult:\n",
      "\n",
      "None    57553\n",
      ">8       6249\n",
      "Norm     3757\n",
      ">7       2872\n",
      "Name: A1Cresult, dtype: int64\n",
      "change:\n",
      "\n",
      "No    38769\n",
      "Ch    31662\n",
      "Name: change, dtype: int64\n",
      "diabetesMed:\n",
      "\n",
      "Yes    53606\n",
      "No     16825\n",
      "Name: diabetesMed, dtype: int64\n",
      "readmitted:\n",
      "\n",
      "NO     41898\n",
      ">30    22240\n",
      "<30     6293\n",
      "Name: readmitted, dtype: int64\n"
     ]
    }
   ],
   "source": [
    "''' Explore categorical variables in the dataset'''\n",
    "cat_l=['race', 'gender', 'age','max_glu_serum', 'A1Cresult','change', \n",
    "       'diabetesMed', 'readmitted'] # 'medical_specialty', 'diag_1'-'diag_3'\n",
    "\n",
    "for i in cat_l:\n",
    "    print(i+':\\n')\n",
    "    print(df[i].value_counts())"
   ]
  },
  {
   "cell_type": "code",
   "execution_count": 84,
   "metadata": {},
   "outputs": [],
   "source": [
    "''' Transform target variable to be 1 versus 0 '''\n",
    "df['readmitted_d']=df_raw['readmitted'].apply(lambda x: 1 if x==\"<30\" else 0)\n",
    "y=df['readmitted_d'].values"
   ]
  },
  {
   "cell_type": "code",
   "execution_count": 37,
   "metadata": {},
   "outputs": [
    {
     "data": {
      "text/plain": [
       "35"
      ]
     },
     "execution_count": 37,
     "metadata": {},
     "output_type": "execute_result"
    }
   ],
   "source": [
    "len(dummy_list)"
   ]
  },
  {
   "cell_type": "code",
   "execution_count": 85,
   "metadata": {},
   "outputs": [],
   "source": [
    "dummy_list=['race','age', 'gender', 'admission_type_id','discharge_disposition_id', \n",
    "            'admission_source_id', 'medical_specialty','diag_1','max_glu_serum', \n",
    "            'A1Cresult', 'metformin', 'repaglinide', 'nateglinide', 'chlorpropamide',\n",
    "            'glimepiride', 'acetohexamide', 'glipizide', 'glyburide', 'tolbutamide',\n",
    "            'pioglitazone', 'rosiglitazone', 'acarbose', 'miglitol', 'troglitazone',\n",
    "            'tolazamide', 'examide', 'citoglipton', 'insulin',\n",
    "            'glyburide-metformin', 'glipizide-metformin',\n",
    "            'glimepiride-pioglitazone', 'metformin-rosiglitazone',\n",
    "            'metformin-pioglitazone','diabetesMed','change']\n",
    "dummy_cols=pd.get_dummies(df[dummy_list]).columns\n",
    "df[dummy_cols]=pd.get_dummies(df[dummy_list])"
   ]
  },
  {
   "cell_type": "code",
   "execution_count": 93,
   "metadata": {},
   "outputs": [
    {
     "data": {
      "text/plain": [
       "(874,)"
      ]
     },
     "execution_count": 93,
     "metadata": {},
     "output_type": "execute_result"
    }
   ],
   "source": [
    "df.drop(columns=['diag_2','diag_3','readmitted','diabetesMed','change'],inplace=True)\n",
    "df_ml=df.drop(columns=dummy_list)\n",
    "df_ml=df_ml.drop(columns=['readmitted','diag_2', 'diag_3'])\n",
    "df_ml.columns.shape"
   ]
  },
  {
   "cell_type": "code",
   "execution_count": 92,
   "metadata": {},
   "outputs": [
    {
     "data": {
      "text/plain": [
       "Index(['time_in_hospital', 'num_lab_procedures', 'num_procedures',\n",
       "       'num_medications', 'number_outpatient', 'number_emergency',\n",
       "       'number_inpatient', 'diag_2', 'diag_3', 'number_diagnoses',\n",
       "       ...\n",
       "       'glipizide-metformin_Steady', 'glimepiride-pioglitazone_No',\n",
       "       'metformin-rosiglitazone_No', 'metformin-rosiglitazone_Steady',\n",
       "       'metformin-pioglitazone_No', 'metformin-pioglitazone_Steady',\n",
       "       'diabetesMed_No', 'diabetesMed_Yes', 'change_Ch', 'change_No'],\n",
       "      dtype='object', length=876)"
      ]
     },
     "execution_count": 92,
     "metadata": {},
     "output_type": "execute_result"
    }
   ],
   "source": [
    "df_ml.columns"
   ]
  },
  {
   "cell_type": "markdown",
   "metadata": {
    "collapsed": true
   },
   "source": [
    "### Step 4. Machine Learning"
   ]
  },
  {
   "cell_type": "code",
   "execution_count": 63,
   "metadata": {},
   "outputs": [],
   "source": [
    "''' First try a simple decision tree classifier '''\n",
    "from sklearn.tree import DecisionTreeClassifier\n",
    "from sklearn.metrics import confusion_matrix\n",
    "from sklearn.metrics import classification_report\n",
    "from sklearn.metrics import roc_auc_score\n",
    "from sklearn.model_selection import cross_val_score\n",
    "from sklearn.model_selection import train_test_split\n",
    "\n",
    "# X=df.as_matrix()\n",
    "# y=df['readmitted_d'].values\n",
    "\n",
    "# X_train, X_test, y_train, y_test = train_test_split(X,y,test_size=0.33,random_state=22)\n",
    "\n",
    "# dt_clf=DecisionTreeClassifier(max_depth=25,class_weight=\"balanced\")\n",
    "# dt_clf.fit(X_train,y_train)\n",
    "# print(classification_report(dt_clf.predict(X_test),y_test)) \n",
    "\n",
    "# scores = cross_val_score(dt_clf, X_train, y_train, cv=5,scoring='roc_auc')\n",
    "# print(scores)\n",
    "# roc_auc_score(y_test,dt_clf.predict(X_test))\n",
    "# # obvious overfitting even after pruning"
   ]
  },
  {
   "cell_type": "code",
   "execution_count": 64,
   "metadata": {
    "collapsed": true
   },
   "outputs": [],
   "source": [
    "''' Write a reusable function for other classifers and inputs '''\n",
    "def train_cross_val(df,clf):\n",
    "    X=df.as_matrix()\n",
    "    X_train, X_test, y_train, y_test = train_test_split(X,y,test_size=0.33,random_state=22)\n",
    "    clf=clf\n",
    "    clf.fit(X_train,y_train)\n",
    "    scores=cross_val_score(clf, X_train, y_train, cv=5,scoring='roc_auc')\n",
    "    ra_score=roc_auc_score(y_test,clf.predict(X_test))\n",
    "    report=print(classification_report(y_test,clf.predict(X_test)))\n",
    "    return scores, report, ra_score "
   ]
  },
  {
   "cell_type": "code",
   "execution_count": 94,
   "metadata": {},
   "outputs": [
    {
     "name": "stdout",
     "output_type": "stream",
     "text": [
      "             precision    recall  f1-score   support\n",
      "\n",
      "          0       1.00      1.00      1.00     21105\n",
      "          1       1.00      1.00      1.00      2138\n",
      "\n",
      "avg / total       1.00      1.00      1.00     23243\n",
      "\n"
     ]
    },
    {
     "data": {
      "text/plain": [
       "(array([1., 1., 1., 1., 1.]), None, 1.0)"
      ]
     },
     "execution_count": 94,
     "metadata": {},
     "output_type": "execute_result"
    }
   ],
   "source": [
    "from sklearn.linear_model import LogisticRegression\n",
    "\n",
    "clf1=LogisticRegression(class_weight=\"balanced\")\n",
    "train_cross_val(df_ml,clf1)"
   ]
  },
  {
   "cell_type": "code",
   "execution_count": 75,
   "metadata": {},
   "outputs": [
    {
     "name": "stdout",
     "output_type": "stream",
     "text": [
      "             precision    recall  f1-score   support\n",
      "\n",
      "          0       0.91      1.00      0.95     21486\n",
      "          1       0.67      0.00      0.00      2114\n",
      "\n",
      "avg / total       0.89      0.91      0.87     23600\n",
      "\n"
     ]
    },
    {
     "name": "stderr",
     "output_type": "stream",
     "text": [
      "/anaconda3/lib/python3.6/site-packages/sklearn/preprocessing/label.py:151: DeprecationWarning: The truth value of an empty array is ambiguous. Returning False, but in future this will result in an error. Use `array.size > 0` to check that an array is not empty.\n",
      "  if diff:\n",
      "/anaconda3/lib/python3.6/site-packages/sklearn/preprocessing/label.py:151: DeprecationWarning: The truth value of an empty array is ambiguous. Returning False, but in future this will result in an error. Use `array.size > 0` to check that an array is not empty.\n",
      "  if diff:\n"
     ]
    },
    {
     "data": {
      "text/plain": [
       "(array([0.66727603, 0.66191854, 0.65753159, 0.66353358, 0.67508415]),\n",
       " None,\n",
       " 0.5004497659297366)"
      ]
     },
     "execution_count": 75,
     "metadata": {},
     "output_type": "execute_result"
    }
   ],
   "source": [
    "import xgboost as xgb\n",
    "\n",
    "clf2 = xgb.XGBClassifier(silent = True,class_weight='balanced')\n",
    "train_cross_val(df_v1,clf2)"
   ]
  },
  {
   "cell_type": "code",
   "execution_count": 79,
   "metadata": {
    "collapsed": true
   },
   "outputs": [],
   "source": [
    "''' Try Random Oversampling '''\n",
    "from collections import Counter\n",
    "from imblearn.over_sampling import RandomOverSampler,SMOTE\n",
    "ros1= RandomOverSampler(ratio='auto', random_state=None)\n",
    "ros2= SMOTE(ratio='auto', random_state=None)\n",
    "\n",
    "X_resamp1, y_resamp1 = ros1.fit_sample(X_train, y_train)\n",
    "X_resamp2, y_resamp2 = ros2.fit_sample(X_train, y_train)"
   ]
  },
  {
   "cell_type": "code",
   "execution_count": 68,
   "metadata": {},
   "outputs": [
    {
     "name": "stdout",
     "output_type": "stream",
     "text": [
      "             precision    recall  f1-score   support\n",
      "\n",
      "          0       0.94      0.68      0.79     21486\n",
      "          1       0.15      0.55      0.23      2114\n",
      "\n",
      "avg / total       0.87      0.67      0.74     23600\n",
      "\n"
     ]
    },
    {
     "name": "stderr",
     "output_type": "stream",
     "text": [
      "/anaconda3/lib/python3.6/site-packages/sklearn/preprocessing/label.py:151: DeprecationWarning: The truth value of an empty array is ambiguous. Returning False, but in future this will result in an error. Use `array.size > 0` to check that an array is not empty.\n",
      "  if diff:\n"
     ]
    }
   ],
   "source": [
    "clf3 = xgb.XGBClassifier(silent = True)\n",
    "clf3.fit(X_resamp,y_resamp)\n",
    "print(classification_report(y_test,clf3.predict(X_test)))\n",
    "roc_auc_score(y_test,clf3.predict(X_test))"
   ]
  },
  {
   "cell_type": "code",
   "execution_count": 77,
   "metadata": {},
   "outputs": [
    {
     "name": "stderr",
     "output_type": "stream",
     "text": [
      "/anaconda3/lib/python3.6/site-packages/sklearn/preprocessing/label.py:151: DeprecationWarning: The truth value of an empty array is ambiguous. Returning False, but in future this will result in an error. Use `array.size > 0` to check that an array is not empty.\n",
      "  if diff:\n"
     ]
    },
    {
     "data": {
      "text/plain": [
       "0.6161653655620156"
      ]
     },
     "execution_count": 77,
     "metadata": {},
     "output_type": "execute_result"
    }
   ],
   "source": [
    "roc_auc_score(y_test,clf3.predict(X_test))"
   ]
  },
  {
   "cell_type": "code",
   "execution_count": 74,
   "metadata": {},
   "outputs": [
    {
     "name": "stdout",
     "output_type": "stream",
     "text": [
      "             precision    recall  f1-score   support\n",
      "\n",
      "          0       0.94      0.69      0.79     21486\n",
      "          1       0.14      0.54      0.23      2114\n",
      "\n",
      "avg / total       0.87      0.67      0.74     23600\n",
      "\n"
     ]
    },
    {
     "data": {
      "text/plain": [
       "0.6120015356636708"
      ]
     },
     "execution_count": 74,
     "metadata": {},
     "output_type": "execute_result"
    }
   ],
   "source": [
    "clf4 = LogisticRegression()\n",
    "clf4.fit(X_resamp,y_resamp)\n",
    "print(classification_report(y_test,clf4.predict(X_test)))\n",
    "roc_auc_score(y_test,clf4.predict(X_test))"
   ]
  },
  {
   "cell_type": "markdown",
   "metadata": {},
   "source": [
    "The feature importances: The importance of a feature is computed as the (normalized) total reduction of the criterion brought by that feature. It is also known as the Gini importance "
   ]
  },
  {
   "cell_type": "code",
   "execution_count": null,
   "metadata": {
    "collapsed": true
   },
   "outputs": [],
   "source": [
    "# from sklearn.ensemble import GradientBoostingClassifier\n",
    "# from sklearn.metrics import roc_auc_score\n",
    "\n",
    "# gb_clf=GradientBoostingClassifier(max_depth=15)\n",
    "# gb_clf.fit(X_resamp,y_resamp)\n",
    "# roc_auc_score(gb_clf.predict(X_test),y_test)"
   ]
  },
  {
   "cell_type": "code",
   "execution_count": 83,
   "metadata": {
    "collapsed": true
   },
   "outputs": [],
   "source": [
    "from sklearn.feature_selection import RFE\n",
    "\n",
    "estimator=LogisticRegression(class_weight=\"balanced\")\n",
    "selector = RFE(estimator, 10, step=1)\n",
    "selector = selector.fit(X_resamp, y_resamp)\n",
    "rank=selector.ranking_"
   ]
  },
  {
   "cell_type": "code",
   "execution_count": 86,
   "metadata": {
    "scrolled": true
   },
   "outputs": [
    {
     "data": {
      "text/plain": [
       "['dischar_group',\n",
       " 'diag_group',\n",
       " 'number_inpatient',\n",
       " 'metformin_Down',\n",
       " 'metformin_No',\n",
       " 'metformin_Steady',\n",
       " 'glipizide_Down',\n",
       " 'glipizide_No',\n",
       " 'glipizide_Steady',\n",
       " 'glipizide_Up']"
      ]
     },
     "execution_count": 86,
     "metadata": {},
     "output_type": "execute_result"
    }
   ],
   "source": [
    "features_v2=[]\n",
    "for i,j in zip(df_v1,rank):\n",
    "    if j==1:\n",
    "        features_v2.append(i)\n",
    "features_v2"
   ]
  },
  {
   "cell_type": "code",
   "execution_count": 88,
   "metadata": {},
   "outputs": [
    {
     "name": "stdout",
     "output_type": "stream",
     "text": [
      "             precision    recall  f1-score   support\n",
      "\n",
      "          0       0.94      0.61      0.74     21486\n",
      "          1       0.14      0.61      0.22      2114\n",
      "\n",
      "avg / total       0.87      0.61      0.70     23600\n",
      "\n"
     ]
    },
    {
     "data": {
      "text/plain": [
       "(array([0.64589651, 0.63864829, 0.64056932, 0.65754588, 0.66655572]),\n",
       " None,\n",
       " 0.6134914279620242)"
      ]
     },
     "execution_count": 88,
     "metadata": {},
     "output_type": "execute_result"
    }
   ],
   "source": [
    "df_v2=df[features_v2]\n",
    "clf5=LogisticRegression(class_weight=\"balanced\")\n",
    "train_cross_val(df_v2,clf5)"
   ]
  },
  {
   "cell_type": "code",
   "execution_count": null,
   "metadata": {
    "collapsed": true
   },
   "outputs": [],
   "source": []
  },
  {
   "cell_type": "code",
   "execution_count": 221,
   "metadata": {
    "collapsed": true
   },
   "outputs": [],
   "source": [
    "# from sklearn.naive_bayes import GaussianNB#naive bayes\n",
    "# #from sklearn.ensemble import VotingClassifier\n",
    "# from sklearn.ensemble import RandomForestClassifier\n",
    "# from sklearn.svm import LinearSVC"
   ]
  },
  {
   "cell_type": "code",
   "execution_count": 226,
   "metadata": {
    "collapsed": true
   },
   "outputs": [],
   "source": [
    "# svm_clf=LinearSVC(penalty='l1',class_weight='balanced',dual=False)\n",
    "# svm_clf.fit(X_train,y_train)\n",
    "# print(classification_report(svm_clf.predict(X_test),y_test)) "
   ]
  },
  {
   "cell_type": "code",
   "execution_count": 209,
   "metadata": {},
   "outputs": [
    {
     "name": "stdout",
     "output_type": "stream",
     "text": [
      "[[47474     0]\n",
      " [  284  4719]]\n",
      "[[14387  1386]\n",
      " [ 1548   172]]\n",
      "             precision    recall  f1-score   support\n",
      "\n",
      "          0       0.90      0.91      0.91     15773\n",
      "          1       0.11      0.10      0.10      1720\n",
      "\n",
      "avg / total       0.82      0.83      0.83     17493\n",
      "\n"
     ]
    }
   ],
   "source": [
    "''' Try Solutoin 1: Feature selection '''\n",
    "from sklearn.feature_selection import SelectKBest\n",
    "from sklearn.feature_selection import chi2\n",
    "\n",
    "X_1 = SelectKBest(chi2, k=10).fit_transform(X, y)\n",
    "X_train, X_test, y_train, y_test = train_test_split(X_1,y,random_state=22)\n",
    "\n",
    "dt_clf=DecisionTreeClassifier(class_weight=\"balanced\")\n",
    "dt_clf.fit(X_train,y_train)\n",
    "print(confusion_matrix(dt_clf.predict(X_train),y_train))\n",
    "print(confusion_matrix(dt_clf.predict(X_test),y_test))\n",
    "print(classification_report(dt_clf.predict(X_test),y_test)) "
   ]
  },
  {
   "cell_type": "code",
   "execution_count": 211,
   "metadata": {},
   "outputs": [
    {
     "name": "stdout",
     "output_type": "stream",
     "text": [
      "(8, 'time_in_hospital')\n",
      "(10, 'num_lab_procedures')\n",
      "(9, 'num_procedures')\n",
      "(4, 'num_medications')\n",
      "(2, 'number_outpatient')\n",
      "(6, 'number_emergency')\n",
      "(3, 'number_inpatient')\n",
      "(5, 'number_diagnoses')\n",
      "(7, 'dischar_home')\n",
      "(1, 'gender_d')\n"
     ]
    },
    {
     "data": {
      "text/plain": [
       "array([0.15242466, 0.3283445 , 0.24115817, 0.02755158, 0.01846064,\n",
       "       0.0793938 , 0.02565717, 0.03042327, 0.08169006, 0.01489615])"
      ]
     },
     "execution_count": 211,
     "metadata": {},
     "output_type": "execute_result"
    }
   ],
   "source": [
    "feature_imp=dt_clf.feature_importances_\n",
    "import scipy.stats as ss\n",
    "rank=ss.rankdata(feature_imp).astype(int)\n",
    "for i in zip(rank, features2):\n",
    "    print(i)\n",
    "dt_clf.feature_importances_"
   ]
  },
  {
   "cell_type": "code",
   "execution_count": 31,
   "metadata": {},
   "outputs": [
    {
     "name": "stdout",
     "output_type": "stream",
     "text": [
      "[[36849   705]\n",
      " [10909  4014]]\n",
      "[[11678  1106]\n",
      " [ 4257   452]]\n",
      "             precision    recall  f1-score   support\n",
      "\n",
      "          0       0.73      0.91      0.81     12784\n",
      "          1       0.29      0.10      0.14      4709\n",
      "\n",
      "avg / total       0.61      0.69      0.63     17493\n",
      "\n"
     ]
    }
   ],
   "source": [
    "''' Try Solution 2: Polynomial Terms '''\n",
    "from sklearn.preprocessing import PolynomialFeatures\n",
    "\n",
    "poly = PolynomialFeatures(2)\n",
    "X_poly=poly.fit_transform(X) #276 features\n",
    "\n",
    "X_2 = SelectKBest(chi2, k=5).fit_transform(X_poly, y)\n",
    "X_train, X_test, y_train, y_test = train_test_split(X_2,y,random_state=22)\n",
    "\n",
    "dt_clf=DecisionTreeClassifier(max_depth=25,class_weight=\"balanced\")\n",
    "dt_clf.fit(X_train,y_train)\n",
    "print(confusion_matrix(dt_clf.predict(X_train),y_train))\n",
    "print(confusion_matrix(dt_clf.predict(X_test),y_test))\n",
    "print(classification_report(dt_clf.predict(X_test),y_test)) "
   ]
  }
 ],
 "metadata": {
  "kernelspec": {
   "display_name": "Python 3",
   "language": "python",
   "name": "python3"
  },
  "language_info": {
   "codemirror_mode": {
    "name": "ipython",
    "version": 3
   },
   "file_extension": ".py",
   "mimetype": "text/x-python",
   "name": "python",
   "nbconvert_exporter": "python",
   "pygments_lexer": "ipython3",
   "version": "3.6.3"
  }
 },
 "nbformat": 4,
 "nbformat_minor": 2
}
