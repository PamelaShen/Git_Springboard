{
 "cells": [
  {
   "cell_type": "markdown",
   "metadata": {},
   "source": [
    "### Part 1 ‑ Exploratory data analysis"
   ]
  },
  {
   "cell_type": "code",
   "execution_count": 2,
   "metadata": {},
   "outputs": [],
   "source": [
    "import pandas as pd\n",
    "import numpy as np\n",
    "import json\n",
    "from pandas.io.json import json_normalize\n",
    "import matplotlib.pyplot as plt\n",
    "import seaborn as sns"
   ]
  },
  {
   "cell_type": "code",
   "execution_count": 146,
   "metadata": {},
   "outputs": [
    {
     "name": "stdout",
     "output_type": "stream",
     "text": [
      "(93142, 1)\n"
     ]
    },
    {
     "data": {
      "text/html": [
       "<div>\n",
       "<style scoped>\n",
       "    .dataframe tbody tr th:only-of-type {\n",
       "        vertical-align: middle;\n",
       "    }\n",
       "\n",
       "    .dataframe tbody tr th {\n",
       "        vertical-align: top;\n",
       "    }\n",
       "\n",
       "    .dataframe thead th {\n",
       "        text-align: right;\n",
       "    }\n",
       "</style>\n",
       "<table border=\"1\" class=\"dataframe\">\n",
       "  <thead>\n",
       "    <tr style=\"text-align: right;\">\n",
       "      <th></th>\n",
       "      <th>login_time</th>\n",
       "    </tr>\n",
       "  </thead>\n",
       "  <tbody>\n",
       "    <tr>\n",
       "      <th>0</th>\n",
       "      <td>1970-01-01 20:13:18</td>\n",
       "    </tr>\n",
       "    <tr>\n",
       "      <th>1</th>\n",
       "      <td>1970-01-01 20:16:10</td>\n",
       "    </tr>\n",
       "    <tr>\n",
       "      <th>2</th>\n",
       "      <td>1970-01-01 20:16:37</td>\n",
       "    </tr>\n",
       "    <tr>\n",
       "      <th>3</th>\n",
       "      <td>1970-01-01 20:16:36</td>\n",
       "    </tr>\n",
       "    <tr>\n",
       "      <th>4</th>\n",
       "      <td>1970-01-01 20:26:21</td>\n",
       "    </tr>\n",
       "  </tbody>\n",
       "</table>\n",
       "</div>"
      ],
      "text/plain": [
       "           login_time\n",
       "0 1970-01-01 20:13:18\n",
       "1 1970-01-01 20:16:10\n",
       "2 1970-01-01 20:16:37\n",
       "3 1970-01-01 20:16:36\n",
       "4 1970-01-01 20:26:21"
      ]
     },
     "execution_count": 146,
     "metadata": {},
     "output_type": "execute_result"
    }
   ],
   "source": [
    "path=\"logins.json\"\n",
    "logins_raw=pd.read_json(path)\n",
    "print(logins_raw.shape)\n",
    "logins_raw.head()"
   ]
  },
  {
   "cell_type": "markdown",
   "metadata": {},
   "source": [
    "*__Aggregate these login counts based on 15 minute time intervals__* [as requested in the challenge]"
   ]
  },
  {
   "cell_type": "code",
   "execution_count": 147,
   "metadata": {},
   "outputs": [
    {
     "name": "stdout",
     "output_type": "stream",
     "text": [
      "(9788, 1)\n"
     ]
    },
    {
     "data": {
      "text/html": [
       "<div>\n",
       "<style scoped>\n",
       "    .dataframe tbody tr th:only-of-type {\n",
       "        vertical-align: middle;\n",
       "    }\n",
       "\n",
       "    .dataframe tbody tr th {\n",
       "        vertical-align: top;\n",
       "    }\n",
       "\n",
       "    .dataframe thead th {\n",
       "        text-align: right;\n",
       "    }\n",
       "</style>\n",
       "<table border=\"1\" class=\"dataframe\">\n",
       "  <thead>\n",
       "    <tr style=\"text-align: right;\">\n",
       "      <th></th>\n",
       "      <th>count</th>\n",
       "    </tr>\n",
       "    <tr>\n",
       "      <th>login_time</th>\n",
       "      <th></th>\n",
       "    </tr>\n",
       "  </thead>\n",
       "  <tbody>\n",
       "    <tr>\n",
       "      <th>1970-01-01 20:00:00</th>\n",
       "      <td>2</td>\n",
       "    </tr>\n",
       "    <tr>\n",
       "      <th>1970-01-01 20:15:00</th>\n",
       "      <td>6</td>\n",
       "    </tr>\n",
       "  </tbody>\n",
       "</table>\n",
       "</div>"
      ],
      "text/plain": [
       "                     count\n",
       "login_time                \n",
       "1970-01-01 20:00:00      2\n",
       "1970-01-01 20:15:00      6"
      ]
     },
     "metadata": {},
     "output_type": "display_data"
    },
    {
     "data": {
      "text/html": [
       "<div>\n",
       "<style scoped>\n",
       "    .dataframe tbody tr th:only-of-type {\n",
       "        vertical-align: middle;\n",
       "    }\n",
       "\n",
       "    .dataframe tbody tr th {\n",
       "        vertical-align: top;\n",
       "    }\n",
       "\n",
       "    .dataframe thead th {\n",
       "        text-align: right;\n",
       "    }\n",
       "</style>\n",
       "<table border=\"1\" class=\"dataframe\">\n",
       "  <thead>\n",
       "    <tr style=\"text-align: right;\">\n",
       "      <th></th>\n",
       "      <th>count</th>\n",
       "    </tr>\n",
       "    <tr>\n",
       "      <th>login_time</th>\n",
       "      <th></th>\n",
       "    </tr>\n",
       "  </thead>\n",
       "  <tbody>\n",
       "    <tr>\n",
       "      <th>1970-04-13 18:30:00</th>\n",
       "      <td>7</td>\n",
       "    </tr>\n",
       "    <tr>\n",
       "      <th>1970-04-13 18:45:00</th>\n",
       "      <td>6</td>\n",
       "    </tr>\n",
       "  </tbody>\n",
       "</table>\n",
       "</div>"
      ],
      "text/plain": [
       "                     count\n",
       "login_time                \n",
       "1970-04-13 18:30:00      7\n",
       "1970-04-13 18:45:00      6"
      ]
     },
     "execution_count": 147,
     "metadata": {},
     "output_type": "execute_result"
    }
   ],
   "source": [
    "logins_raw[\"count\"]=1\n",
    "reset_df = logins_raw.set_index(['login_time'])\n",
    "agg_15 = reset_df.resample('15T').sum()\n",
    "print(agg_df.shape)\n",
    "display(agg_15.head(2)) # \n",
    "agg_15.tail(2)"
   ]
  },
  {
   "cell_type": "code",
   "execution_count": 148,
   "metadata": {},
   "outputs": [
    {
     "data": {
      "text/plain": [
       "[<matplotlib.lines.Line2D at 0x1a359b8630>]"
      ]
     },
     "execution_count": 148,
     "metadata": {},
     "output_type": "execute_result"
    },
    {
     "data": {
      "image/png": "[encoded data removed]",
      "text/plain": [
       "<Figure size 1080x360 with 1 Axes>"
      ]
     },
     "metadata": {},
     "output_type": "display_data"
    }
   ],
   "source": [
    "# plot of the binned data\n",
    "fig, ax = plt.subplots(figsize = (15,5))\n",
    "plt.xlabel('Time')\n",
    "plt.ylabel('Number of Logins')\n",
    "plt.tight_layout()\n",
    "plt.title('Logins every 15 minutes')\n",
    "    \n",
    "# puts the data in the figure\n",
    "plt.plot(agg_15.index, agg_15[\"count\"])"
   ]
  },
  {
   "cell_type": "markdown",
   "metadata": {},
   "source": [
    "__Observation1__:<br>There doesn't seem to have a trend over time; but the figure is pretty jammed so it would be better to observe the time series data on other perspectives, such as:\n",
    "\n",
    "- sum of daily visits for different days\n",
    "- mean of the visits during each hour across all dates to find a specific hour with peak logins"
   ]
  },
  {
   "cell_type": "code",
   "execution_count": 149,
   "metadata": {},
   "outputs": [
    {
     "data": {
      "image/png": "[encoded data removed]",
      "text/plain": [
       "<Figure size 1080x576 with 1 Axes>"
      ]
     },
     "metadata": {},
     "output_type": "display_data"
    }
   ],
   "source": [
    "agg_daily=reset_df.resample('D').sum()\n",
    "agg_biz = reset_df.resample('B').sum()\n",
    "agg_fri = reset_df.resample('W-FRI').sum()\n",
    "agg_sat = reset_df.resample('W-SAT').sum()\n",
    "agg_sun = reset_df.resample('W-SUN').sum()\n",
    "\n",
    "# line, scatterplot, and histograms of the binned data\n",
    "fig, ax = plt.subplots(figsize = (15,8))\n",
    "plt.xlabel('Time', fontsize = 22)\n",
    "plt.ylabel('Number of Logins', fontsize = 22)\n",
    "plt.title('Logins over Time', fontsize = 22)\n",
    "\n",
    "plt.bar(agg_fri.index, agg_fri[\"count\"], align= 'center', width = 0.1, label = \"Fridays\", color = 'R')\n",
    "plt.bar(agg_sat.index, agg_sat[\"count\"], label = 'Saturday', align = 'center', width = 0.1, color = 'Black')\n",
    "plt.bar(agg_sun.index, agg_sun[\"count\"], label = \"Sundays\", align= 'center', width = 0.1, color = 'B')\n",
    "plt.plot(agg_daily.index, agg_daily[\"count\"], label = 'Daily Frequencies')\n",
    "plt.scatter(agg_biz.index, agg_biz[\"count\"], label='Weekdays')\n",
    "\n",
    "plt.legend(loc='upper left', fontsize = 16)\n",
    "plt.tight_layout()"
   ]
  },
  {
   "cell_type": "markdown",
   "metadata": {},
   "source": [
    "__Observation2:__<br>\n",
    "Fridays and weekends have dramatically higher logins compared to other days."
   ]
  },
  {
   "cell_type": "code",
   "execution_count": 150,
   "metadata": {},
   "outputs": [],
   "source": [
    "# resample index hourly\n",
    "agg_hour = reset_df.resample('H').sum()\n",
    "# make a column that identify the day of week; Monday=0, Sunday=6\n",
    "day_of_week = list(agg_hour.index.dayofweek)\n",
    "agg_hour['day_of_week'] = day_of_week\n",
    "# add column with just the hour (omiting the date)\n",
    "agg_hour['hour'] = [time.hour for time in agg_hour.index]"
   ]
  },
  {
   "cell_type": "code",
   "execution_count": 151,
   "metadata": {},
   "outputs": [
    {
     "data": {
      "text/html": [
       "<div>\n",
       "<style scoped>\n",
       "    .dataframe tbody tr th:only-of-type {\n",
       "        vertical-align: middle;\n",
       "    }\n",
       "\n",
       "    .dataframe tbody tr th {\n",
       "        vertical-align: top;\n",
       "    }\n",
       "\n",
       "    .dataframe thead th {\n",
       "        text-align: right;\n",
       "    }\n",
       "</style>\n",
       "<table border=\"1\" class=\"dataframe\">\n",
       "  <thead>\n",
       "    <tr style=\"text-align: right;\">\n",
       "      <th></th>\n",
       "      <th>hour</th>\n",
       "      <th>day_of_week</th>\n",
       "      <th>count</th>\n",
       "    </tr>\n",
       "  </thead>\n",
       "  <tbody>\n",
       "    <tr>\n",
       "      <th>0</th>\n",
       "      <td>0</td>\n",
       "      <td>Monday</td>\n",
       "      <td>35.400000</td>\n",
       "    </tr>\n",
       "    <tr>\n",
       "      <th>1</th>\n",
       "      <td>0</td>\n",
       "      <td>Tuesday</td>\n",
       "      <td>43.357143</td>\n",
       "    </tr>\n",
       "    <tr>\n",
       "      <th>2</th>\n",
       "      <td>0</td>\n",
       "      <td>Wednesday</td>\n",
       "      <td>49.071429</td>\n",
       "    </tr>\n",
       "    <tr>\n",
       "      <th>3</th>\n",
       "      <td>0</td>\n",
       "      <td>Thursday</td>\n",
       "      <td>58.285714</td>\n",
       "    </tr>\n",
       "    <tr>\n",
       "      <th>4</th>\n",
       "      <td>0</td>\n",
       "      <td>Friday</td>\n",
       "      <td>65.000000</td>\n",
       "    </tr>\n",
       "  </tbody>\n",
       "</table>\n",
       "</div>"
      ],
      "text/plain": [
       "   hour day_of_week      count\n",
       "0     0      Monday  35.400000\n",
       "1     0     Tuesday  43.357143\n",
       "2     0   Wednesday  49.071429\n",
       "3     0    Thursday  58.285714\n",
       "4     0      Friday  65.000000"
      ]
     },
     "execution_count": 151,
     "metadata": {},
     "output_type": "execute_result"
    }
   ],
   "source": [
    "# create dataframe of the average number of logins for each hour of each day\n",
    "day_map={0:'Monday',1:'Tuesday',2:'Wednesday',3:'Thursday',4:'Friday',5:'Saturday',6:'Sunday'}\n",
    "avg_hour = pd.pivot_table(agg_hour, \n",
    "                          values = 'count', \n",
    "                          index = ['hour', 'day_of_week'],\n",
    "                          aggfunc = np.mean)                       \n",
    "avg_hour=avg_hour.reset_index()\n",
    "avg_hour[\"day_of_week\"]=avg_hour[\"day_of_week\"].map(day_map)\n",
    "avg_hour.head()"
   ]
  },
  {
   "cell_type": "code",
   "execution_count": 152,
   "metadata": {},
   "outputs": [
    {
     "data": {
      "text/plain": [
       "<matplotlib.legend.Legend at 0x122e4abe0>"
      ]
     },
     "execution_count": 152,
     "metadata": {},
     "output_type": "execute_result"
    },
    {
     "data": {
      "image/png": "[encoded data removed]",
      "text/plain": [
       "<Figure size 792x288 with 1 Axes>"
      ]
     },
     "metadata": {},
     "output_type": "display_data"
    }
   ],
   "source": [
    "# plot the logins for 24 hours stratified by days of week\n",
    "dims = (11, 4)\n",
    "fig, ax = plt.subplots(figsize=dims)\n",
    "\n",
    "sns.barplot(ax=ax, x = \"hour\", y = \"count\", hue = \"day_of_week\", data = avg_hour, palette = \"RdBu\")\n",
    "ax.set_title('Average Logins per Hour', fontsize = 12)\n",
    "ax.set_xlabel('Hour (24-hour clock)', fontsize = 12)\n",
    "ax.set_ylabel('Average Number of Logins', fontsize = 12)\n",
    "ax.tick_params(labelsize=12,labelcolor=\"black\")\n",
    "plt.legend(bbox_to_anchor=(1.05, 1), loc=2, borderaxespad=0.)"
   ]
  },
  {
   "cell_type": "markdown",
   "metadata": {},
   "source": [
    "__Observation3:__<br>\n",
    "The busiest hours are from 1am to 5am and the peak login value is 140 from 4-5 am on Sunday."
   ]
  },
  {
   "cell_type": "markdown",
   "metadata": {},
   "source": [
    "### Part 2 ‑ Experiment and metrics design"
   ]
  },
  {
   "cell_type": "markdown",
   "metadata": {},
   "source": [
    "__Deeper Context – Why?__<br>\n",
    "Before we design the metric, we need to know the reasons and context behind the goal. As in the description of this assignment, the city managers think that the passing fee might be a barrier for drivers to pick up passengers in the other city and *let’s first make some assumptions/clarifications based on this information:*\n",
    "- The city managers care about making life more convenient/efficient for the citizens; they want to reduce the waiting time for the citizens\n",
    "- The city managers also want the driver partners to benefit from the change because the driver partners can accept more passengers without the toll fee;\n",
    "- The city managers don’t care about the finance for now (cancelling the toll is a short-time experiment and a small budget is allowed).\n",
    "\n",
    "__Metric Design__<br>\n",
    "Given the resources we know from the request, it can be assumed that the toll bridge has the records of crossing cars so that the number of cars can be easily obtained for each day, in the past as well as in the future.<br>\n",
    "*__2 Key metrics –__*<br>\n",
    "In order not to mix the effect on crossing the bridge to the two cities, I propose:\n",
    "- The number of cars entering Metropolis during daytime hours for each weekday and the number of cars entering Gotham during the night for each weekday.<br>\n",
    "\n",
    "*__Implementation of the experiment –__*\n",
    "- Select a future week that has no special event (e.g., holidays, sports) for both cities and a past week similar to the future week in terms of month, special events, etc. (controlling for confounders)\n",
    "- Collect data from the bridge recording system for those 2 weeks\n",
    "- Apply hypothesis testing for the 2 metrics with \n",
    " - Null hypothesis Ho: no difference in the number of passing cars before the change and after the change\n",
    " - Alternative Ha: there is an increase in passing cars after the change\n",
    "- Use 2 sample t-test and generate a p-value with 95% confidence interval and effect size\n",
    "- If the test is practically significant for both metrics, I would conclude that we can reject the null hypothesis and suggest the implementation of cancelling toll fee; if both metrics are not significant, then the conclusion is to not implement the change; if one metric is significant while the other is not, further investigation is needed.\n",
    "<br>\n",
    "\n",
    "*__Caveat to make use of number of crossing cars:__\n",
    "- We also assume that other car owners would not change their driving route much after the change because their driving is part of their daily routine (e.g., from home to work and back); so we can assume the change, if there is any, purely comes from driver partners\n",
    "\n"
   ]
  },
  {
   "cell_type": "markdown",
   "metadata": {},
   "source": [
    "### Part 3 ‑ Predictive modeling"
   ]
  },
  {
   "cell_type": "markdown",
   "metadata": {},
   "source": [
    "### Step One - Data Wrangling & Feature Selection"
   ]
  },
  {
   "cell_type": "code",
   "execution_count": 3,
   "metadata": {},
   "outputs": [
    {
     "name": "stdout",
     "output_type": "stream",
     "text": [
      "<class 'pandas.core.frame.DataFrame'>\n",
      "RangeIndex: 50000 entries, 0 to 49999\n",
      "Data columns (total 12 columns):\n",
      "avg_dist                  50000 non-null float64\n",
      "avg_rating_by_driver      49799 non-null float64\n",
      "avg_rating_of_driver      41878 non-null float64\n",
      "avg_surge                 50000 non-null float64\n",
      "city                      50000 non-null object\n",
      "last_trip_date            50000 non-null object\n",
      "phone                     49604 non-null object\n",
      "signup_date               50000 non-null object\n",
      "surge_pct                 50000 non-null float64\n",
      "trips_in_first_30_days    50000 non-null int64\n",
      "ultimate_black_user       50000 non-null bool\n",
      "weekday_pct               50000 non-null float64\n",
      "dtypes: bool(1), float64(6), int64(1), object(4)\n",
      "memory usage: 4.2+ MB\n",
      "None\n"
     ]
    }
   ],
   "source": [
    "# Import the dataset\n",
    "path=\"/Users/YingShen/Desktop/Data_Science/SpringBorad/Git/ultimate_challenge/ultimate_data_challenge.json\"\n",
    "with open(path) as f:\n",
    "    data = json.load(f)\n",
    "user_df=pd.DataFrame(data)\n",
    "print(user_df.info())"
   ]
  },
  {
   "cell_type": "markdown",
   "metadata": {},
   "source": [
    "__Dealing with Missingness__<br>\n",
    "There are missing cells for continuous variables and one categorical variable. \n",
    "- for continuous variables, just use imputation with mean since only small proportion of observations are missing;\n",
    "- for categorical variables, just assign the missing cells as \"missing\" (a new class)"
   ]
  },
  {
   "cell_type": "code",
   "execution_count": 4,
   "metadata": {},
   "outputs": [],
   "source": [
    "# Deal with missing cells\n",
    "user_df[\"avg_rating_by_driver\"].fillna(user_df[\"avg_rating_by_driver\"].mean(),inplace=True)\n",
    "user_df[\"avg_rating_of_driver\"].fillna(user_df[\"avg_rating_of_driver\"].mean(),inplace=True)\n",
    "user_df[\"phone\"]=user_df[\"phone\"].replace(np.NaN,\"missing\")"
   ]
  },
  {
   "cell_type": "markdown",
   "metadata": {},
   "source": [
    "__Create Target Variable__"
   ]
  },
  {
   "cell_type": "code",
   "execution_count": 5,
   "metadata": {},
   "outputs": [],
   "source": [
    "# convert dates to datetime objects\n",
    "user_df['signup_date'] = pd.to_datetime(user_df['signup_date'])\n",
    "user_df['last_trip_date'] = pd.to_datetime(user_df['last_trip_date'])"
   ]
  },
  {
   "cell_type": "code",
   "execution_count": 6,
   "metadata": {},
   "outputs": [],
   "source": [
    "# create the target variable\n",
    "# get the date 6 months later than the signup date\n",
    "user_df[\"post_6m\"]=user_df['signup_date']+pd.Timedelta('181D')\n",
    "# get the date 30 days prior to last date of the 6th month\n",
    "user_df[\"pre_30d\"]=user_df['post_6m']-pd.Timedelta('30D')\n",
    "# if last trip date apprears to be within the 6th month, \n",
    "# then the user is active\n",
    "mask1 = user_df[\"last_trip_date\"]<=user_df[\"post_6m\"]\n",
    "mask2 = user_df[\"pre_30d\"]<=user_df[\"last_trip_date\"]"
   ]
  },
  {
   "cell_type": "code",
   "execution_count": 7,
   "metadata": {},
   "outputs": [
    {
     "data": {
      "text/plain": [
       "0    37802\n",
       "1    12198\n",
       "Name: active, dtype: int64"
      ]
     },
     "execution_count": 7,
     "metadata": {},
     "output_type": "execute_result"
    }
   ],
   "source": [
    "user_df[\"mask\"]=mask1.astype(int)+mask2.astype(int)\n",
    "# user_df[\"active\"]=user_df[user_df[\"mask1\"]+user_df[\"mask2\"]==2]\n",
    "# user_df[\"active\"]\n",
    "def active(mask):\n",
    "    if mask==2:\n",
    "        return 1\n",
    "    else:\n",
    "        return 0\n",
    "user_df[\"active\"]=user_df[\"mask\"].apply(active)\n",
    "user_df[\"active\"].value_counts()"
   ]
  },
  {
   "cell_type": "code",
   "execution_count": 56,
   "metadata": {},
   "outputs": [
    {
     "name": "stdout",
     "output_type": "stream",
     "text": [
      "Fraction of Observations Retained is 0.24396\n"
     ]
    }
   ],
   "source": [
    "fraction=user_df[\"active\"].mean()\n",
    "print(\"Fraction of Observations Retained is \"+str(fraction))"
   ]
  },
  {
   "cell_type": "markdown",
   "metadata": {},
   "source": [
    "<div class=\"alert alert-success\">\n",
    "__*24.4% of the users retained in their 6th month*__\n",
    "</div>"
   ]
  },
  {
   "cell_type": "markdown",
   "metadata": {},
   "source": [
    "__Get dummy features for categorical variables__"
   ]
  },
  {
   "cell_type": "code",
   "execution_count": 8,
   "metadata": {},
   "outputs": [
    {
     "name": "stdout",
     "output_type": "stream",
     "text": [
      "****************************\n",
      "Winterfell        23336\n",
      "Astapor           16534\n",
      "King's Landing    10130\n",
      "Name: city, dtype: int64\n",
      "****************************\n",
      "iPhone     34582\n",
      "Android    15022\n",
      "missing      396\n",
      "Name: phone, dtype: int64\n",
      "****************************\n",
      "False    31146\n",
      "True     18854\n",
      "Name: ultimate_black_user, dtype: int64\n"
     ]
    }
   ],
   "source": [
    "cat_cols=[\"city\",\"phone\",\"ultimate_black_user\"]\n",
    "for i in cat_cols:\n",
    "    print(\"****************************\")\n",
    "    print(user_df[i].value_counts())\n",
    "# transform categorical variable\n",
    "df = pd.get_dummies(user_df, columns = cat_cols, drop_first=True)"
   ]
  },
  {
   "cell_type": "markdown",
   "metadata": {},
   "source": [
    "__Barplot to present difference of active percentages among different classes of categorical variables__"
   ]
  },
  {
   "cell_type": "code",
   "execution_count": 59,
   "metadata": {},
   "outputs": [
    {
     "data": {
      "image/png": "[encoded data removed]",
      "text/plain": [
       "<Figure size 432x288 with 1 Axes>"
      ]
     },
     "metadata": {},
     "output_type": "display_data"
    },
    {
     "data": {
      "image/png": "[encoded data removed]",
      "text/plain": [
       "<Figure size 432x288 with 1 Axes>"
      ]
     },
     "metadata": {},
     "output_type": "display_data"
    },
    {
     "data": {
      "image/png": "[encoded data removed]",
      "text/plain": [
       "<Figure size 432x288 with 1 Axes>"
      ]
     },
     "metadata": {},
     "output_type": "display_data"
    }
   ],
   "source": [
    "import seaborn as sns\n",
    "def category_barplot(feature,target,df):\n",
    "    f=df.groupby([feature])[target].mean()\n",
    "    feature_df=pd.DataFrame(f)\n",
    "    feature_df=feature_df.reset_index()\n",
    "    g=sns.barplot(x=feature,y=target,data=feature_df)\n",
    "    return plt.show()\n",
    "category_barplot(\"city\",\"active\",user_df)\n",
    "category_barplot(\"phone\",\"active\",user_df)\n",
    "category_barplot(\"ultimate_black_user\",\"active\",user_df)"
   ]
  },
  {
   "cell_type": "markdown",
   "metadata": {},
   "source": [
    "__Only keep features we need for further process__"
   ]
  },
  {
   "cell_type": "code",
   "execution_count": 23,
   "metadata": {},
   "outputs": [
    {
     "data": {
      "text/html": [
       "<div>\n",
       "<style scoped>\n",
       "    .dataframe tbody tr th:only-of-type {\n",
       "        vertical-align: middle;\n",
       "    }\n",
       "\n",
       "    .dataframe tbody tr th {\n",
       "        vertical-align: top;\n",
       "    }\n",
       "\n",
       "    .dataframe thead th {\n",
       "        text-align: right;\n",
       "    }\n",
       "</style>\n",
       "<table border=\"1\" class=\"dataframe\">\n",
       "  <thead>\n",
       "    <tr style=\"text-align: right;\">\n",
       "      <th></th>\n",
       "      <th>avg_dist</th>\n",
       "      <th>avg_rating_by_driver</th>\n",
       "      <th>avg_rating_of_driver</th>\n",
       "      <th>avg_surge</th>\n",
       "      <th>surge_pct</th>\n",
       "      <th>trips_in_first_30_days</th>\n",
       "      <th>weekday_pct</th>\n",
       "      <th>city_King's Landing</th>\n",
       "      <th>city_Winterfell</th>\n",
       "      <th>phone_iPhone</th>\n",
       "      <th>phone_missing</th>\n",
       "      <th>ultimate_black_user_True</th>\n",
       "    </tr>\n",
       "  </thead>\n",
       "  <tbody>\n",
       "    <tr>\n",
       "      <th>0</th>\n",
       "      <td>3.67</td>\n",
       "      <td>5.0</td>\n",
       "      <td>4.7</td>\n",
       "      <td>1.10</td>\n",
       "      <td>15.4</td>\n",
       "      <td>4</td>\n",
       "      <td>46.2</td>\n",
       "      <td>1</td>\n",
       "      <td>0</td>\n",
       "      <td>1</td>\n",
       "      <td>0</td>\n",
       "      <td>1</td>\n",
       "    </tr>\n",
       "    <tr>\n",
       "      <th>1</th>\n",
       "      <td>8.26</td>\n",
       "      <td>5.0</td>\n",
       "      <td>5.0</td>\n",
       "      <td>1.00</td>\n",
       "      <td>0.0</td>\n",
       "      <td>0</td>\n",
       "      <td>50.0</td>\n",
       "      <td>0</td>\n",
       "      <td>0</td>\n",
       "      <td>0</td>\n",
       "      <td>0</td>\n",
       "      <td>0</td>\n",
       "    </tr>\n",
       "    <tr>\n",
       "      <th>2</th>\n",
       "      <td>0.77</td>\n",
       "      <td>5.0</td>\n",
       "      <td>4.3</td>\n",
       "      <td>1.00</td>\n",
       "      <td>0.0</td>\n",
       "      <td>3</td>\n",
       "      <td>100.0</td>\n",
       "      <td>0</td>\n",
       "      <td>0</td>\n",
       "      <td>1</td>\n",
       "      <td>0</td>\n",
       "      <td>0</td>\n",
       "    </tr>\n",
       "    <tr>\n",
       "      <th>3</th>\n",
       "      <td>2.36</td>\n",
       "      <td>4.9</td>\n",
       "      <td>4.6</td>\n",
       "      <td>1.14</td>\n",
       "      <td>20.0</td>\n",
       "      <td>9</td>\n",
       "      <td>80.0</td>\n",
       "      <td>1</td>\n",
       "      <td>0</td>\n",
       "      <td>1</td>\n",
       "      <td>0</td>\n",
       "      <td>1</td>\n",
       "    </tr>\n",
       "    <tr>\n",
       "      <th>4</th>\n",
       "      <td>3.13</td>\n",
       "      <td>4.9</td>\n",
       "      <td>4.4</td>\n",
       "      <td>1.19</td>\n",
       "      <td>11.8</td>\n",
       "      <td>14</td>\n",
       "      <td>82.4</td>\n",
       "      <td>0</td>\n",
       "      <td>1</td>\n",
       "      <td>0</td>\n",
       "      <td>0</td>\n",
       "      <td>0</td>\n",
       "    </tr>\n",
       "  </tbody>\n",
       "</table>\n",
       "</div>"
      ],
      "text/plain": [
       "   avg_dist  avg_rating_by_driver  avg_rating_of_driver  avg_surge  surge_pct  \\\n",
       "0      3.67                   5.0                   4.7       1.10       15.4   \n",
       "1      8.26                   5.0                   5.0       1.00        0.0   \n",
       "2      0.77                   5.0                   4.3       1.00        0.0   \n",
       "3      2.36                   4.9                   4.6       1.14       20.0   \n",
       "4      3.13                   4.9                   4.4       1.19       11.8   \n",
       "\n",
       "   trips_in_first_30_days  weekday_pct  city_King's Landing  city_Winterfell  \\\n",
       "0                       4         46.2                    1                0   \n",
       "1                       0         50.0                    0                0   \n",
       "2                       3        100.0                    0                0   \n",
       "3                       9         80.0                    1                0   \n",
       "4                      14         82.4                    0                1   \n",
       "\n",
       "   phone_iPhone  phone_missing  ultimate_black_user_True  \n",
       "0             1              0                         1  \n",
       "1             0              0                         0  \n",
       "2             1              0                         0  \n",
       "3             1              0                         1  \n",
       "4             0              0                         0  "
      ]
     },
     "execution_count": 23,
     "metadata": {},
     "output_type": "execute_result"
    }
   ],
   "source": [
    "dp_cols=['last_trip_date', 'signup_date', \n",
    "         'active', 'post_6m', 'pre_30d', \"mask\"]\n",
    "df_x1 = df.drop(columns=dp_cols)\n",
    "df_x1.head()"
   ]
  },
  {
   "cell_type": "markdown",
   "metadata": {},
   "source": [
    "__Statistical Tests to Select Significant Features__"
   ]
  },
  {
   "cell_type": "code",
   "execution_count": 12,
   "metadata": {},
   "outputs": [],
   "source": [
    "dummy_features=[\"city_King's Landing\",'city_Winterfell', 'phone_iPhone', \n",
    "                'phone_missing', 'ultimate_black_user_True']\n",
    "continuous_features=['avg_dist', 'avg_rating_by_driver', \n",
    "                     'avg_rating_of_driver', 'avg_surge','surge_pct', \n",
    "                     'trips_in_first_30_days','weekday_pct']"
   ]
  },
  {
   "cell_type": "code",
   "execution_count": 13,
   "metadata": {},
   "outputs": [
    {
     "name": "stdout",
     "output_type": "stream",
     "text": [
      "city_King's Landing: 0.0\n",
      "city_Winterfell: 0.0\n",
      "phone_iPhone: 0.0\n",
      "ultimate_black_user_True: 0.0\n"
     ]
    }
   ],
   "source": [
    "from statsmodels.stats.proportion import proportions_ztest\n",
    "\n",
    "''' Include significant dummy variables using 2-sample z test '''\n",
    "significant_features=[]\n",
    "for i in dummy_features:\n",
    "        n_pres_readm=df[df[i]==1][\"active\"].sum()\n",
    "        n_abs_readm=df[df[i]==0][\"active\"].sum()\n",
    "        n_presence=len(df[df[i]==1])\n",
    "        n_absence=len(df[df[i]==0])\n",
    "        \n",
    "        count=np.array([n_pres_readm,n_abs_readm])\n",
    "        obs=np.array([n_presence, n_absence])\n",
    "        stat, pval=proportions_ztest(count, obs)\n",
    "        if pval<0.05:\n",
    "            significant_features.append(i)\n",
    "            print(i+\": \"+str(round(pval,3)))"
   ]
  },
  {
   "cell_type": "code",
   "execution_count": 14,
   "metadata": {},
   "outputs": [],
   "source": [
    "''' Use p-values from logistic regression models '''\n",
    "from statsmodels.discrete.discrete_model import Logit\n",
    "\n",
    "y=np.array(df['active']).astype(float)\n",
    "X=np.array(df[continuous_features]).astype(float)"
   ]
  },
  {
   "cell_type": "code",
   "execution_count": 15,
   "metadata": {},
   "outputs": [
    {
     "name": "stdout",
     "output_type": "stream",
     "text": [
      "Optimization terminated successfully.\n",
      "         Current function value: 0.534073\n",
      "         Iterations 6\n"
     ]
    }
   ],
   "source": [
    "import statsmodels.discrete.discrete_model as sm\n",
    "from scipy import stats\n",
    "\n",
    "stats.chisqprob = lambda chisq, df_v1: stats.chi2.sf(chisq, df_v1)\n",
    "\n",
    "logit = sm.Logit(y, X)\n",
    "results=logit.fit()\n",
    "params=results.params"
   ]
  },
  {
   "cell_type": "code",
   "execution_count": 16,
   "metadata": {
    "scrolled": true
   },
   "outputs": [
    {
     "data": {
      "text/html": [
       "<table class=\"simpletable\">\n",
       "<caption>Logit Regression Results</caption>\n",
       "<tr>\n",
       "  <th>Dep. Variable:</th>         <td>y</td>        <th>  No. Observations:  </th>  <td> 50000</td> \n",
       "</tr>\n",
       "<tr>\n",
       "  <th>Model:</th>               <td>Logit</td>      <th>  Df Residuals:      </th>  <td> 49993</td> \n",
       "</tr>\n",
       "<tr>\n",
       "  <th>Method:</th>               <td>MLE</td>       <th>  Df Model:          </th>  <td>     6</td> \n",
       "</tr>\n",
       "<tr>\n",
       "  <th>Date:</th>          <td>Sun, 07 Oct 2018</td> <th>  Pseudo R-squ.:     </th>  <td>0.03875</td>\n",
       "</tr>\n",
       "<tr>\n",
       "  <th>Time:</th>              <td>22:33:58</td>     <th>  Log-Likelihood:    </th> <td> -26704.</td>\n",
       "</tr>\n",
       "<tr>\n",
       "  <th>converged:</th>           <td>True</td>       <th>  LL-Null:           </th> <td> -27780.</td>\n",
       "</tr>\n",
       "<tr>\n",
       "  <th> </th>                      <td> </td>        <th>  LLR p-value:       </th>  <td> 0.000</td> \n",
       "</tr>\n",
       "</table>\n",
       "<table class=\"simpletable\">\n",
       "<tr>\n",
       "   <td></td>     <th>coef</th>     <th>std err</th>      <th>z</th>      <th>P>|z|</th>  <th>[0.025</th>    <th>0.975]</th>  \n",
       "</tr>\n",
       "<tr>\n",
       "  <th>x1</th> <td>   -0.0344</td> <td>    0.002</td> <td>  -14.606</td> <td> 0.000</td> <td>   -0.039</td> <td>   -0.030</td>\n",
       "</tr>\n",
       "<tr>\n",
       "  <th>x2</th> <td>   -0.1194</td> <td>    0.018</td> <td>   -6.570</td> <td> 0.000</td> <td>   -0.155</td> <td>   -0.084</td>\n",
       "</tr>\n",
       "<tr>\n",
       "  <th>x3</th> <td>   -0.0579</td> <td>    0.016</td> <td>   -3.512</td> <td> 0.000</td> <td>   -0.090</td> <td>   -0.026</td>\n",
       "</tr>\n",
       "<tr>\n",
       "  <th>x4</th> <td>   -0.4008</td> <td>    0.073</td> <td>   -5.494</td> <td> 0.000</td> <td>   -0.544</td> <td>   -0.258</td>\n",
       "</tr>\n",
       "<tr>\n",
       "  <th>x5</th> <td>    0.0045</td> <td>    0.001</td> <td>    5.552</td> <td> 0.000</td> <td>    0.003</td> <td>    0.006</td>\n",
       "</tr>\n",
       "<tr>\n",
       "  <th>x6</th> <td>    0.1102</td> <td>    0.003</td> <td>   37.425</td> <td> 0.000</td> <td>    0.104</td> <td>    0.116</td>\n",
       "</tr>\n",
       "<tr>\n",
       "  <th>x7</th> <td>    0.0001</td> <td>    0.000</td> <td>    0.424</td> <td> 0.672</td> <td>   -0.000</td> <td>    0.001</td>\n",
       "</tr>\n",
       "</table>"
      ],
      "text/plain": [
       "<class 'statsmodels.iolib.summary.Summary'>\n",
       "\"\"\"\n",
       "                           Logit Regression Results                           \n",
       "==============================================================================\n",
       "Dep. Variable:                      y   No. Observations:                50000\n",
       "Model:                          Logit   Df Residuals:                    49993\n",
       "Method:                           MLE   Df Model:                            6\n",
       "Date:                Sun, 07 Oct 2018   Pseudo R-squ.:                 0.03875\n",
       "Time:                        22:33:58   Log-Likelihood:                -26704.\n",
       "converged:                       True   LL-Null:                       -27780.\n",
       "                                        LLR p-value:                     0.000\n",
       "==============================================================================\n",
       "                 coef    std err          z      P>|z|      [0.025      0.975]\n",
       "------------------------------------------------------------------------------\n",
       "x1            -0.0344      0.002    -14.606      0.000      -0.039      -0.030\n",
       "x2            -0.1194      0.018     -6.570      0.000      -0.155      -0.084\n",
       "x3            -0.0579      0.016     -3.512      0.000      -0.090      -0.026\n",
       "x4            -0.4008      0.073     -5.494      0.000      -0.544      -0.258\n",
       "x5             0.0045      0.001      5.552      0.000       0.003       0.006\n",
       "x6             0.1102      0.003     37.425      0.000       0.104       0.116\n",
       "x7             0.0001      0.000      0.424      0.672      -0.000       0.001\n",
       "==============================================================================\n",
       "\"\"\""
      ]
     },
     "execution_count": 16,
     "metadata": {},
     "output_type": "execute_result"
    }
   ],
   "source": [
    "results.summary()"
   ]
  },
  {
   "cell_type": "code",
   "execution_count": 17,
   "metadata": {},
   "outputs": [
    {
     "data": {
      "text/plain": [
       "10"
      ]
     },
     "execution_count": 17,
     "metadata": {},
     "output_type": "execute_result"
    }
   ],
   "source": [
    "continuous_significant=['avg_dist', 'avg_rating_by_driver', \n",
    "                     'avg_rating_of_driver', 'avg_surge','surge_pct', \n",
    "                     'trips_in_first_30_days']\n",
    "features_s=significant_features+continuous_significant\n",
    "df_v2=df[features_s]\n",
    "len(features_s)"
   ]
  },
  {
   "cell_type": "markdown",
   "metadata": {},
   "source": [
    "__Check for Colinearity__<br>\n",
    "If VIF (variance inflation factor) is high, e.g., >10, then that variable probably should be dropped since it can be replaced by the linear combination of other variables"
   ]
  },
  {
   "cell_type": "code",
   "execution_count": 18,
   "metadata": {},
   "outputs": [
    {
     "data": {
      "text/html": [
       "<div>\n",
       "<style scoped>\n",
       "    .dataframe tbody tr th:only-of-type {\n",
       "        vertical-align: middle;\n",
       "    }\n",
       "\n",
       "    .dataframe tbody tr th {\n",
       "        vertical-align: top;\n",
       "    }\n",
       "\n",
       "    .dataframe thead th {\n",
       "        text-align: right;\n",
       "    }\n",
       "</style>\n",
       "<table border=\"1\" class=\"dataframe\">\n",
       "  <thead>\n",
       "    <tr style=\"text-align: right;\">\n",
       "      <th></th>\n",
       "      <th>VIF Factor</th>\n",
       "      <th>features</th>\n",
       "    </tr>\n",
       "  </thead>\n",
       "  <tbody>\n",
       "    <tr>\n",
       "      <th>0</th>\n",
       "      <td>1.630105</td>\n",
       "      <td>city_King's Landing</td>\n",
       "    </tr>\n",
       "    <tr>\n",
       "      <th>1</th>\n",
       "      <td>2.403134</td>\n",
       "      <td>city_Winterfell</td>\n",
       "    </tr>\n",
       "    <tr>\n",
       "      <th>2</th>\n",
       "      <td>3.241439</td>\n",
       "      <td>phone_iPhone</td>\n",
       "    </tr>\n",
       "    <tr>\n",
       "      <th>3</th>\n",
       "      <td>1.659133</td>\n",
       "      <td>ultimate_black_user_True</td>\n",
       "    </tr>\n",
       "    <tr>\n",
       "      <th>4</th>\n",
       "      <td>2.116299</td>\n",
       "      <td>avg_dist</td>\n",
       "    </tr>\n",
       "    <tr>\n",
       "      <th>5</th>\n",
       "      <td>67.325463</td>\n",
       "      <td>avg_rating_by_driver</td>\n",
       "    </tr>\n",
       "    <tr>\n",
       "      <th>6</th>\n",
       "      <td>52.269962</td>\n",
       "      <td>avg_rating_of_driver</td>\n",
       "    </tr>\n",
       "    <tr>\n",
       "      <th>7</th>\n",
       "      <td>49.888528</td>\n",
       "      <td>avg_surge</td>\n",
       "    </tr>\n",
       "    <tr>\n",
       "      <th>8</th>\n",
       "      <td>2.831454</td>\n",
       "      <td>surge_pct</td>\n",
       "    </tr>\n",
       "    <tr>\n",
       "      <th>9</th>\n",
       "      <td>1.412932</td>\n",
       "      <td>trips_in_first_30_days</td>\n",
       "    </tr>\n",
       "  </tbody>\n",
       "</table>\n",
       "</div>"
      ],
      "text/plain": [
       "   VIF Factor                  features\n",
       "0    1.630105       city_King's Landing\n",
       "1    2.403134           city_Winterfell\n",
       "2    3.241439              phone_iPhone\n",
       "3    1.659133  ultimate_black_user_True\n",
       "4    2.116299                  avg_dist\n",
       "5   67.325463      avg_rating_by_driver\n",
       "6   52.269962      avg_rating_of_driver\n",
       "7   49.888528                 avg_surge\n",
       "8    2.831454                 surge_pct\n",
       "9    1.412932    trips_in_first_30_days"
      ]
     },
     "execution_count": 18,
     "metadata": {},
     "output_type": "execute_result"
    }
   ],
   "source": [
    "from statsmodels.stats.outliers_influence import variance_inflation_factor\n",
    "vif = pd.DataFrame()\n",
    "vif[\"VIF Factor\"] = [variance_inflation_factor(df_v2.values, i) \n",
    "                     for i in range(df_v2.shape[1])]\n",
    "vif[\"features\"] = df_v2.columns\n",
    "vif"
   ]
  },
  {
   "cell_type": "code",
   "execution_count": 19,
   "metadata": {},
   "outputs": [],
   "source": [
    "# 2 variables with high VIF; \n",
    "high_VIF_cols=[\"avg_rating_by_driver\", \"avg_rating_of_driver\", \"avg_surge\"]\n",
    "df_v3=df_v2.drop(columns=high_VIF_cols)\n",
    "df_v4=df_v2.drop(columns=[\"avg_rating_of_driver\",\"avg_surge\"])"
   ]
  },
  {
   "cell_type": "markdown",
   "metadata": {},
   "source": [
    "### Step Two - Machine Learning"
   ]
  },
  {
   "cell_type": "code",
   "execution_count": 30,
   "metadata": {},
   "outputs": [],
   "source": [
    "from sklearn.preprocessing import StandardScaler\n",
    "from sklearn.metrics import confusion_matrix, precision_recall_curve\n",
    "from sklearn.metrics import classification_report\n",
    "from sklearn.metrics import roc_auc_score\n",
    "from sklearn.model_selection import cross_val_score\n",
    "from sklearn.model_selection import train_test_split\n",
    "from sklearn.metrics import accuracy_score\n",
    "from imblearn.over_sampling import RandomOverSampler,SMOTE\n",
    "\n",
    "def train_pipe(df,clf,resample=False):\n",
    "\n",
    "    X=df.as_matrix()\n",
    "    scaler = StandardScaler()\n",
    "    X=scaler.fit_transform(X)\n",
    "    X_train, X_test, y_train, y_test = train_test_split(X,y,test_size=0.25,random_state=22)\n",
    "\n",
    "    sampler=RandomOverSampler\n",
    "    if resample==True:\n",
    "        ros = sampler(ratio='auto', random_state=25)\n",
    "        X_train, y_train = ros.fit_sample(X_train, y_train) \n",
    "    \n",
    "\n",
    "    clf=clf\n",
    "    clf.fit(X_train,y_train)\n",
    "    scores=cross_val_score(clf, X_train, y_train, cv=5,scoring='roc_auc')\n",
    "    auc_score=roc_auc_score(y_test,clf.predict(X_test))\n",
    "    report=classification_report(y_test,clf.predict(X_test))\n",
    "    accuracy=accuracy_score(y_test,clf.predict(X_test))\n",
    "    print(report)\n",
    "    return accuracy, scores, auc_score"
   ]
  },
  {
   "cell_type": "code",
   "execution_count": 21,
   "metadata": {},
   "outputs": [],
   "source": [
    "import warnings\n",
    "warnings.filterwarnings('ignore')"
   ]
  },
  {
   "cell_type": "code",
   "execution_count": 40,
   "metadata": {},
   "outputs": [
    {
     "name": "stdout",
     "output_type": "stream",
     "text": [
      "             precision    recall  f1-score   support\n",
      "\n",
      "        0.0       0.89      0.75      0.81      9461\n",
      "        1.0       0.47      0.72      0.57      3039\n",
      "\n",
      "avg / total       0.79      0.74      0.75     12500\n",
      "\n"
     ]
    },
    {
     "data": {
      "text/plain": [
       "(0.73824,\n",
       " array([0.78169213, 0.79046476, 0.78707384, 0.79365459, 0.77970956]),\n",
       " 0.7310354184663255)"
      ]
     },
     "metadata": {},
     "output_type": "display_data"
    },
    {
     "name": "stdout",
     "output_type": "stream",
     "text": [
      "             precision    recall  f1-score   support\n",
      "\n",
      "        0.0       0.87      0.77      0.82      9461\n",
      "        1.0       0.48      0.64      0.55      3039\n",
      "\n",
      "avg / total       0.78      0.74      0.75     12500\n",
      "\n"
     ]
    },
    {
     "data": {
      "text/plain": [
       "(0.7424,\n",
       " array([0.76909883, 0.76585305, 0.77109714, 0.76981143, 0.76437468]),\n",
       " 0.7085440275258965)"
      ]
     },
     "metadata": {},
     "output_type": "display_data"
    }
   ],
   "source": [
    "from sklearn.tree import DecisionTreeClassifier\n",
    "''' First try a decision tree classifier '''\n",
    "\n",
    "# Max depths=10 is the best parameters for test data \n",
    "clf1=DecisionTreeClassifier(max_depth=6,class_weight='balanced')\n",
    "display(train_pipe(df_v2,clf1))\n",
    "display(train_pipe(df_v3,clf1))"
   ]
  },
  {
   "cell_type": "code",
   "execution_count": 68,
   "metadata": {},
   "outputs": [
    {
     "name": "stdout",
     "output_type": "stream",
     "text": [
      "             precision    recall  f1-score   support\n",
      "\n",
      "        0.0       0.90      0.72      0.80      9461\n",
      "        1.0       0.47      0.75      0.57      3039\n",
      "\n",
      "avg / total       0.79      0.73      0.75     12500\n",
      "\n"
     ]
    },
    {
     "data": {
      "text/plain": [
       "(0.7304,\n",
       " array([0.79054197, 0.7989452 , 0.79696225, 0.80742087, 0.79308073]),\n",
       " 0.736130754686486)"
      ]
     },
     "metadata": {},
     "output_type": "display_data"
    }
   ],
   "source": [
    "''' Try RandomForest to reduce over-fitting '''\n",
    "from sklearn.ensemble import RandomForestClassifier\n",
    "\n",
    "clf2=RandomForestClassifier(max_depth=6,class_weight='balanced')\n",
    "display(train_pipe(df_v2,clf2))"
   ]
  },
  {
   "cell_type": "code",
   "execution_count": 110,
   "metadata": {},
   "outputs": [],
   "source": [
    "from sklearn.model_selection import RandomizedSearchCV\n",
    "\n",
    "random_grid = {'bootstrap': [True, False],\n",
    " 'max_depth': [5, 10, 20, 30, 40, 50],\n",
    " 'max_features': ['auto', 'sqrt'],\n",
    " 'min_samples_leaf': [1, 2, 4],\n",
    " 'min_samples_split': [2, 5, 10],\n",
    " 'n_estimators': [600, 800, 1000, 2000]}\n",
    "\n",
    "# Random search of parameters, using 3 fold cross validation, \n",
    "# search across 100 different combinations, and use all available cores\n",
    "def randCV_RF(rf_base, random_grid):\n",
    "    X=df_v2.as_matrix()\n",
    "    scaler = StandardScaler()\n",
    "    X=scaler.fit_transform(X)\n",
    "    \n",
    "    X_train, X_test, y_train, y_test = train_test_split(X,y,test_size=0.25,random_state=22)    \n",
    "    \n",
    "    rf_clf=rf_base\n",
    "    gsearch = RandomizedSearchCV(estimator = rf_clf, \n",
    "                                  param_distributions = random_grid, \n",
    "                                  n_iter = 100, cv = 3, verbose=0, \n",
    "                                  random_state=42, n_jobs = -1, \n",
    "                                  scoring='roc_auc')\n",
    "    gsearch.fit(X_train,y_train)\n",
    "    return gsearch.best_params_, gsearch.best_score_"
   ]
  },
  {
   "cell_type": "code",
   "execution_count": 111,
   "metadata": {},
   "outputs": [
    {
     "data": {
      "text/plain": [
       "({'n_estimators': 1000,\n",
       "  'min_samples_split': 10,\n",
       "  'min_samples_leaf': 4,\n",
       "  'max_features': 'sqrt',\n",
       "  'max_depth': 10,\n",
       "  'bootstrap': True},\n",
       " 0.8500236334421443)"
      ]
     },
     "execution_count": 111,
     "metadata": {},
     "output_type": "execute_result"
    }
   ],
   "source": [
    "rf_base=RandomForestClassifier()\n",
    "randCV_RF(rf_base, random_grid)"
   ]
  },
  {
   "cell_type": "code",
   "execution_count": 27,
   "metadata": {},
   "outputs": [
    {
     "name": "stdout",
     "output_type": "stream",
     "text": [
      "             precision    recall  f1-score   support\n",
      "\n",
      "        0.0       0.82      0.93      0.87      9461\n",
      "        1.0       0.64      0.38      0.47      3039\n",
      "\n",
      "avg / total       0.78      0.80      0.78     12500\n",
      "\n"
     ]
    },
    {
     "data": {
      "text/plain": [
       "(0.79712,\n",
       " array([0.80234763, 0.8112244 , 0.80971373, 0.8144281 , 0.80405234]),\n",
       " 0.6541205389722912)"
      ]
     },
     "execution_count": 27,
     "metadata": {},
     "output_type": "execute_result"
    }
   ],
   "source": [
    "rf_best=RandomForestClassifier(n_estimators=1000,\n",
    "                            min_samples_split=10,\n",
    "                            min_samples_leaf=4,\n",
    "                            max_features='sqrt',\n",
    "                            max_depth=10,\n",
    "                            bootstrap=True)\n",
    "train_pipe(df_v2,rf_best)"
   ]
  },
  {
   "cell_type": "code",
   "execution_count": 28,
   "metadata": {},
   "outputs": [
    {
     "name": "stdout",
     "output_type": "stream",
     "text": [
      "             precision    recall  f1-score   support\n",
      "\n",
      "        0.0       0.86      0.70      0.77      9461\n",
      "        1.0       0.41      0.65      0.50      3039\n",
      "\n",
      "avg / total       0.75      0.69      0.71     12500\n",
      "\n"
     ]
    },
    {
     "data": {
      "text/plain": [
       "(0.68736,\n",
       " array([0.73395092, 0.7355996 , 0.73540059, 0.72285934, 0.73034194]),\n",
       " 0.6745294993433322)"
      ]
     },
     "metadata": {},
     "output_type": "display_data"
    }
   ],
   "source": [
    "from sklearn.linear_model import LogisticRegression\n",
    "\n",
    "clf3=LogisticRegression(class_weight=\"balanced\")\n",
    "display(train_pipe(df_v2,clf3))"
   ]
  },
  {
   "cell_type": "code",
   "execution_count": 42,
   "metadata": {},
   "outputs": [
    {
     "name": "stdout",
     "output_type": "stream",
     "text": [
      "             precision    recall  f1-score   support\n",
      "\n",
      "        0.0       0.88      0.78      0.83      9461\n",
      "        1.0       0.49      0.67      0.57      3039\n",
      "\n",
      "avg / total       0.79      0.75      0.76     12500\n",
      "\n"
     ]
    },
    {
     "data": {
      "text/plain": [
       "(0.75248,\n",
       " array([0.8655647 , 0.87292648, 0.88238073, 0.8817582 , 0.87875861]),\n",
       " 0.725589115100564)"
      ]
     },
     "metadata": {},
     "output_type": "display_data"
    }
   ],
   "source": [
    "''' Now try the Xgboost classifier '''\n",
    "import xgboost as xgb\n",
    "clf4 = xgb.XGBClassifier(max_depth=10,objective='binary:logistic',\n",
    "                         silent = True,n_estimators=50)\n",
    "display(train_pipe(df_v2,clf4,resample=True))"
   ]
  },
  {
   "cell_type": "code",
   "execution_count": 46,
   "metadata": {},
   "outputs": [],
   "source": [
    "''' Tune the parameters of XgboostClassifier step by step '''\n",
    "from sklearn.grid_search import GridSearchCV\n",
    "\n",
    "def gridCV_Xgb(xgb_base, param_test):\n",
    "    X=df_v2.as_matrix()\n",
    "    scaler = StandardScaler()\n",
    "    X=scaler.fit_transform(X)\n",
    "     \n",
    "    X_train, X_test, y_train, y_test = train_test_split(X,y,test_size=0.25,random_state=22)    \n",
    "    \n",
    "    ros = RandomOverSampler(ratio='auto', random_state=25)\n",
    "    X_train, y_train = ros.fit_sample(X_train, y_train) \n",
    "    \n",
    "    xgb_clf=xgb_base\n",
    "    gsearch1 = GridSearchCV(estimator = xgb_clf, \n",
    "                            param_grid = param_test, scoring='roc_auc', cv=5)\n",
    "    gsearch1.fit(X_train,y_train)\n",
    "    return gsearch1.best_params_, gsearch1.best_score_"
   ]
  },
  {
   "cell_type": "code",
   "execution_count": 47,
   "metadata": {},
   "outputs": [
    {
     "data": {
      "text/plain": [
       "({'max_depth': 7, 'min_child_weight': 3}, 0.8468864003462023)"
      ]
     },
     "execution_count": 47,
     "metadata": {},
     "output_type": "execute_result"
    }
   ],
   "source": [
    "param_test_1 = {\n",
    " 'max_depth':[5,6,7],\n",
    " 'min_child_weight':[3,4,5]\n",
    "}\n",
    "xgb_base_1=xgb.XGBClassifier(objective='binary:logistic',silent = True)\n",
    "\n",
    "gridCV_Xgb(xgb_base_1, param_test_1)"
   ]
  },
  {
   "cell_type": "code",
   "execution_count": 48,
   "metadata": {},
   "outputs": [
    {
     "name": "stdout",
     "output_type": "stream",
     "text": [
      "             precision    recall  f1-score   support\n",
      "\n",
      "        0.0       0.89      0.76      0.82      9461\n",
      "        1.0       0.49      0.71      0.58      3039\n",
      "\n",
      "avg / total       0.80      0.75      0.77     12500\n",
      "\n"
     ]
    },
    {
     "data": {
      "text/plain": [
       "(0.75264,\n",
       " array([0.83989196, 0.84680705, 0.84787205, 0.85117544, 0.84868673]),\n",
       " 0.7396547208106963)"
      ]
     },
     "execution_count": 48,
     "metadata": {},
     "output_type": "execute_result"
    }
   ],
   "source": [
    "xgb_clf_1=xgb.XGBClassifier(objective='binary:logistic',silent = True,\n",
    "                      max_depth=7, min_child_weight=3)\n",
    "train_pipe(df_v2,xgb_clf_1,resample=True)"
   ]
  },
  {
   "cell_type": "code",
   "execution_count": 49,
   "metadata": {},
   "outputs": [
    {
     "data": {
      "text/plain": [
       "({'gamma': 0.0}, 0.8468864003462023)"
      ]
     },
     "execution_count": 49,
     "metadata": {},
     "output_type": "execute_result"
    }
   ],
   "source": [
    "param_test_2 = {'gamma':[i/10.0 for i in range(0,5)]}\n",
    "xgb_base_2=xgb_clf_1\n",
    "\n",
    "gridCV_Xgb(xgb_base_2, param_test_2)"
   ]
  },
  {
   "cell_type": "code",
   "execution_count": 52,
   "metadata": {},
   "outputs": [
    {
     "name": "stdout",
     "output_type": "stream",
     "text": [
      "             precision    recall  f1-score   support\n",
      "\n",
      "        0.0       0.89      0.76      0.82      9461\n",
      "        1.0       0.49      0.71      0.58      3039\n",
      "\n",
      "avg / total       0.80      0.75      0.77     12500\n",
      "\n"
     ]
    },
    {
     "data": {
      "text/plain": [
       "(0.75264,\n",
       " array([0.83989196, 0.84680705, 0.84787205, 0.85117544, 0.84868673]),\n",
       " 0.7396547208106963)"
      ]
     },
     "execution_count": 52,
     "metadata": {},
     "output_type": "execute_result"
    }
   ],
   "source": [
    "xgb_clf_2=xgb.XGBClassifier(objective='binary:logistic',silent = True,\n",
    "                      max_depth=7, min_child_weight=3,\n",
    "                      gamma=0.0)\n",
    "train_pipe(df_v2,xgb_clf_2,resample=True)"
   ]
  },
  {
   "cell_type": "code",
   "execution_count": 53,
   "metadata": {},
   "outputs": [
    {
     "data": {
      "text/plain": [
       "({'colsample_bytree': 0.9, 'subsample': 0.7}, 0.8478140076824933)"
      ]
     },
     "execution_count": 53,
     "metadata": {},
     "output_type": "execute_result"
    }
   ],
   "source": [
    "param_test_3 = {\n",
    "    'subsample':[i/10.0 for i in range(6,10)],\n",
    "    'colsample_bytree':[i/10.0 for i in range(6,10)]\n",
    "                }\n",
    "xgb_base_3=xgb_clf_2\n",
    "\n",
    "gridCV_Xgb(xgb_base_3, param_test_3)"
   ]
  },
  {
   "cell_type": "code",
   "execution_count": 65,
   "metadata": {},
   "outputs": [
    {
     "name": "stdout",
     "output_type": "stream",
     "text": [
      "             precision    recall  f1-score   support\n",
      "\n",
      "        0.0       0.89      0.76      0.82      9461\n",
      "        1.0       0.49      0.72      0.59      3039\n",
      "\n",
      "avg / total       0.80      0.75      0.77     12500\n",
      "\n"
     ]
    },
    {
     "data": {
      "text/plain": [
       "(0.75264,\n",
       " array([0.83987878, 0.84640201, 0.84727885, 0.85067476, 0.84897084]),\n",
       " 0.7412182305781457)"
      ]
     },
     "execution_count": 65,
     "metadata": {},
     "output_type": "execute_result"
    }
   ],
   "source": [
    "xgb_clf_3=xgb.XGBClassifier(objective='binary:logistic',silent = True,\n",
    "                      max_depth=7, min_child_weight=3,\n",
    "                      gamma=0.0,subsample=0.9,colsample_bytree=0.7)\n",
    "train_pipe(df_v2,xgb_clf_3,resample=True)"
   ]
  },
  {
   "cell_type": "code",
   "execution_count": 66,
   "metadata": {},
   "outputs": [
    {
     "data": {
      "text/plain": [
       "({'reg_alpha': 0.005}, 0.8467321273581907)"
      ]
     },
     "execution_count": 66,
     "metadata": {},
     "output_type": "execute_result"
    }
   ],
   "source": [
    "param_test_4 = {\n",
    " 'reg_alpha':[0, 0.001, 0.005, 0.01, 0.05]\n",
    "}\n",
    "\n",
    "xgb_base_4=xgb_clf_3\n",
    "gridCV_Xgb(xgb_base_4, param_test_4)"
   ]
  },
  {
   "cell_type": "code",
   "execution_count": 64,
   "metadata": {},
   "outputs": [
    {
     "name": "stdout",
     "output_type": "stream",
     "text": [
      "             precision    recall  f1-score   support\n",
      "\n",
      "        0.0       0.90      0.76      0.82      9461\n",
      "        1.0       0.49      0.73      0.59      3039\n",
      "\n",
      "avg / total       0.80      0.75      0.76     12500\n",
      "\n"
     ]
    },
    {
     "data": {
      "text/plain": [
       "(0.75,\n",
       " array([0.83040743, 0.83665553, 0.83711102, 0.83959797, 0.83970976]),\n",
       " 0.7421545313454772)"
      ]
     },
     "execution_count": 64,
     "metadata": {},
     "output_type": "execute_result"
    }
   ],
   "source": [
    "xgb_clf_4=xgb.XGBClassifier(objective='binary:logistic',silent = True,\n",
    "                      learning_rate =0.1, n_estimators=50,\n",
    "                      max_depth=7, min_child_weight=3,\n",
    "                      gamma=0.0,subsample=0.9,colsample_bytree=0.7,\n",
    "                      reg_alpha=0.005)\n",
    "train_pipe(df_v2,xgb_clf_4,resample=True)"
   ]
  },
  {
   "cell_type": "code",
   "execution_count": 70,
   "metadata": {},
   "outputs": [
    {
     "data": {
      "text/plain": [
       "city_King's Landing         0.021694\n",
       "city_Winterfell             0.028306\n",
       "phone_iPhone                0.030992\n",
       "ultimate_black_user_True    0.037603\n",
       "avg_dist                    0.333264\n",
       "avg_rating_by_driver        0.077893\n",
       "avg_rating_of_driver        0.128512\n",
       "avg_surge                   0.104752\n",
       "surge_pct                   0.108264\n",
       "trips_in_first_30_days      0.128719\n",
       "Name: coef, dtype: float32"
      ]
     },
     "execution_count": 70,
     "metadata": {},
     "output_type": "execute_result"
    }
   ],
   "source": [
    "#make a df that displays the cofficients indexed by feature name\n",
    "feature_importance = pd.DataFrame()\n",
    "feature_importance['coef'] = xgb_clf_4.feature_importances_\n",
    "feature_importance = feature_importance.set_index(df_v2.columns)\n",
    "feature_importance.coef"
   ]
  },
  {
   "cell_type": "code",
   "execution_count": 72,
   "metadata": {},
   "outputs": [
    {
     "data": {
      "image/png": "[encoded data removed]",
      "text/plain": [
       "<Figure size 720x360 with 1 Axes>"
      ]
     },
     "metadata": {},
     "output_type": "display_data"
    }
   ],
   "source": [
    "#plot the results\n",
    "import matplotlib.pyplot as plt\n",
    "plt.figure(figsize=(10,5))\n",
    "(feature_importance['coef'].nlargest(10)).plot(kind='bar', x=feature_importance.index)\n",
    "plt.title('Xgboost Classifier Feature Importance')\n",
    "plt.ylabel('coefficient value')\n",
    "plt.show()"
   ]
  },
  {
   "cell_type": "markdown",
   "metadata": {},
   "source": [
    "#### Conclusion\n",
    "For this project, the predicion model using Xgboost algorithm was developed with an accuracy of 0.75 and AUC of 0.74. Specifcly, random oversampling was applied to inflate the weight on target outcome of \"1\", so that the recall was better with a score of 0.73.<br>\n",
    "Top important features were also identified. The average distance in miles per trip impacts the outcome the most. As the coefficient of this variable when checking the significance is negative, which means that riders with shorter trips have higher retention rates. Ultimate can target local residents more for their outcomes."
   ]
  },
  {
   "cell_type": "code",
   "execution_count": null,
   "metadata": {},
   "outputs": [],
   "source": []
  }
 ],
 "metadata": {
  "kernelspec": {
   "display_name": "Python 3",
   "language": "python",
   "name": "python3"
  },
  "language_info": {
   "codemirror_mode": {
    "name": "ipython",
    "version": 3
   },
   "file_extension": ".py",
   "mimetype": "text/x-python",
   "name": "python",
   "nbconvert_exporter": "python",
   "pygments_lexer": "ipython3",
   "version": "3.6.5"
  }
 },
 "nbformat": 4,
 "nbformat_minor": 2
}
