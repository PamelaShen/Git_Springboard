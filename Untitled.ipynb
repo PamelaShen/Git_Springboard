{
 "cells": [
  {
   "cell_type": "code",
   "execution_count": 39,
   "metadata": {},
   "outputs": [],
   "source": [
    "import numpy as np \n",
    "import pandas as pd \n",
    "import matplotlib.pyplot as plt\n",
    "%matplotlib inline"
   ]
  },
  {
   "cell_type": "code",
   "execution_count": 40,
   "metadata": {},
   "outputs": [
    {
     "ename": "ModuleNotFoundError",
     "evalue": "No module named 'pyspark'",
     "output_type": "error",
     "traceback": [
      "\u001b[0;31m---------------------------------------------------------------------------\u001b[0m",
      "\u001b[0;31mModuleNotFoundError\u001b[0m                       Traceback (most recent call last)",
      "\u001b[0;32m<ipython-input-40-97c0488fb6a8>\u001b[0m in \u001b[0;36m<module>\u001b[0;34m()\u001b[0m\n\u001b[0;32m----> 1\u001b[0;31m \u001b[0;32mimport\u001b[0m \u001b[0mpyspark\u001b[0m \u001b[0;32mas\u001b[0m \u001b[0mps\u001b[0m\u001b[0;34m\u001b[0m\u001b[0m\n\u001b[0m\u001b[1;32m      2\u001b[0m \u001b[0;32mfrom\u001b[0m \u001b[0mpyspark\u001b[0m\u001b[0;34m.\u001b[0m\u001b[0mcontext\u001b[0m \u001b[0;32mimport\u001b[0m \u001b[0mSparkContext\u001b[0m\u001b[0;34m\u001b[0m\u001b[0m\n\u001b[1;32m      3\u001b[0m \u001b[0;32mimport\u001b[0m \u001b[0mfindspark\u001b[0m\u001b[0;34m\u001b[0m\u001b[0m\n\u001b[1;32m      4\u001b[0m \u001b[0;34m\u001b[0m\u001b[0m\n\u001b[1;32m      5\u001b[0m \u001b[0mfindspark\u001b[0m\u001b[0;34m.\u001b[0m\u001b[0minit\u001b[0m\u001b[0;34m(\u001b[0m\u001b[0;34m)\u001b[0m\u001b[0;34m\u001b[0m\u001b[0m\n",
      "\u001b[0;31mModuleNotFoundError\u001b[0m: No module named 'pyspark'"
     ]
    }
   ],
   "source": [
    "import pyspark as ps\n",
    "from pyspark.context import SparkContext\n",
    "import findspark\n",
    "\n",
    "findspark.init()\n",
    "sc = SparkContext.getOrCreate()"
   ]
  },
  {
   "cell_type": "code",
   "execution_count": 6,
   "metadata": {},
   "outputs": [
    {
     "name": "stdout",
     "output_type": "stream",
     "text": [
      "145063 804\n"
     ]
    }
   ],
   "source": [
    "from pyspark import sql,SQLContext,SparkConf\n",
    "from  pyspark.sql import SparkSession\n",
    "\n",
    "#conf = SparkConf().setAppName(\"Read_CSV\")\n",
    "sql = SQLContext(sc)\n",
    "\n",
    "raw_data = sql.read.csv(\"/Users/YingShen/Desktop/Data_Science/SpringBorad/all/train_2.csv\",\n",
    "                        header=True)\n",
    "print(raw_data.count(),len(raw_data.columns))"
   ]
  },
  {
   "cell_type": "code",
   "execution_count": 7,
   "metadata": {},
   "outputs": [
    {
     "data": {
      "text/plain": [
       "pyspark.sql.dataframe.DataFrame"
      ]
     },
     "execution_count": 7,
     "metadata": {},
     "output_type": "execute_result"
    }
   ],
   "source": [
    "#raw_data=sql.read.format('csv').options(header='true', inferSchema='true').load(\"/Users/YingShen/Desktop/Data_Science/SpringBorad/all/train_2.csv\")\n",
    "type(raw_data)"
   ]
  },
  {
   "cell_type": "code",
   "execution_count": 8,
   "metadata": {},
   "outputs": [
    {
     "name": "stdout",
     "output_type": "stream",
     "text": [
      "116485589 3\n"
     ]
    }
   ],
   "source": [
    "from pyspark.sql.functions import array, col, explode, lit, struct\n",
    "from pyspark.sql import DataFrame\n",
    "from typing import Iterable\n",
    "\n",
    "def melt_df(\n",
    "        df: DataFrame,\n",
    "        id_vars: Iterable[str], value_vars: Iterable[str],\n",
    "        var_name: str=\"variable\", value_name: str=\"value\") -> DataFrame:\n",
    "    \"\"\"Convert :class:`DataFrame` from wide to long format.\"\"\"\n",
    "\n",
    "    # Create array<struct<variable: str, value: ...>>\n",
    "    _vars_and_vals = array(*(\n",
    "        struct(lit(c).alias(var_name), col(c).alias(value_name))\n",
    "        for c in value_vars))\n",
    "\n",
    "    # Add to the DataFrame and explode\n",
    "    _tmp = df.withColumn(\"_vars_and_vals\", explode(_vars_and_vals))\n",
    "\n",
    "    cols = id_vars + [\n",
    "            col(\"_vars_and_vals\")[x].alias(x) for x in [var_name, value_name]]\n",
    "    return _tmp.select(*cols)\n",
    "\n",
    "melt_cols=raw_data.columns[1:]\n",
    "melted_df = melt_df(raw_data, \n",
    "                    id_vars=['Page'], \n",
    "                    value_vars=melt_cols,\n",
    "                    var_name=\"Date\", \n",
    "                    value_name=\"Visits\")\n",
    "print(melted_df.count(),len(melted_df.columns)) # 116485589 = 145063 * 803"
   ]
  },
  {
   "cell_type": "code",
   "execution_count": 9,
   "metadata": {},
   "outputs": [
    {
     "name": "stdout",
     "output_type": "stream",
     "text": [
      "+--------------------+----------+------+\n",
      "|                Page|      Date|Visits|\n",
      "+--------------------+----------+------+\n",
      "|2NE1_zh.wikipedia...|2015-07-01|    18|\n",
      "|2NE1_zh.wikipedia...|2015-07-02|    11|\n",
      "|2NE1_zh.wikipedia...|2015-07-03|     5|\n",
      "|2NE1_zh.wikipedia...|2015-07-04|    13|\n",
      "|2NE1_zh.wikipedia...|2015-07-05|    14|\n",
      "+--------------------+----------+------+\n",
      "only showing top 5 rows\n",
      "\n"
     ]
    }
   ],
   "source": [
    "melted_df.show(5)"
   ]
  },
  {
   "cell_type": "code",
   "execution_count": 58,
   "metadata": {
    "collapsed": true
   },
   "outputs": [],
   "source": [
    "from pyspark.sql.types import IntegerType\n",
    "melted_df = melted_df.withColumn(\"Visits\", melted_df[\"Visits\"].cast(IntegerType()))"
   ]
  },
  {
   "cell_type": "code",
   "execution_count": 94,
   "metadata": {},
   "outputs": [
    {
     "name": "stdout",
     "output_type": "stream",
     "text": [
      "+--------------------+------------------+\n",
      "|                Page|       avg(Visits)|\n",
      "+--------------------+------------------+\n",
      "|EXID_zh.wikipedia...|47.054794520547944|\n",
      "|水菜麗_zh.wikipedia....|10.632627646326277|\n",
      "|朴炯植_zh.wikipedia....|19.209215442092155|\n",
      "|進擊的巨人角色列表_zh.wiki...|28.357409713574096|\n",
      "|陳庭妮_zh.wikipedia....|12.481942714819427|\n",
      "|太阳能电池_zh.wikipedi...|16.877957658779575|\n",
      "|成均馆大学_zh.wikipedi...|11.423412204234122|\n",
      "|賽菲羅斯_zh.wikipedia...|6.6824408468244085|\n",
      "|中島美嘉_zh.wikipedia...|11.914072229140722|\n",
      "|湄公河大案_zh.wikipedi...| 6.405977584059776|\n",
      "|雲之彼端，約定的地方_zh.wik...|7.6824408468244085|\n",
      "|罗斯柴尔德家族_zh.wikipe...| 17.30510585305106|\n",
      "|長榮航空_zh.wikipedia...|31.156911581569116|\n",
      "|班淑傳奇_zh.wikipedia...|15.048567870485678|\n",
      "|黃義雄_zh.wikipedia....| 5.576030927835052|\n",
      "|歡樂頌_(電視劇)_zh.wiki...|27.663385826771652|\n",
      "|星際過客_zh.wikipedia...| 22.51530612244898|\n",
      "|2017無綫節目巡禮_zh.wik...|31.252307692307692|\n",
      "|Amazon.com_fr.wik...| 697.3611457036114|\n",
      "|Championnat_d'Eur...| 2180.677459526775|\n",
      "+--------------------+------------------+\n",
      "only showing top 20 rows\n",
      "\n"
     ]
    }
   ],
   "source": [
    "# from pyspark.sql.functions import pandas_udf, PandasUDFType\n",
    "# pandas_udf(\"Mean\", PandasUDFType.GROUPED_MAP) \n",
    "\n",
    "page_group=melted_df.groupby(\"Page\")\n",
    "page_group.avg(\"Visits\").show()"
   ]
  },
  {
   "cell_type": "code",
   "execution_count": 86,
   "metadata": {
    "collapsed": true
   },
   "outputs": [],
   "source": [
    "# from pyspark.sql.functions import udf, array\n",
    "# from pyspark.sql.types import DoubleType\n",
    "\n",
    "# avg_cols = udf(lambda array: sum(array)/len(array), DoubleType())\n",
    "# col_list=raw_data.columns[1:]\n",
    "# col_string = \",\".join(col_list)\n",
    "# raw_data.withColumn('Mean', avg_cols(col_string)).show()"
   ]
  },
  {
   "cell_type": "code",
   "execution_count": null,
   "metadata": {
    "collapsed": true
   },
   "outputs": [],
   "source": [
    "ts_stats=[\"median\",\"annul_corr\",\"quart_corr\",\"week_corr\"]\n",
    "def get_annual_ac(series):\n",
    "    series.autocorr(lag=365)\n",
    "def get_quart_ac(series):\n",
    "    series.autocorr(lag=91)\n",
    "def get_week_ac(series):\n",
    "    series.autocorr(lag=7)\n",
    "\n",
    "raw_train[\"annul_corr\"]=raw_train.apply(get_annual_ac,axis=1)\n",
    "raw_train[\"quart_corr\"]=raw_train.apply(get_quart_ac,axis=1)\n",
    "raw_train[\"week_corr\"]=raw_train.apply(get_week_ac,axis=1)\n",
    "raw_train[\"week_corr\"]"
   ]
  },
  {
   "cell_type": "code",
   "execution_count": 2,
   "metadata": {},
   "outputs": [
    {
     "data": {
      "text/plain": [
       "9"
      ]
     },
     "execution_count": 2,
     "metadata": {},
     "output_type": "execute_result"
    }
   ],
   "source": [
    "from functools import reduce\n",
    "reduce(lambda x,y: x+y, map(lambda t:t[0],[(1,2),(3,4),(5,6)]))"
   ]
  },
  {
   "cell_type": "code",
   "execution_count": 24,
   "metadata": {},
   "outputs": [],
   "source": [
    "a=[(1,2),(3,4),(5,6)]"
   ]
  },
  {
   "cell_type": "code",
   "execution_count": 26,
   "metadata": {},
   "outputs": [
    {
     "data": {
      "text/plain": [
       "[2, 4, 6]"
      ]
     },
     "execution_count": 26,
     "metadata": {},
     "output_type": "execute_result"
    }
   ],
   "source": [
    "func1 = map(lambda x:x[1],a)\n",
    "list(func1)"
   ]
  },
  {
   "cell_type": "code",
   "execution_count": 32,
   "metadata": {},
   "outputs": [
    {
     "data": {
      "text/plain": [
       "12"
      ]
     },
     "execution_count": 32,
     "metadata": {},
     "output_type": "execute_result"
    }
   ],
   "source": [
    "func2 = reduce((lambda x,y:x+y),map(lambda x:x[1],a))\n",
    "func2"
   ]
  },
  {
   "cell_type": "code",
   "execution_count": 36,
   "metadata": {},
   "outputs": [
    {
     "data": {
      "text/plain": [
       "<itertools.chain at 0x10b173ba8>"
      ]
     },
     "execution_count": 36,
     "metadata": {},
     "output_type": "execute_result"
    }
   ],
   "source": [
    "from itertools import chain\n",
    "x=chain(map(lambda t:range(t[0],t[1]),[(1,5),(7,10)]))"
   ]
  },
  {
   "cell_type": "code",
   "execution_count": null,
   "metadata": {},
   "outputs": [],
   "source": []
  }
 ],
 "metadata": {
  "kernelspec": {
   "display_name": "Python 3",
   "language": "python",
   "name": "python3"
  },
  "language_info": {
   "codemirror_mode": {
    "name": "ipython",
    "version": 3
   },
   "file_extension": ".py",
   "mimetype": "text/x-python",
   "name": "python",
   "nbconvert_exporter": "python",
   "pygments_lexer": "ipython3",
   "version": "3.6.5"
  }
 },
 "nbformat": 4,
 "nbformat_minor": 2
}
