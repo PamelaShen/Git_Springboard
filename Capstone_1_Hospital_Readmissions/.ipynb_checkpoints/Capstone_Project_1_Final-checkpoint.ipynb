{
 "cells": [
  {
   "cell_type": "markdown",
   "metadata": {},
   "source": [
    "#### Project Overview\n",
    "\n",
    "This is the first Captone project for SpringBoard using the UCI dataset: Diabetes 130-US hospitals for years 1999-2008 Data Set. Detailed description of the dataset can be found here - https://archive.ics.uci.edu/ml/datasets/diabetes+130-us+hospitals+for+years+1999-2008."
   ]
  },
  {
   "cell_type": "markdown",
   "metadata": {},
   "source": [
    "### Background - Why the Prediction of Early Readmission\n",
    "Readmission within 30 days after a hospital discharge is a high-priority healthcare quality measure and target for cost reduction. It is a more severe situation among patients admitted for diabetes as the rate in those patients is higher as compared to the early readmission rate of general population. Therefore, this study aims to build a machine learning model to predict the likelihood of early readmissions among inpatient diabetes patients using a large hospital database from 1999 to 2008."
   ]
  },
  {
   "cell_type": "markdown",
   "metadata": {},
   "source": [
    "### Step One - Data Wrangling\n",
    "The dataset was downloaded from https://archive.ics.uci.edu/ml/datasets/diabetes+130-us+hospitals+for+years+1999-2008; there are 2 csv files: one is the dataset and the other is the description file to explain the values of *admission_source_id*, *admission_type_id*, and *discharge_disposition_id*, which would be useful later in data wrangling and exploratory data analysis.\n",
    "\n",
    "#### First step is to read in the CSV file and explore the data to check for:\n",
    "1) non-numerical values<br>\n",
    "2) missing cells"
   ]
  },
  {
   "cell_type": "code",
   "execution_count": 12,
   "metadata": {
    "collapsed": true
   },
   "outputs": [],
   "source": [
    "# Import libraries that will used later\n",
    "import pandas as pd\n",
    "import numpy as np\n",
    "import matplotlib.pyplot as plt\n",
    "import seaborn as sns"
   ]
  },
  {
   "cell_type": "code",
   "execution_count": 13,
   "metadata": {},
   "outputs": [],
   "source": [
    "df_raw=pd.read_csv('/Users/YingShen/Desktop/Data_Science/SpringBorad/Git/dataset_diabetes/diabetic_data.csv')"
   ]
  },
  {
   "cell_type": "markdown",
   "metadata": {},
   "source": [
    "#### Preliminary Analysis\n",
    "First roughly explore the data to see if there are too many missing cells."
   ]
  },
  {
   "cell_type": "code",
   "execution_count": 14,
   "metadata": {},
   "outputs": [
    {
     "name": "stdout",
     "output_type": "stream",
     "text": [
      "(101766, 50)\n"
     ]
    },
    {
     "data": {
      "text/html": [
       "<div>\n",
       "<style scoped>\n",
       "    .dataframe tbody tr th:only-of-type {\n",
       "        vertical-align: middle;\n",
       "    }\n",
       "\n",
       "    .dataframe tbody tr th {\n",
       "        vertical-align: top;\n",
       "    }\n",
       "\n",
       "    .dataframe thead th {\n",
       "        text-align: right;\n",
       "    }\n",
       "</style>\n",
       "<table border=\"1\" class=\"dataframe\">\n",
       "  <thead>\n",
       "    <tr style=\"text-align: right;\">\n",
       "      <th></th>\n",
       "      <th>encounter_id</th>\n",
       "      <th>patient_nbr</th>\n",
       "      <th>race</th>\n",
       "      <th>gender</th>\n",
       "      <th>age</th>\n",
       "      <th>weight</th>\n",
       "      <th>admission_type_id</th>\n",
       "      <th>discharge_disposition_id</th>\n",
       "      <th>admission_source_id</th>\n",
       "      <th>time_in_hospital</th>\n",
       "      <th>...</th>\n",
       "      <th>citoglipton</th>\n",
       "      <th>insulin</th>\n",
       "      <th>glyburide-metformin</th>\n",
       "      <th>glipizide-metformin</th>\n",
       "      <th>glimepiride-pioglitazone</th>\n",
       "      <th>metformin-rosiglitazone</th>\n",
       "      <th>metformin-pioglitazone</th>\n",
       "      <th>change</th>\n",
       "      <th>diabetesMed</th>\n",
       "      <th>readmitted</th>\n",
       "    </tr>\n",
       "  </thead>\n",
       "  <tbody>\n",
       "    <tr>\n",
       "      <th>0</th>\n",
       "      <td>2278392</td>\n",
       "      <td>8222157</td>\n",
       "      <td>Caucasian</td>\n",
       "      <td>Female</td>\n",
       "      <td>[0-10)</td>\n",
       "      <td>?</td>\n",
       "      <td>6</td>\n",
       "      <td>25</td>\n",
       "      <td>1</td>\n",
       "      <td>1</td>\n",
       "      <td>...</td>\n",
       "      <td>No</td>\n",
       "      <td>No</td>\n",
       "      <td>No</td>\n",
       "      <td>No</td>\n",
       "      <td>No</td>\n",
       "      <td>No</td>\n",
       "      <td>No</td>\n",
       "      <td>No</td>\n",
       "      <td>No</td>\n",
       "      <td>NO</td>\n",
       "    </tr>\n",
       "    <tr>\n",
       "      <th>1</th>\n",
       "      <td>149190</td>\n",
       "      <td>55629189</td>\n",
       "      <td>Caucasian</td>\n",
       "      <td>Female</td>\n",
       "      <td>[10-20)</td>\n",
       "      <td>?</td>\n",
       "      <td>1</td>\n",
       "      <td>1</td>\n",
       "      <td>7</td>\n",
       "      <td>3</td>\n",
       "      <td>...</td>\n",
       "      <td>No</td>\n",
       "      <td>Up</td>\n",
       "      <td>No</td>\n",
       "      <td>No</td>\n",
       "      <td>No</td>\n",
       "      <td>No</td>\n",
       "      <td>No</td>\n",
       "      <td>Ch</td>\n",
       "      <td>Yes</td>\n",
       "      <td>&gt;30</td>\n",
       "    </tr>\n",
       "    <tr>\n",
       "      <th>2</th>\n",
       "      <td>64410</td>\n",
       "      <td>86047875</td>\n",
       "      <td>AfricanAmerican</td>\n",
       "      <td>Female</td>\n",
       "      <td>[20-30)</td>\n",
       "      <td>?</td>\n",
       "      <td>1</td>\n",
       "      <td>1</td>\n",
       "      <td>7</td>\n",
       "      <td>2</td>\n",
       "      <td>...</td>\n",
       "      <td>No</td>\n",
       "      <td>No</td>\n",
       "      <td>No</td>\n",
       "      <td>No</td>\n",
       "      <td>No</td>\n",
       "      <td>No</td>\n",
       "      <td>No</td>\n",
       "      <td>No</td>\n",
       "      <td>Yes</td>\n",
       "      <td>NO</td>\n",
       "    </tr>\n",
       "    <tr>\n",
       "      <th>3</th>\n",
       "      <td>500364</td>\n",
       "      <td>82442376</td>\n",
       "      <td>Caucasian</td>\n",
       "      <td>Male</td>\n",
       "      <td>[30-40)</td>\n",
       "      <td>?</td>\n",
       "      <td>1</td>\n",
       "      <td>1</td>\n",
       "      <td>7</td>\n",
       "      <td>2</td>\n",
       "      <td>...</td>\n",
       "      <td>No</td>\n",
       "      <td>Up</td>\n",
       "      <td>No</td>\n",
       "      <td>No</td>\n",
       "      <td>No</td>\n",
       "      <td>No</td>\n",
       "      <td>No</td>\n",
       "      <td>Ch</td>\n",
       "      <td>Yes</td>\n",
       "      <td>NO</td>\n",
       "    </tr>\n",
       "    <tr>\n",
       "      <th>4</th>\n",
       "      <td>16680</td>\n",
       "      <td>42519267</td>\n",
       "      <td>Caucasian</td>\n",
       "      <td>Male</td>\n",
       "      <td>[40-50)</td>\n",
       "      <td>?</td>\n",
       "      <td>1</td>\n",
       "      <td>1</td>\n",
       "      <td>7</td>\n",
       "      <td>1</td>\n",
       "      <td>...</td>\n",
       "      <td>No</td>\n",
       "      <td>Steady</td>\n",
       "      <td>No</td>\n",
       "      <td>No</td>\n",
       "      <td>No</td>\n",
       "      <td>No</td>\n",
       "      <td>No</td>\n",
       "      <td>Ch</td>\n",
       "      <td>Yes</td>\n",
       "      <td>NO</td>\n",
       "    </tr>\n",
       "  </tbody>\n",
       "</table>\n",
       "<p>5 rows × 50 columns</p>\n",
       "</div>"
      ],
      "text/plain": [
       "   encounter_id  patient_nbr             race  gender      age weight  \\\n",
       "0       2278392      8222157        Caucasian  Female   [0-10)      ?   \n",
       "1        149190     55629189        Caucasian  Female  [10-20)      ?   \n",
       "2         64410     86047875  AfricanAmerican  Female  [20-30)      ?   \n",
       "3        500364     82442376        Caucasian    Male  [30-40)      ?   \n",
       "4         16680     42519267        Caucasian    Male  [40-50)      ?   \n",
       "\n",
       "   admission_type_id  discharge_disposition_id  admission_source_id  \\\n",
       "0                  6                        25                    1   \n",
       "1                  1                         1                    7   \n",
       "2                  1                         1                    7   \n",
       "3                  1                         1                    7   \n",
       "4                  1                         1                    7   \n",
       "\n",
       "   time_in_hospital    ...     citoglipton insulin  glyburide-metformin  \\\n",
       "0                 1    ...              No      No                   No   \n",
       "1                 3    ...              No      Up                   No   \n",
       "2                 2    ...              No      No                   No   \n",
       "3                 2    ...              No      Up                   No   \n",
       "4                 1    ...              No  Steady                   No   \n",
       "\n",
       "   glipizide-metformin  glimepiride-pioglitazone  metformin-rosiglitazone  \\\n",
       "0                   No                        No                       No   \n",
       "1                   No                        No                       No   \n",
       "2                   No                        No                       No   \n",
       "3                   No                        No                       No   \n",
       "4                   No                        No                       No   \n",
       "\n",
       "   metformin-pioglitazone  change diabetesMed readmitted  \n",
       "0                      No      No          No         NO  \n",
       "1                      No      Ch         Yes        >30  \n",
       "2                      No      No         Yes         NO  \n",
       "3                      No      Ch         Yes         NO  \n",
       "4                      No      Ch         Yes         NO  \n",
       "\n",
       "[5 rows x 50 columns]"
      ]
     },
     "execution_count": 14,
     "metadata": {},
     "output_type": "execute_result"
    }
   ],
   "source": [
    "print(df_raw.shape)\n",
    "df_raw.head()\n",
    "# there are missing values coded as \"?\"; and many medications were not prescribed"
   ]
  },
  {
   "cell_type": "markdown",
   "metadata": {},
   "source": [
    "#### There are totally 50 columns and 101,766 observations in the original csv file. Of those features: \n",
    " - 2 are the identification ids including unique numbers of medical encounters and corresponding individuals;\n",
    " - 5 features are related to patient demographic characteristics such as race and gender;\n",
    " - 3 features inform the admission and discharge status;\n",
    " - 7 features are numeric values of events (e.g., lab tests, procedures) and time during inpatient stay;\n",
    " - 24 features described the use of 24 specific diabetes medications;\n",
    " - other features include the change of medication use.\n",
    " - The target outcome is re-admitted or not."
   ]
  },
  {
   "cell_type": "code",
   "execution_count": 15,
   "metadata": {},
   "outputs": [
    {
     "data": {
      "text/plain": [
       "encounter_id                     0\n",
       "patient_nbr                      0\n",
       "race                          2273\n",
       "gender                           3\n",
       "age                              0\n",
       "weight                       98569\n",
       "admission_type_id                0\n",
       "discharge_disposition_id         0\n",
       "admission_source_id              0\n",
       "time_in_hospital                 0\n",
       "payer_code                   40256\n",
       "medical_specialty            49949\n",
       "num_lab_procedures               0\n",
       "num_procedures                   0\n",
       "num_medications                  0\n",
       "number_outpatient                0\n",
       "number_emergency                 0\n",
       "number_inpatient                 0\n",
       "diag_1                          21\n",
       "diag_2                         358\n",
       "diag_3                        1423\n",
       "number_diagnoses                 0\n",
       "max_glu_serum                96420\n",
       "A1Cresult                    84748\n",
       "metformin                    81778\n",
       "repaglinide                 100227\n",
       "nateglinide                 101063\n",
       "chlorpropamide              101680\n",
       "glimepiride                  96575\n",
       "acetohexamide               101765\n",
       "glipizide                    89080\n",
       "glyburide                    91116\n",
       "tolbutamide                 101743\n",
       "pioglitazone                 94438\n",
       "rosiglitazone                95401\n",
       "acarbose                    101458\n",
       "miglitol                    101728\n",
       "troglitazone                101763\n",
       "tolazamide                  101727\n",
       "examide                     101766\n",
       "citoglipton                 101766\n",
       "insulin                      47383\n",
       "glyburide-metformin         101060\n",
       "glipizide-metformin         101753\n",
       "glimepiride-pioglitazone    101765\n",
       "metformin-rosiglitazone     101764\n",
       "metformin-pioglitazone      101765\n",
       "change                       54755\n",
       "diabetesMed                  23403\n",
       "readmitted                       0\n",
       "dtype: int64"
      ]
     },
     "execution_count": 15,
     "metadata": {},
     "output_type": "execute_result"
    }
   ],
   "source": [
    "# Check missing cells of different values\n",
    "df_raw.isin([\"?\",\"No\",\"Unknown/Invalid\",\"None\"]).sum()\n",
    "# Most medications have more than 90% of missing cells; \n",
    "# Medications to keep: 'metformin','glipizide','glyburide','insulin' (>80% counts)"
   ]
  },
  {
   "cell_type": "markdown",
   "metadata": {},
   "source": [
    "#### Exclude missing observations and process the data\n",
    "As shown aove, some features have too many missingness, including:\n",
    "\n",
    "*weight*: 98569 missing;\n",
    "*payer_code*: 40256 missing;\n",
    "*medical_specialty*: 49949 missing\n",
    "\n",
    "*Medical_specialty* will be kept; other two variables are considered not relevent to the outcome and will be dropped; <br>Medicatoins will be processed to include information about whether there is an increase in dosage, a dicrease in dosage, or no change in dosage."
   ]
  },
  {
   "cell_type": "code",
   "execution_count": 16,
   "metadata": {},
   "outputs": [
    {
     "name": "stderr",
     "output_type": "stream",
     "text": [
      "/anaconda3/lib/python3.6/site-packages/ipykernel_launcher.py:11: UserWarning: Boolean Series key will be reindexed to match DataFrame index.\n",
      "  # This is added back by InteractiveShellApp.init_path()\n"
     ]
    }
   ],
   "source": [
    "# Drop the 2 features with too many missing values\n",
    "df=df_raw.drop(columns=['weight','payer_code'])\n",
    "\n",
    "# Same patienets are highly correlated with themselves and should be dropped\n",
    "df.drop_duplicates(subset=[\"patient_nbr\"],inplace=True) \n",
    "\n",
    "# Drop patient_id and encounter_id\n",
    "df.drop(columns=['encounter_id','patient_nbr'],inplace=True)\n",
    "\n",
    "# There are 3 invalid/unknown cells in gender; just delete them\n",
    "df=df[df_raw['gender']!=\"Unknown/Invalid\"]\n",
    "\n",
    "# Drop encounters that ended in deaths or hospice\n",
    "df=df[df['discharge_disposition_id'].isin([11,13,14,19,20,21])==False]"
   ]
  },
  {
   "cell_type": "code",
   "execution_count": 17,
   "metadata": {
    "scrolled": true
   },
   "outputs": [
    {
     "name": "stdout",
     "output_type": "stream",
     "text": [
      "(69970, 46)\n",
      "      admission_type_id  discharge_disposition_id  admission_source_id  \\\n",
      "mean           2.107132                  3.412391             5.636244   \n",
      "min            1.000000                  1.000000             1.000000   \n",
      "max            8.000000                 28.000000            25.000000   \n",
      "\n",
      "      time_in_hospital  num_lab_procedures  num_procedures  num_medications  \\\n",
      "mean           4.27326           42.876418        1.425482        15.665228   \n",
      "min            1.00000            1.000000        0.000000         1.000000   \n",
      "max           14.00000          132.000000        6.000000        81.000000   \n",
      "\n",
      "      number_outpatient  number_emergency  number_inpatient  number_diagnoses  \n",
      "mean           0.279548          0.103916          0.176261          7.223796  \n",
      "min            0.000000          0.000000          0.000000          1.000000  \n",
      "max           42.000000         42.000000         12.000000         16.000000  \n"
     ]
    }
   ],
   "source": [
    "print(df.shape) \n",
    "\n",
    "# Explore numeric variables in the dataset'''\n",
    "print(df.describe().loc[['mean','min','max']])"
   ]
  },
  {
   "cell_type": "markdown",
   "metadata": {},
   "source": [
    "###### The ranges of numeric values are all normal"
   ]
  },
  {
   "cell_type": "code",
   "execution_count": 18,
   "metadata": {},
   "outputs": [
    {
     "name": "stdout",
     "output_type": "stream",
     "text": [
      "********** race **********\n",
      "Caucasian          52292\n",
      "AfricanAmerican    12625\n",
      "?                   1916\n",
      "Hispanic            1500\n",
      "Other               1149\n",
      "Asian                488\n",
      "Name: race, dtype: int64\n",
      "\n",
      "\n",
      "********** gender **********\n",
      "Female    37229\n",
      "Male      32741\n",
      "Name: gender, dtype: int64\n",
      "\n",
      "\n",
      "********** age **********\n",
      "[70-80)     17748\n",
      "[60-70)     15683\n",
      "[50-60)     12349\n",
      "[80-90)     11102\n",
      "[40-50)      6828\n",
      "[30-40)      2692\n",
      "[90-100)     1760\n",
      "[20-30)      1121\n",
      "[10-20)       534\n",
      "[0-10)        153\n",
      "Name: age, dtype: int64\n",
      "\n",
      "\n",
      "********** max_glu_serum **********\n",
      "None    66622\n",
      "Norm     1700\n",
      ">200      936\n",
      ">300      712\n",
      "Name: max_glu_serum, dtype: int64\n",
      "\n",
      "\n",
      "********** A1Cresult **********\n",
      "None    57125\n",
      ">8       6239\n",
      "Norm     3741\n",
      ">7       2865\n",
      "Name: A1Cresult, dtype: int64\n",
      "\n",
      "\n",
      "********** change **********\n",
      "No    38481\n",
      "Ch    31489\n",
      "Name: change, dtype: int64\n",
      "\n",
      "\n",
      "********** diabetesMed **********\n",
      "Yes    53291\n",
      "No     16679\n",
      "Name: diabetesMed, dtype: int64\n",
      "\n",
      "\n",
      "********** readmitted **********\n",
      "NO     41471\n",
      ">30    22222\n",
      "<30     6277\n",
      "Name: readmitted, dtype: int64\n",
      "\n",
      "\n"
     ]
    }
   ],
   "source": [
    "# Explore categorical variables in the dataset\n",
    "cat_l=['race', 'gender', 'age','max_glu_serum', 'A1Cresult','change', \n",
    "       'diabetesMed', 'readmitted'] \n",
    "# 'medical_specialty' and 'diag_1'-'diag_3' have too many categories and need further process\n",
    "\n",
    "for i in cat_l:\n",
    "    print(\"********** \"+i+\" **********\")\n",
    "    print(df[i].value_counts())\n",
    "    print(\"\\n\")"
   ]
  },
  {
   "cell_type": "markdown",
   "metadata": {},
   "source": [
    "####  Transform some variables into dummy variables"
   ]
  },
  {
   "cell_type": "code",
   "execution_count": 19,
   "metadata": {
    "collapsed": true
   },
   "outputs": [],
   "source": [
    "df[\"gender_d\"]=df[\"gender\"].apply(lambda x: 1 if x==\"Male\" else 0) \n",
    "df['max_glu_dummy']=df['max_glu_serum'].apply(lambda x: 0 if x==\"None\" else 1)\n",
    "df['A1Cresult_dummy']=df['A1Cresult'].apply(lambda x: 0 if x==\"None\" else 1)\n",
    "df['change_d']=df['change'].apply(lambda x: 1 if x==\"Ch\" else 0)\n",
    "df['diabetesMed_d']=df['diabetesMed'].apply(lambda x: 1 if x==\"Yes\" else 0)"
   ]
  },
  {
   "cell_type": "code",
   "execution_count": 20,
   "metadata": {},
   "outputs": [
    {
     "data": {
      "text/plain": [
       "0.08970987566099757"
      ]
     },
     "execution_count": 20,
     "metadata": {},
     "output_type": "execute_result"
    }
   ],
   "source": [
    "# Transform target variable to be 1 versus 0 \n",
    "df['readmitted_d']=df['readmitted'].apply(lambda x: 1 if x==\"<30\" else 0)\n",
    "df['readmitted_d'].mean() # less than 10 percent of total population got early readmissions"
   ]
  },
  {
   "cell_type": "markdown",
   "metadata": {},
   "source": [
    "### Step two - EDA"
   ]
  },
  {
   "cell_type": "markdown",
   "metadata": {},
   "source": [
    "Some numerical variables actually have categorical meanings:  \n",
    " - discharge_disposition_id, \n",
    " - admission_type_id,  \n",
    " - admission_source_id, and \n",
    " - medical_specialty\n",
    "\n",
    "#### Based on their proportions of early-readmissions across different values, values with similar readmission rates would be grouped to capture differences in readmission. The idea is generated from a common practice to group ages with similar readmission rates.\n",
    "\n",
    "#### 1. discharge_disposition_id:  indicates discharge status\n",
    "patients who were discharged dead were excluded from the study; then, we will create a new variable to group different discharge_disposition_id based on the readmition rates"
   ]
  },
  {
   "cell_type": "code",
   "execution_count": 21,
   "metadata": {
    "scrolled": true
   },
   "outputs": [
    {
     "name": "stderr",
     "output_type": "stream",
     "text": [
      "/anaconda3/lib/python3.6/site-packages/seaborn/categorical.py:1460: FutureWarning: remove_na is deprecated and is a private function. Do not use.\n",
      "  stat_data = remove_na(group_data)\n"
     ]
    },
    {
     "data": {
      "image/png": "[encoded data removed]",
      "text/plain": [
       "<matplotlib.figure.Figure at 0x1173239e8>"
      ]
     },
     "metadata": {},
     "output_type": "display_data"
    }
   ],
   "source": [
    "def category_barplot(feature,target,df):\n",
    "    ''' Create a reusable function to generate barplots for categorical variables '''\n",
    "    f=df.groupby([feature])[target].mean()\n",
    "    feature_df=pd.DataFrame(f)\n",
    "    feature_df=feature_df.reset_index()\n",
    "    g=sns.barplot(x=feature,y=target,data=feature_df)\n",
    "    return plt.show()\n",
    "\n",
    "category_barplot('discharge_disposition_id','readmitted_d',df)"
   ]
  },
  {
   "cell_type": "code",
   "execution_count": 22,
   "metadata": {},
   "outputs": [
    {
     "name": "stderr",
     "output_type": "stream",
     "text": [
      "/anaconda3/lib/python3.6/site-packages/seaborn/categorical.py:1460: FutureWarning: remove_na is deprecated and is a private function. Do not use.\n",
      "  stat_data = remove_na(group_data)\n"
     ]
    },
    {
     "data": {
      "image/png": "[encoded data removed]",
      "text/plain": [
       "<matplotlib.figure.Figure at 0x112ce1588>"
      ]
     },
     "metadata": {},
     "output_type": "display_data"
    }
   ],
   "source": [
    "''' Group discharge types according to their proportion of admissions '''\n",
    "def dicharge_group(value):\n",
    "    if value in (12,15,28):\n",
    "        return 1\n",
    "    if value ==22:\n",
    "        return 2\n",
    "    if value in (5,9):\n",
    "        return 3\n",
    "    if value in (2,3):\n",
    "        return 4\n",
    "    else:\n",
    "        return 5\n",
    "df['dischar_group']=df['discharge_disposition_id'].apply(dicharge_group)\n",
    "category_barplot('dischar_group','readmitted_d',df)"
   ]
  },
  {
   "cell_type": "markdown",
   "metadata": {},
   "source": [
    "#### 2. admission_source_id:  indicates admission type"
   ]
  },
  {
   "cell_type": "code",
   "execution_count": 23,
   "metadata": {},
   "outputs": [
    {
     "name": "stderr",
     "output_type": "stream",
     "text": [
      "/anaconda3/lib/python3.6/site-packages/seaborn/categorical.py:1460: FutureWarning: remove_na is deprecated and is a private function. Do not use.\n",
      "  stat_data = remove_na(group_data)\n"
     ]
    },
    {
     "data": {
      "image/png": "[encoded data removed]",
      "text/plain": [
       "<matplotlib.figure.Figure at 0x112c33550>"
      ]
     },
     "metadata": {},
     "output_type": "display_data"
    }
   ],
   "source": [
    "category_barplot('admission_source_id','readmitted_d',df)"
   ]
  },
  {
   "cell_type": "code",
   "execution_count": 24,
   "metadata": {},
   "outputs": [
    {
     "name": "stderr",
     "output_type": "stream",
     "text": [
      "/anaconda3/lib/python3.6/site-packages/seaborn/categorical.py:1460: FutureWarning: remove_na is deprecated and is a private function. Do not use.\n",
      "  stat_data = remove_na(group_data)\n"
     ]
    },
    {
     "data": {
      "image/png": "[encoded data removed]",
      "text/plain": [
       "<matplotlib.figure.Figure at 0x112db43c8>"
      ]
     },
     "metadata": {},
     "output_type": "display_data"
    }
   ],
   "source": [
    "def ad_cource_group(value):\n",
    "    if value==3 or value==20:\n",
    "        return 1\n",
    "    else: \n",
    "        return 0\n",
    "df['admis_source_group']=df['admission_source_id'].apply(ad_cource_group)\n",
    "category_barplot('admis_source_group','readmitted_d',df)"
   ]
  },
  {
   "cell_type": "markdown",
   "metadata": {},
   "source": [
    "#### 3.　admission_type_id: indicates emergent of elective"
   ]
  },
  {
   "cell_type": "code",
   "execution_count": 25,
   "metadata": {},
   "outputs": [
    {
     "name": "stderr",
     "output_type": "stream",
     "text": [
      "/anaconda3/lib/python3.6/site-packages/seaborn/categorical.py:1460: FutureWarning: remove_na is deprecated and is a private function. Do not use.\n",
      "  stat_data = remove_na(group_data)\n"
     ]
    },
    {
     "data": {
      "image/png": "[encoded data removed]",
      "text/plain": [
       "<matplotlib.figure.Figure at 0x112e1bac8>"
      ]
     },
     "metadata": {},
     "output_type": "display_data"
    }
   ],
   "source": [
    "category_barplot('admission_type_id','readmitted_d',df)"
   ]
  },
  {
   "cell_type": "code",
   "execution_count": 26,
   "metadata": {},
   "outputs": [
    {
     "name": "stderr",
     "output_type": "stream",
     "text": [
      "/anaconda3/lib/python3.6/site-packages/seaborn/categorical.py:1460: FutureWarning: remove_na is deprecated and is a private function. Do not use.\n",
      "  stat_data = remove_na(group_data)\n"
     ]
    },
    {
     "data": {
      "image/png": "[encoded data removed]",
      "text/plain": [
       "<matplotlib.figure.Figure at 0x112f17320>"
      ]
     },
     "metadata": {},
     "output_type": "display_data"
    }
   ],
   "source": [
    "def ad_type_group(value):\n",
    "    if value==4 or value==6:\n",
    "        return 1\n",
    "    else: \n",
    "        return 0\n",
    "df['ad_type_group']=df['admission_type_id'].apply(ad_type_group)\n",
    "category_barplot('ad_type_group','readmitted_d',df)"
   ]
  },
  {
   "cell_type": "markdown",
   "metadata": {},
   "source": [
    "#### 4. medical_specialty indicates physician's type"
   ]
  },
  {
   "cell_type": "code",
   "execution_count": 27,
   "metadata": {},
   "outputs": [
    {
     "name": "stderr",
     "output_type": "stream",
     "text": [
      "/anaconda3/lib/python3.6/site-packages/seaborn/categorical.py:1460: FutureWarning: remove_na is deprecated and is a private function. Do not use.\n",
      "  stat_data = remove_na(group_data)\n"
     ]
    },
    {
     "data": {
      "image/png": "[encoded data removed]",
      "text/plain": [
       "<matplotlib.figure.Figure at 0x112f9a908>"
      ]
     },
     "metadata": {},
     "output_type": "display_data"
    }
   ],
   "source": [
    "''' group codes about the physician specialty '''\n",
    "series=df.groupby(['medical_specialty'])['readmitted_d'].mean()\n",
    "ranked=series.sort_values(ascending=False)\n",
    "rank_1=[]\n",
    "rank_2=[]\n",
    "rank_3=[]\n",
    "rank_4=[]\n",
    "rank_5=[]\n",
    "for i in ranked.index:\n",
    "    if ranked[i]>=0.15:\n",
    "        rank_1.append(i)\n",
    "    if 0.15>ranked[i]>=0.11:\n",
    "        rank_2.append(i)\n",
    "    if 0.11>ranked[i]>=0.09:\n",
    "        rank_3.append(i)\n",
    "    if 0.09>ranked[i]>=0.05:\n",
    "        rank_4.append(i)\n",
    "    if 0.05>ranked[i]:\n",
    "        rank_5.append(i)\n",
    "        \n",
    "def med_spec_group(string):\n",
    "    if string in rank_1:\n",
    "        return 1\n",
    "    if string in rank_2:\n",
    "        return 2\n",
    "    if string in rank_3:\n",
    "        return 3\n",
    "    if string in rank_4:\n",
    "        return 4\n",
    "    if string in rank_5:\n",
    "        return 5\n",
    "    else:\n",
    "        return 6\n",
    "df['med_spec_group']=df['medical_specialty'].apply(med_spec_group)\n",
    "category_barplot('med_spec_group','readmitted_d',df)"
   ]
  },
  {
   "cell_type": "code",
   "execution_count": 28,
   "metadata": {},
   "outputs": [
    {
     "name": "stderr",
     "output_type": "stream",
     "text": [
      "/anaconda3/lib/python3.6/site-packages/seaborn/categorical.py:1460: FutureWarning: remove_na is deprecated and is a private function. Do not use.\n",
      "  stat_data = remove_na(group_data)\n"
     ]
    },
    {
     "data": {
      "image/png": "[encoded data removed]",
      "text/plain": [
       "<matplotlib.figure.Figure at 0x112d73710>"
      ]
     },
     "metadata": {},
     "output_type": "display_data"
    }
   ],
   "source": [
    "# Transform age category into norminal variables \n",
    "age_dict={\"[0-10)\":1,\"[10-20)\":2,\"[20-30)\":3,\"[30-40)\":4,\"[40-50)\":5,\"[50-60)\":6,\n",
    "          \"[60-70)\":7,\"[70-80)\":8,\"[80-90)\":9,\"[90-100)\":10}\n",
    "df[\"age_10\"]=df[\"age\"].map(age_dict)\n",
    "category_barplot('age_10','readmitted_d',df)"
   ]
  },
  {
   "cell_type": "code",
   "execution_count": 29,
   "metadata": {},
   "outputs": [
    {
     "name": "stderr",
     "output_type": "stream",
     "text": [
      "/anaconda3/lib/python3.6/site-packages/seaborn/categorical.py:1460: FutureWarning: remove_na is deprecated and is a private function. Do not use.\n",
      "  stat_data = remove_na(group_data)\n"
     ]
    },
    {
     "data": {
      "image/png": "[encoded data removed]",
      "text/plain": [
       "<matplotlib.figure.Figure at 0x1130d5828>"
      ]
     },
     "metadata": {},
     "output_type": "display_data"
    }
   ],
   "source": [
    "def age_group(value):\n",
    "    if value==1:\n",
    "        return 1\n",
    "    if value==2:\n",
    "        return 2\n",
    "    if value in (3,4,5,6):\n",
    "        return 3\n",
    "    if value in (7,10):\n",
    "        return 4\n",
    "    else: \n",
    "        return 5\n",
    "df['age_group']=df['age_10'].apply(age_group)\n",
    "category_barplot('age_group','readmitted_d',df)"
   ]
  },
  {
   "cell_type": "markdown",
   "metadata": {},
   "source": [
    "#### Based on the features I have, it is necessary to create other new features that are potential to be related with the outcome\n",
    " - Whether the test of AlC8 was not conducted during inpatient stay\n",
    " - The test result of AlC8 is evaluated but no change in medication was observed\n",
    " - The test result of AlC8 is evaluated and change in medication was observed\n",
    " - Whether any of the 23 medications were up or down\n",
    " - Retain 4 medications with relatively high proportion of being taken during inpatient stay\n",
    " - Charlson Comorbidity Index Scores"
   ]
  },
  {
   "cell_type": "code",
   "execution_count": 30,
   "metadata": {
    "collapsed": true
   },
   "outputs": [],
   "source": [
    "temp_AlC8=pd.get_dummies(df['A1Cresult']).loc[:,'>8']\n",
    "temp_None=pd.get_dummies(df['A1Cresult']).loc[:,'None']\n",
    "\n",
    "temp_ch=pd.get_dummies(df['change']).loc[:,'Ch']\n",
    "temp_no=pd.get_dummies(df['change']).loc[:,'No']\n",
    "\n",
    "temp_AlC8_Changed=temp_AlC8*temp_ch\n",
    "temp_AlC8_NonCh=temp_AlC8*temp_no\n",
    "\n",
    "df['No_Alc']=temp_None\n",
    "df['Alc_ch']=temp_AlC8_Changed\n",
    "df['Alc_nonch']=temp_AlC8_NonCh"
   ]
  },
  {
   "cell_type": "code",
   "execution_count": 31,
   "metadata": {
    "collapsed": true
   },
   "outputs": [],
   "source": [
    "# Add new information about whether the drugs were up or down \n",
    "\n",
    "drugs_df=df[['metformin', 'repaglinide', 'nateglinide', 'chlorpropamide',\n",
    "       'glimepiride', 'acetohexamide', 'glipizide', 'glyburide', 'tolbutamide',\n",
    "       'pioglitazone', 'rosiglitazone', 'acarbose', 'miglitol', 'troglitazone',\n",
    "       'tolazamide', 'examide', 'citoglipton', 'insulin',\n",
    "       'glyburide-metformin', 'glipizide-metformin',\n",
    "       'glimepiride-pioglitazone', 'metformin-rosiglitazone',\n",
    "       'metformin-pioglitazone']]\n",
    "up_df=drugs_df.isin(['Up'])\n",
    "down_df=drugs_df.isin(['Down'])\n",
    "df['med_up']=up_df.sum(axis=1)\n",
    "df['med_down']=down_df.sum(axis=1)"
   ]
  },
  {
   "cell_type": "code",
   "execution_count": 32,
   "metadata": {},
   "outputs": [
    {
     "name": "stderr",
     "output_type": "stream",
     "text": [
      "/anaconda3/lib/python3.6/site-packages/seaborn/categorical.py:1460: FutureWarning: remove_na is deprecated and is a private function. Do not use.\n",
      "  stat_data = remove_na(group_data)\n"
     ]
    },
    {
     "data": {
      "image/png": "[encoded data removed]",
      "text/plain": [
       "<matplotlib.figure.Figure at 0x1130d54a8>"
      ]
     },
     "metadata": {},
     "output_type": "display_data"
    },
    {
     "data": {
      "image/png": "[encoded data removed]",
      "text/plain": [
       "<matplotlib.figure.Figure at 0x113ab4cf8>"
      ]
     },
     "metadata": {},
     "output_type": "display_data"
    },
    {
     "data": {
      "image/png": "[encoded data removed]",
      "text/plain": [
       "<matplotlib.figure.Figure at 0x113ae2b38>"
      ]
     },
     "metadata": {},
     "output_type": "display_data"
    },
    {
     "data": {
      "image/png": "[encoded data removed]",
      "text/plain": [
       "<matplotlib.figure.Figure at 0x113ac4828>"
      ]
     },
     "metadata": {},
     "output_type": "display_data"
    }
   ],
   "source": [
    "med_list=['metformin','glipizide','glyburide','insulin']\n",
    "\n",
    "category_barplot('metformin','readmitted_d',df)\n",
    "category_barplot('glipizide','readmitted_d',df)\n",
    "category_barplot('glyburide','readmitted_d',df) # will drop\n",
    "category_barplot('insulin','readmitted_d',df)"
   ]
  },
  {
   "cell_type": "code",
   "execution_count": 33,
   "metadata": {
    "collapsed": true
   },
   "outputs": [],
   "source": [
    "# Drop useless medications\n",
    "\n",
    "df.drop(columns=['repaglinide', 'nateglinide', 'chlorpropamide',\n",
    "       'glimepiride', 'acetohexamide', 'glyburide', 'tolbutamide',\n",
    "       'pioglitazone', 'rosiglitazone', 'acarbose', 'miglitol', 'troglitazone',\n",
    "       'tolazamide', 'examide', 'citoglipton', \n",
    "       'glyburide-metformin', 'glipizide-metformin',\n",
    "       'glimepiride-pioglitazone', 'metformin-rosiglitazone',\n",
    "       'metformin-pioglitazone'],inplace=True)"
   ]
  },
  {
   "cell_type": "markdown",
   "metadata": {},
   "source": [
    "#### Charlson Comorbidity Score from ICD-9-CM diagnosis codes\n",
    "Diagnosis codes are useful to indicate the severity of illness a patient has, which is a common way of adjusting health conditions of a patient in academia"
   ]
  },
  {
   "cell_type": "code",
   "execution_count": 34,
   "metadata": {
    "collapsed": true
   },
   "outputs": [],
   "source": [
    "# Transform diagnosis codes into meaningful CCI scores using regular expression\n",
    "\n",
    "# Diagnosis 1\n",
    "df[\"MI_CHF_Cereb_Dem_1\"]=df['diag_1'].str.match(r'(41[02][.]?\\d?\\d?)|(428[.]?\\d?\\d?)|(43[0-8][.]?\\d?\\d?)|(290[.]?\\d?\\d?)')\n",
    "df[\"PVF_1\"]=df['diag_1'].str.match(r'(443[.]9\\d?)|(441[.]?\\d?\\d?)|(785[.]4\\d?)|(V43[.]4\\d?)')\n",
    "df[\"ChroPul_1\"]=df['diag_1'].str.match(r'((49[0-9])|(50[0-5])[.]?\\d?\\d?)|(506.4\\d?)')\n",
    "df[\"Rheu_1\"]=df['diag_1'].str.match(r'(710[.][014]])|(714[.][02])|(714[.]81)|(724[.]?\\d?\\d?)')\n",
    "df[\"PepUlc_Liver_Diabetes_1\"]=df['diag_1'].str.match(r'(53[1-4][.]?\\d?\\d?)|(571[.][2456]\\d?)|(250[.][01237]\\d?)')\n",
    "df[\"Hemip_Diabetes_1\"]=df['diag_1'].str.match(r'(250[.][456]\\d?)|(344[.]1\\d?)|(342[.]?\\d?\\d?)|(250)')\n",
    "df[\"Renal_1\"]=df['diag_1'].str.match(r'58[23568][.]?\\d?\\d?')\n",
    "df[\"Cancer_1\"]=df['diag_1'].str.match(r'(1[4-6][0-9][.]?\\d?\\d?)|(17[0-2][.]?\\d?\\d?)|(17[4-9][.]?\\d?\\d?)|\\\n",
    "                                      (18[0-9][.]?\\d?\\d?)|(195[.]8)|(20[0-8][.]?\\d?\\d?)')          \n",
    "df[\"Liver_1\"]=df['diag_1'].str.match(r'(456[.][01][0-9]?)|(456[.]2[01])|(572[.][2-8]\\d?)')\n",
    "df[\"Metas_1\"]=df['diag_1'].str.match(r'(19[6-8][.]?\\d?\\d?)|(199[.]1)')\n",
    "df[\"HIV_1\"]=df['diag_1'].str.match(r'04[2-4][.]?\\d?\\d?')\n",
    "\n",
    "# Diagnosis 2\n",
    "df[\"MI_CHF_Cereb_Dem_2\"]=df['diag_2'].str.match(r'(41[02][.]?\\d?\\d?)|(428[.]?\\d?\\d?)|(43[0-8][.]?\\d?\\d?)|(290[.]?\\d?\\d?)')\n",
    "df[\"PVF_2\"]=df['diag_2'].str.match(r'(443[.]9\\d?)|(441[.]?\\d?\\d?)|(785[.]4\\d?)|(V43[.]4\\d?)')\n",
    "df[\"ChroPul_2\"]=df['diag_2'].str.match(r'((49[0-9])|(50[0-5])[.]?\\d?\\d?)|(506.4\\d?)')\n",
    "df[\"Rheu_2\"]=df['diag_2'].str.match(r'(710[.][014]])|(714[.][02])|(714[.]81)|(724[.]?\\d?\\d?)')\n",
    "df[\"PepUlc_Liver_Diabetes_2\"]=df['diag_2'].str.match(r'(53[1-4][.]?\\d?\\d?)|(571[.][2456]\\d?)|(250[.][01237]\\d?)')\n",
    "df[\"Hemip_Diabetes_2\"]=df['diag_2'].str.match(r'(250[.][456]\\d?)|(344[.]1\\d?)|(342[.]?\\d?\\d?)|(250)')\n",
    "df[\"Renal_2\"]=df['diag_2'].str.match(r'58[23568][.]?\\d?\\d?')\n",
    "df[\"Cancer_2\"]=df['diag_2'].str.match(r'(1[4-6][0-9][.]?\\d?\\d?)|(17[0-2][.]?\\d?\\d?)|(17[4-9][.]?\\d?\\d?)|\\\n",
    "                                      (18[0-9][.]?\\d?\\d?)|(195[.]8)|(20[0-8][.]?\\d?\\d?)')          \n",
    "df[\"Liver_2\"]=df['diag_2'].str.match(r'(456[.][01][0-9]?)|(456[.]2[01])|(572[.][2-8]\\d?)')\n",
    "df[\"Metas_2\"]=df['diag_2'].str.match(r'(19[6-8][.]?\\d?\\d?)|(199[.]1)')\n",
    "df[\"HIV_2\"]=df['diag_2'].str.match(r'04[2-4][.]?\\d?\\d?')\n",
    "\n",
    "# Diagnosis 3\n",
    "df[\"MI_CHF_Cereb_Dem_3\"]=df['diag_3'].str.match(r'(41[02][.]?\\d?\\d?)|(428[.]?\\d?\\d?)|(43[0-8][.]?\\d?\\d?)|(290[.]?\\d?\\d?)')\n",
    "df[\"PVF_3\"]=df['diag_3'].str.match(r'(443[.]9\\d?)|(441[.]?\\d?\\d?)|(785[.]4\\d?)|(V43[.]4\\d?)')\n",
    "df[\"ChroPul_3\"]=df['diag_3'].str.match(r'((49[0-9])|(50[0-5])[.]?\\d?\\d?)|(506.4\\d?)')\n",
    "df[\"Rheu_3\"]=df['diag_3'].str.match(r'(710[.][014]])|(714[.][02])|(714[.]81)|(724[.]?\\d?\\d?)')\n",
    "df[\"PepUlc_Liver_Diabetes_3\"]=df['diag_3'].str.match(r'(53[1-4][.]?\\d?\\d?)|(571[.][2456]\\d?)|(250[.][01237]\\d?)')\n",
    "df[\"Hemip_Diabetes_3\"]=df['diag_3'].str.match(r'(250[.][456]\\d?)|(344[.]1\\d?)|(342[.]?\\d?\\d?)|(250)')\n",
    "df[\"Renal_3\"]=df['diag_3'].str.match(r'58[23568][.]?\\d?\\d?')\n",
    "df[\"Cancer_3\"]=df['diag_3'].str.match(r'(1[4-6][0-9][.]?\\d?\\d?)|(17[0-2][.]?\\d?\\d?)|(17[4-9][.]?\\d?\\d?)|\\\n",
    "                                      (18[0-9][.]?\\d?\\d?)|(195[.]8)|(20[0-8][.]?\\d?\\d?)')          \n",
    "df[\"Liver_3\"]=df['diag_3'].str.match(r'(456[.][01][0-9]?)|(456[.]2[01])|(572[.][2-8]\\d?)')\n",
    "df[\"Metas_3\"]=df['diag_3'].str.match(r'(19[6-8][.]?\\d?\\d?)|(199[.]1)')\n",
    "df[\"HIV_3\"]=df['diag_3'].str.match(r'04[2-4][.]?\\d?\\d?')"
   ]
  },
  {
   "cell_type": "code",
   "execution_count": 35,
   "metadata": {},
   "outputs": [
    {
     "name": "stderr",
     "output_type": "stream",
     "text": [
      "/anaconda3/lib/python3.6/site-packages/pandas/core/computation/expressions.py:179: UserWarning: evaluating in Python space because the '+' operator is not supported by numexpr for the bool dtype, use '|' instead\n",
      "  .format(op=op_str, alt_op=unsupported[op_str]))\n"
     ]
    },
    {
     "data": {
      "text/plain": [
       "1.576875803915964"
      ]
     },
     "execution_count": 35,
     "metadata": {},
     "output_type": "execute_result"
    }
   ],
   "source": [
    "df['Score_1']=(df['MI_CHF_Cereb_Dem_1']+df[\"PVF_1\"]+df[\"ChroPul_1\"]+df[\"Rheu_1\"]+df[\"PepUlc_Liver_Diabetes_1\"])*1+\\\n",
    "            (df[\"Hemip_Diabetes_1\"]+df[\"Renal_1\"]+df[\"Cancer_1\"])*2+(df[\"Liver_1\"])*3+(df[\"Metas_1\"]+df[\"HIV_1\"])*6\n",
    "\n",
    "df['Score_2']=(df['MI_CHF_Cereb_Dem_2']+df[\"PVF_2\"]+df[\"ChroPul_2\"]+df[\"Rheu_2\"]+df[\"PepUlc_Liver_Diabetes_2\"])*1+\\\n",
    "            (df[\"Hemip_Diabetes_2\"]+df[\"Renal_2\"]+df[\"Cancer_2\"])*2+(df[\"Liver_2\"])*3+(df[\"Metas_2\"]+df[\"HIV_2\"])*6\n",
    "\n",
    "df['Score_3']=(df['MI_CHF_Cereb_Dem_3']+df[\"PVF_3\"]+df[\"ChroPul_3\"]+df[\"Rheu_3\"]+df[\"PepUlc_Liver_Diabetes_3\"])*1+\\\n",
    "            (df[\"Hemip_Diabetes_3\"]+df[\"Renal_3\"]+df[\"Cancer_3\"])*2+(df[\"Liver_3\"])*3+(df[\"Metas_3\"]+df[\"HIV_3\"])*6\n",
    "df['CCI']=df['Score_1']+df['Score_2']+df['Score_3']\n",
    "df['CCI'].mean() \n",
    "\n",
    "# the mean CCI score makes sense since all patients have diabetes \n",
    "# should have a CCI score =1 or 2"
   ]
  },
  {
   "cell_type": "code",
   "execution_count": 36,
   "metadata": {
    "collapsed": true,
    "scrolled": true
   },
   "outputs": [],
   "source": [
    "# Group diagnosis codes according to their proportion of readmission \n",
    "series_count=pd.DataFrame(df['diag_1'].value_counts())\n",
    "series_rates=pd.DataFrame(df.groupby(['diag_1'])['readmitted_d'].mean())\n",
    "\n",
    "temp_df=series_count.merge(series_rates,left_index=True,right_index=True)\n",
    "temp_df1=temp_df[temp_df['readmitted_d']>0.15]\n",
    "diag_1st=temp_df1.index.tolist()\n",
    "\n",
    "temp_df2=temp_df[temp_df['readmitted_d']>0.1]\n",
    "diag_2nd=set(temp_df2.index.tolist())-set(diag_1st)\n",
    "\n",
    "temp_df3=temp_df[temp_df['readmitted_d']>0.05]\n",
    "diag_3rd=set(temp_df3.index.tolist())-set(diag_1st)-set(diag_2nd)\n",
    "\n",
    "\n",
    "def diag_group(string):\n",
    "    if string in diag_1st:\n",
    "        return 1\n",
    "    if string in diag_2nd:\n",
    "        return 2\n",
    "    if string in diag_3rd:\n",
    "        return 3\n",
    "    else:\n",
    "        return 4\n",
    "df['diag_group']=df['diag_1'].apply(diag_group)"
   ]
  },
  {
   "cell_type": "code",
   "execution_count": 37,
   "metadata": {},
   "outputs": [
    {
     "data": {
      "text/plain": [
       "Index(['race_?', 'race_AfricanAmerican', 'race_Asian', 'race_Caucasian',\n",
       "       'race_Hispanic', 'race_Other', 'insulin_Down', 'insulin_No',\n",
       "       'insulin_Steady', 'insulin_Up', 'metformin_Down', 'metformin_No',\n",
       "       'metformin_Steady', 'metformin_Up', 'glipizide_Down', 'glipizide_No',\n",
       "       'glipizide_Steady', 'glipizide_Up'],\n",
       "      dtype='object')"
      ]
     },
     "execution_count": 37,
     "metadata": {},
     "output_type": "execute_result"
    }
   ],
   "source": [
    "# Finally, transform norminal categories into dummy variables \n",
    "\n",
    "dummy_cols=pd.get_dummies(df[['race','insulin','metformin','glipizide']]).columns\n",
    "df[dummy_cols]=pd.get_dummies(df[['race','insulin','metformin','glipizide']])\n",
    "pd.get_dummies(df[['race','insulin','metformin','glipizide']]).columns"
   ]
  },
  {
   "cell_type": "code",
   "execution_count": 38,
   "metadata": {},
   "outputs": [
    {
     "data": {
      "text/plain": [
       "(69970, 40)"
      ]
     },
     "execution_count": 38,
     "metadata": {},
     "output_type": "execute_result"
    }
   ],
   "source": [
    "# List all the features of interest\n",
    "\n",
    "features_v1=['race_?', 'race_AfricanAmerican', 'race_Asian', 'race_Caucasian',\n",
    "             'race_Hispanic', 'race_Other', 'gender_d', 'dischar_group', \n",
    "             'ad_type_group','med_spec_group','admis_source_group', 'diag_group',\n",
    "             'time_in_hospital', 'num_lab_procedures', 'num_procedures',\n",
    "             'num_medications', 'number_outpatient', 'number_emergency',\n",
    "             'number_inpatient', 'number_diagnoses', \n",
    "             'max_glu_dummy', 'A1Cresult_dummy', 'diabetesMed_d','Alc_ch', \n",
    "             'Alc_nonch', 'med_up', 'med_down', 'CCI','insulin_Down', 'insulin_No',\n",
    "             'insulin_Steady', 'insulin_Up', 'metformin_Down', 'metformin_No',\n",
    "             'metformin_Steady', 'metformin_Up', 'glipizide_Down', 'glipizide_No',\n",
    "             'glipizide_Steady', 'glipizide_Up']\n",
    "df_v1=df[features_v1]\n",
    "df_v1.shape"
   ]
  },
  {
   "cell_type": "markdown",
   "metadata": {},
   "source": [
    "### Step Three - Inferential Statistics"
   ]
  },
  {
   "cell_type": "markdown",
   "metadata": {},
   "source": [
    "#### For the comparison of early readmission rates among different variables, we have enough sample size to apply statistical techniques like law of large numbers or z-test of two sample proportions."
   ]
  },
  {
   "cell_type": "code",
   "execution_count": 39,
   "metadata": {
    "collapsed": true
   },
   "outputs": [],
   "source": [
    "# For different type of independent variables will apply different tests\n",
    "\n",
    "dummy_features=['race_?', 'race_AfricanAmerican', 'race_Asian', 'race_Caucasian',\n",
    "                'race_Hispanic', 'race_Other', 'gender_d', 'max_glu_dummy', 'A1Cresult_dummy', \n",
    "                'diabetesMed_d','Alc_ch', 'Alc_nonch', 'med_up', 'med_down','insulin_Down', \n",
    "                'insulin_No', 'insulin_Steady', 'insulin_Up', 'metformin_Down', 'metformin_No',\n",
    "                'metformin_Steady', 'metformin_Up', 'glipizide_Down', 'glipizide_No',\n",
    "                'glipizide_Steady', 'glipizide_Up']\n",
    "categorical_features=['dischar_group', 'ad_type_group','med_spec_group','admis_source_group', \n",
    "                      'diag_group',]\n",
    "continuous_features=['time_in_hospital', 'num_lab_procedures', 'num_procedures',\n",
    "                     'num_medications', 'number_outpatient', 'number_emergency',\n",
    "                     'number_inpatient', 'number_diagnoses', 'CCI']"
   ]
  },
  {
   "cell_type": "code",
   "execution_count": 40,
   "metadata": {},
   "outputs": [
    {
     "data": {
      "text/plain": [
       "6277"
      ]
     },
     "execution_count": 40,
     "metadata": {},
     "output_type": "execute_result"
    }
   ],
   "source": [
    "df['readmitted_d'].sum()"
   ]
  },
  {
   "cell_type": "markdown",
   "metadata": {},
   "source": [
    "Since the sample should be randomly selected, the number of success or failure is large enough (>10), and samples are independent of each other, we can assume the conditions of randomness, normal approximation, and independence are met, and many tests can be applied."
   ]
  },
  {
   "cell_type": "code",
   "execution_count": 41,
   "metadata": {},
   "outputs": [
    {
     "name": "stdout",
     "output_type": "stream",
     "text": [
      "race_?: 0.012\n",
      "race_Caucasian: 0.001\n",
      "race_Other: 0.012\n",
      "max_glu_dummy: 0.014\n",
      "A1Cresult_dummy: 0.011\n",
      "diabetesMed_d: 0.0\n",
      "Alc_nonch: 0.008\n",
      "med_up: 0.004\n",
      "med_down: 0.0\n",
      "insulin_Down: 0.0\n",
      "insulin_No: 0.0\n",
      "insulin_Up: 0.008\n",
      "metformin_No: 0.001\n",
      "metformin_Steady: 0.003\n",
      "metformin_Up: 0.04\n",
      "glipizide_Down: 0.007\n",
      "glipizide_No: 0.006\n"
     ]
    }
   ],
   "source": [
    "from statsmodels.stats.proportion import proportions_ztest\n",
    "\n",
    "''' Include significant dummy variables using 2-sample z test '''\n",
    "significant_features=[]\n",
    "for i in dummy_features:\n",
    "        n_pres_readm=df[df[i]==1][\"readmitted_d\"].sum()\n",
    "        n_abs_readm=df[df[i]==0][\"readmitted_d\"].sum()\n",
    "        n_presence=len(df[df[i]==1])\n",
    "        n_absence=len(df[df[i]==0])\n",
    "        \n",
    "        count=np.array([n_pres_readm,n_abs_readm])\n",
    "        obs=np.array([n_presence, n_absence])\n",
    "        stat, pval=proportions_ztest(count, obs)\n",
    "        if pval<0.05:\n",
    "            significant_features.append(i)\n",
    "            print(i+\": \"+str(round(pval,3)))"
   ]
  },
  {
   "cell_type": "code",
   "execution_count": 42,
   "metadata": {},
   "outputs": [
    {
     "name": "stdout",
     "output_type": "stream",
     "text": [
      "dischar_group: 0.0\n",
      "ad_type_group: 0.021\n",
      "med_spec_group: 0.0\n",
      "admis_source_group: 0.006\n",
      "diag_group: 0.0\n"
     ]
    }
   ],
   "source": [
    "from scipy.stats import chisquare\n",
    "\n",
    "''' Include significant categorical variables using chi-square test '''\n",
    "for i in categorical_features:\n",
    "    fraction=df[\"readmitted_d\"].mean()    \n",
    "    n_inclass=np.array(df[i].value_counts().sort_index())\n",
    "    expected=fraction*n_inclass\n",
    "    \n",
    "    obs=np.array(df.groupby(i)['readmitted_d'].sum().sort_index())\n",
    "    \n",
    "    statistics, pval=chisquare(obs, f_exp=expected)\n",
    "    if pval<0.05:\n",
    "        significant_features.append(i)\n",
    "        print(i+\": \"+str(round(pval,3)))"
   ]
  },
  {
   "cell_type": "code",
   "execution_count": 43,
   "metadata": {
    "collapsed": true
   },
   "outputs": [],
   "source": [
    "''' Use p-values from logistic regression models '''\n",
    "from statsmodels.discrete.discrete_model import Logit\n",
    "\n",
    "y=np.array(df['readmitted_d']).astype(float)\n",
    "X=np.array(df[continuous_features]).astype(float)"
   ]
  },
  {
   "cell_type": "code",
   "execution_count": 44,
   "metadata": {},
   "outputs": [
    {
     "name": "stdout",
     "output_type": "stream",
     "text": [
      "Optimization terminated successfully.\n",
      "         Current function value: 0.318971\n",
      "         Iterations 6\n"
     ]
    }
   ],
   "source": [
    "import statsmodels.discrete.discrete_model as sm\n",
    "from scipy import stats\n",
    "\n",
    "stats.chisqprob = lambda chisq, df_v1: stats.chi2.sf(chisq, df_v1)\n",
    "\n",
    "logit = sm.Logit(y, X)\n",
    "results=logit.fit()\n",
    "params=results.params"
   ]
  },
  {
   "cell_type": "code",
   "execution_count": 45,
   "metadata": {},
   "outputs": [
    {
     "data": {
      "text/html": [
       "<table class=\"simpletable\">\n",
       "<caption>Logit Regression Results</caption>\n",
       "<tr>\n",
       "  <th>Dep. Variable:</th>         <td>y</td>        <th>  No. Observations:  </th>  <td> 69970</td> \n",
       "</tr>\n",
       "<tr>\n",
       "  <th>Model:</th>               <td>Logit</td>      <th>  Df Residuals:      </th>  <td> 69961</td> \n",
       "</tr>\n",
       "<tr>\n",
       "  <th>Method:</th>               <td>MLE</td>       <th>  Df Model:          </th>  <td>     8</td> \n",
       "</tr>\n",
       "<tr>\n",
       "  <th>Date:</th>          <td>Sun, 02 Sep 2018</td> <th>  Pseudo R-squ.:     </th> <td>-0.05666</td>\n",
       "</tr>\n",
       "<tr>\n",
       "  <th>Time:</th>              <td>14:22:37</td>     <th>  Log-Likelihood:    </th> <td> -22318.</td>\n",
       "</tr>\n",
       "<tr>\n",
       "  <th>converged:</th>           <td>True</td>       <th>  LL-Null:           </th> <td> -21122.</td>\n",
       "</tr>\n",
       "<tr>\n",
       "  <th> </th>                      <td> </td>        <th>  LLR p-value:       </th>  <td> 1.000</td> \n",
       "</tr>\n",
       "</table>\n",
       "<table class=\"simpletable\">\n",
       "<tr>\n",
       "   <td></td>     <th>coef</th>     <th>std err</th>      <th>z</th>      <th>P>|z|</th>  <th>[0.025</th>    <th>0.975]</th>  \n",
       "</tr>\n",
       "<tr>\n",
       "  <th>x1</th> <td>    0.0506</td> <td>    0.005</td> <td>   10.190</td> <td> 0.000</td> <td>    0.041</td> <td>    0.060</td>\n",
       "</tr>\n",
       "<tr>\n",
       "  <th>x2</th> <td>   -0.0117</td> <td>    0.001</td> <td>  -18.451</td> <td> 0.000</td> <td>   -0.013</td> <td>   -0.010</td>\n",
       "</tr>\n",
       "<tr>\n",
       "  <th>x3</th> <td>   -0.0542</td> <td>    0.008</td> <td>   -6.462</td> <td> 0.000</td> <td>   -0.071</td> <td>   -0.038</td>\n",
       "</tr>\n",
       "<tr>\n",
       "  <th>x4</th> <td>   -0.0094</td> <td>    0.002</td> <td>   -4.785</td> <td> 0.000</td> <td>   -0.013</td> <td>   -0.006</td>\n",
       "</tr>\n",
       "<tr>\n",
       "  <th>x5</th> <td>   -0.0045</td> <td>    0.013</td> <td>   -0.353</td> <td> 0.724</td> <td>   -0.029</td> <td>    0.020</td>\n",
       "</tr>\n",
       "<tr>\n",
       "  <th>x6</th> <td>    0.0563</td> <td>    0.021</td> <td>    2.664</td> <td> 0.008</td> <td>    0.015</td> <td>    0.098</td>\n",
       "</tr>\n",
       "<tr>\n",
       "  <th>x7</th> <td>    0.3773</td> <td>    0.016</td> <td>   23.212</td> <td> 0.000</td> <td>    0.345</td> <td>    0.409</td>\n",
       "</tr>\n",
       "<tr>\n",
       "  <th>x8</th> <td>   -0.2251</td> <td>    0.005</td> <td>  -49.227</td> <td> 0.000</td> <td>   -0.234</td> <td>   -0.216</td>\n",
       "</tr>\n",
       "<tr>\n",
       "  <th>x9</th> <td>   -0.1348</td> <td>    0.008</td> <td>  -15.884</td> <td> 0.000</td> <td>   -0.151</td> <td>   -0.118</td>\n",
       "</tr>\n",
       "</table>"
      ],
      "text/plain": [
       "<class 'statsmodels.iolib.summary.Summary'>\n",
       "\"\"\"\n",
       "                           Logit Regression Results                           \n",
       "==============================================================================\n",
       "Dep. Variable:                      y   No. Observations:                69970\n",
       "Model:                          Logit   Df Residuals:                    69961\n",
       "Method:                           MLE   Df Model:                            8\n",
       "Date:                Sun, 02 Sep 2018   Pseudo R-squ.:                -0.05666\n",
       "Time:                        14:22:37   Log-Likelihood:                -22318.\n",
       "converged:                       True   LL-Null:                       -21122.\n",
       "                                        LLR p-value:                     1.000\n",
       "==============================================================================\n",
       "                 coef    std err          z      P>|z|      [0.025      0.975]\n",
       "------------------------------------------------------------------------------\n",
       "x1             0.0506      0.005     10.190      0.000       0.041       0.060\n",
       "x2            -0.0117      0.001    -18.451      0.000      -0.013      -0.010\n",
       "x3            -0.0542      0.008     -6.462      0.000      -0.071      -0.038\n",
       "x4            -0.0094      0.002     -4.785      0.000      -0.013      -0.006\n",
       "x5            -0.0045      0.013     -0.353      0.724      -0.029       0.020\n",
       "x6             0.0563      0.021      2.664      0.008       0.015       0.098\n",
       "x7             0.3773      0.016     23.212      0.000       0.345       0.409\n",
       "x8            -0.2251      0.005    -49.227      0.000      -0.234      -0.216\n",
       "x9            -0.1348      0.008    -15.884      0.000      -0.151      -0.118\n",
       "==============================================================================\n",
       "\"\"\""
      ]
     },
     "execution_count": 45,
     "metadata": {},
     "output_type": "execute_result"
    }
   ],
   "source": [
    "results.summary()"
   ]
  },
  {
   "cell_type": "code",
   "execution_count": 46,
   "metadata": {},
   "outputs": [
    {
     "data": {
      "text/plain": [
       "30"
      ]
     },
     "execution_count": 46,
     "metadata": {},
     "output_type": "execute_result"
    }
   ],
   "source": [
    "continuous_significant=['time_in_hospital','num_lab_procedures','num_procedures',\n",
    "                        'num_medications', 'number_emergency','number_inpatient',\n",
    "                        'number_diagnoses', 'CCI']\n",
    "features_s=significant_features+continuous_significant\n",
    "len(features_s)"
   ]
  },
  {
   "cell_type": "code",
   "execution_count": 47,
   "metadata": {},
   "outputs": [],
   "source": [
    "# Now I have the significant features to put into the model\n",
    "\n",
    "df_v2=df[features_s]"
   ]
  },
  {
   "cell_type": "markdown",
   "metadata": {
    "collapsed": true
   },
   "source": [
    "### Step 4. Machine Learning"
   ]
  },
  {
   "cell_type": "markdown",
   "metadata": {},
   "source": [
    " - To predict 1/0 for early readmission, classification machine learning models can be applied. In case the imbalanced data would affect the model performance especially in this study we are more interested in the minority outcome, over sampling will be applied.\n",
    "#### Metrics selection\n",
    " - Considering the results in a real-world practice, people in healthcare industries would prefer a prediction model that can identify most of the early-readmission cases, and tolerate some extent of low prediction score. For example, if a prediction model can identify over half of all the early readmitted patients with a 0.1 prediction score, this model would be better than another model that has a 0.9 prediction score with low capability (say, only 0.01 of recall) to identify early readmitted patients.\n",
    " - Therefore, AUC score will be used to train models and recall will be evaluated among different probability thresholds"
   ]
  },
  {
   "cell_type": "code",
   "execution_count": 48,
   "metadata": {},
   "outputs": [],
   "source": [
    "# Import sklearn libraries\n",
    "\n",
    "from sklearn.metrics import confusion_matrix, precision_recall_curve\n",
    "from sklearn.metrics import classification_report\n",
    "from sklearn.metrics import roc_auc_score\n",
    "from sklearn.model_selection import cross_val_score\n",
    "from sklearn.model_selection import train_test_split\n",
    "from imblearn.over_sampling import RandomOverSampler,SMOTE\n",
    "from sklearn.preprocessing import PolynomialFeatures\n",
    "from sklearn.feature_selection import SelectKBest, chi2\n",
    "from sklearn.linear_model import LogisticRegression\n",
    "import xgboost as xgb\n",
    "\n",
    "def train_pipe(df,clf,resample=False,sampler=RandomOverSampler,poly=False):\n",
    "    ''' Write a reusable function for processing X '''\n",
    "\n",
    "    X=df.as_matrix()\n",
    "    \n",
    "    if poly==True:\n",
    "        feat_poly = PolynomialFeatures(2)\n",
    "        X=feat_poly.fit_transform(X)\n",
    " \n",
    "    X_train, X_test, y_train, y_test = train_test_split(X,y,test_size=0.25,random_state=22)\n",
    "    \n",
    "    if resample==True:\n",
    "        ros = sampler(ratio='auto', random_state=25)\n",
    "        X_train, y_train = ros.fit_sample(X_train, y_train)   \n",
    "    \n",
    "    clf=clf\n",
    "    clf.fit(X_train,y_train)\n",
    "    scores=cross_val_score(clf, X_train, y_train, cv=5,scoring='roc_auc')\n",
    "    auc_score=roc_auc_score(y_test,clf.predict(X_test))\n",
    "    report=classification_report(y_test,clf.predict(X_test))\n",
    "    return scores, auc_score"
   ]
  },
  {
   "cell_type": "code",
   "execution_count": 83,
   "metadata": {},
   "outputs": [
    {
     "data": {
      "text/plain": [
       "(array([0.66091814, 0.64988475, 0.63991324, 0.64551209, 0.63448754]),\n",
       " 0.609032985818108)"
      ]
     },
     "metadata": {},
     "output_type": "display_data"
    },
    {
     "data": {
      "text/plain": [
       "(array([0.65652747, 0.66281219, 0.66002785, 0.65564647, 0.66309649]),\n",
       " 0.6107146611736624)"
      ]
     },
     "metadata": {},
     "output_type": "display_data"
    },
    {
     "data": {
      "text/plain": [
       "(array([0.66717315, 0.66942877, 0.66557785, 0.66993624, 0.66917964]),\n",
       " 0.6036118530309873)"
      ]
     },
     "metadata": {},
     "output_type": "display_data"
    }
   ],
   "source": [
    "from sklearn.tree import DecisionTreeClassifier\n",
    "''' First try a decision tree classifier '''\n",
    "\n",
    "# Max depths=5 is the best parameters for test data \n",
    "clf1=DecisionTreeClassifier(max_depth=5,class_weight='balanced')\n",
    "display(train_pipe(df_v2,clf1))\n",
    "display(train_pipe(df_v2,clf1,resample=True))\n",
    "display(train_pipe(df_v2,clf1,resample=True,poly=True))"
   ]
  },
  {
   "cell_type": "code",
   "execution_count": 99,
   "metadata": {},
   "outputs": [
    {
     "data": {
      "text/plain": [
       "(array([0.66745419, 0.67184802, 0.67216979, 0.66984234, 0.66961668]),\n",
       " 0.6148171547360446)"
      ]
     },
     "metadata": {},
     "output_type": "display_data"
    },
    {
     "data": {
      "text/plain": [
       "(array([0.66931706, 0.67571577, 0.67014011, 0.67598654, 0.67301925]),\n",
       " 0.617194290186424)"
      ]
     },
     "metadata": {},
     "output_type": "display_data"
    }
   ],
   "source": [
    "''' Try RandomForest to reduce over-fitting '''\n",
    "from sklearn.ensemble import RandomForestClassifier\n",
    "\n",
    "# Max depths=5 is the best parameters for test data \n",
    "rf_clf=RandomForestClassifier(max_depth=5,class_weight='balanced',random_state=25)\n",
    "display(train_pipe(df_v2,rf_clf,resample=True))\n",
    "display(train_pipe(df_v2,rf_clf,resample=True,poly=True))"
   ]
  },
  {
   "cell_type": "code",
   "execution_count": 87,
   "metadata": {},
   "outputs": [
    {
     "data": {
      "text/plain": [
       "(array([0.67392178, 0.67160928, 0.65418891, 0.6577243 , 0.65602787]),\n",
       " 0.6153636624718599)"
      ]
     },
     "metadata": {},
     "output_type": "display_data"
    },
    {
     "data": {
      "text/plain": [
       "(array([0.67449891, 0.67331782, 0.65422052, 0.65839121, 0.65600899]),\n",
       " 0.6174389458458686)"
      ]
     },
     "metadata": {},
     "output_type": "display_data"
    },
    {
     "data": {
      "text/plain": [
       "(array([0.66230683, 0.66095407, 0.6546751 , 0.64270557, 0.64532682]),\n",
       " 0.6119296218229304)"
      ]
     },
     "metadata": {},
     "output_type": "display_data"
    }
   ],
   "source": [
    "from sklearn.linear_model import LogisticRegression\n",
    "\n",
    "clf2=LogisticRegression(class_weight=\"balanced\")\n",
    "display(train_pipe(df_v1,clf2))\n",
    "display(train_pipe(df_v2,clf2))\n",
    "display(train_pipe(df_v2,clf2,poly=True))"
   ]
  },
  {
   "cell_type": "code",
   "execution_count": 93,
   "metadata": {},
   "outputs": [
    {
     "name": "stderr",
     "output_type": "stream",
     "text": [
      "/anaconda3/lib/python3.6/site-packages/sklearn/cross_validation.py:41: DeprecationWarning: This module was deprecated in version 0.18 in favor of the model_selection module into which all the refactored classes and functions are moved. Also note that the interface of the new CV iterators are different from that of this module. This module will be removed in 0.20.\n",
      "  \"This module will be removed in 0.20.\", DeprecationWarning)\n",
      "/anaconda3/lib/python3.6/site-packages/sklearn/grid_search.py:42: DeprecationWarning: This module was deprecated in version 0.18 in favor of the model_selection module into which all the refactored classes and functions are moved. This module will be removed in 0.20.\n",
      "  DeprecationWarning)\n"
     ]
    },
    {
     "name": "stdout",
     "output_type": "stream",
     "text": [
      "{'C': 0.1}\n",
      "0.6634610365974108\n"
     ]
    }
   ],
   "source": [
    "''' Now try GridSearch to prune logistic regression '''\n",
    "from sklearn.grid_search import GridSearchCV\n",
    "X_train, X_test, y_train, y_test = train_test_split(X,y,test_size=0.25,random_state=22)\n",
    "\n",
    "pg = {'C': [0.01, 0.1, 0.5, 0.8, 1, 1.2, 1.5, 10, 100]}\n",
    "\n",
    "clf=LogisticRegression(class_weight=\"balanced\")\n",
    "grid = GridSearchCV(clf, param_grid=pg, cv=5,scoring='roc_auc')\n",
    "grid.fit(X_train, y_train)\n",
    "\n",
    "print(grid.best_params_)\n",
    "print(grid.best_score_)"
   ]
  },
  {
   "cell_type": "code",
   "execution_count": 63,
   "metadata": {},
   "outputs": [
    {
     "data": {
      "text/plain": [
       "(array([0.67409501, 0.67412462, 0.65470893, 0.65845244, 0.65592472]),\n",
       " 0.6175716052818876)"
      ]
     },
     "execution_count": 63,
     "metadata": {},
     "output_type": "execute_result"
    }
   ],
   "source": [
    "''' Apply the best C on the test data '''\n",
    "clf=LogisticRegression(C=0.1,class_weight=\"balanced\")\n",
    "train_pipe(df_v2,clf) # the performance doesn't improve"
   ]
  },
  {
   "cell_type": "code",
   "execution_count": 66,
   "metadata": {},
   "outputs": [
    {
     "data": {
      "text/plain": [
       "(17493,)"
      ]
     },
     "execution_count": 66,
     "metadata": {},
     "output_type": "execute_result"
    }
   ],
   "source": [
    "y_score = clf.decision_function(X_test)"
   ]
  },
  {
   "cell_type": "code",
   "execution_count": 96,
   "metadata": {},
   "outputs": [
    {
     "name": "stderr",
     "output_type": "stream",
     "text": [
      "/anaconda3/lib/python3.6/site-packages/sklearn/preprocessing/label.py:151: DeprecationWarning: The truth value of an empty array is ambiguous. Returning False, but in future this will result in an error. Use `array.size > 0` to check that an array is not empty.\n",
      "  if diff:\n",
      "/anaconda3/lib/python3.6/site-packages/sklearn/preprocessing/label.py:151: DeprecationWarning: The truth value of an empty array is ambiguous. Returning False, but in future this will result in an error. Use `array.size > 0` to check that an array is not empty.\n",
      "  if diff:\n"
     ]
    },
    {
     "data": {
      "text/plain": [
       "(array([0.67499149, 0.68086175, 0.67609096, 0.67780892, 0.67804809]),\n",
       " 0.6185177024924347)"
      ]
     },
     "execution_count": 96,
     "metadata": {},
     "output_type": "execute_result"
    }
   ],
   "source": [
    "''' Now try the Xgboost classifier '''\n",
    "import xgboost as xgb\n",
    "clf3 = xgb.XGBClassifier(max_depth=3,objective='binary:logistic',silent = True,n_estimators=50)\n",
    "train_pipe(df_v2,clf3,resample=True)"
   ]
  },
  {
   "cell_type": "code",
   "execution_count": 105,
   "metadata": {},
   "outputs": [
    {
     "data": {
      "text/plain": [
       "([mean: 0.66114, std: 0.00915, params: {'max_depth': 2, 'min_child_weight': 1},\n",
       "  mean: 0.66133, std: 0.00911, params: {'max_depth': 2, 'min_child_weight': 3},\n",
       "  mean: 0.66146, std: 0.00855, params: {'max_depth': 2, 'min_child_weight': 5},\n",
       "  mean: 0.66466, std: 0.00849, params: {'max_depth': 3, 'min_child_weight': 1},\n",
       "  mean: 0.66390, std: 0.00863, params: {'max_depth': 3, 'min_child_weight': 3},\n",
       "  mean: 0.66396, std: 0.00790, params: {'max_depth': 3, 'min_child_weight': 5},\n",
       "  mean: 0.66570, std: 0.00786, params: {'max_depth': 4, 'min_child_weight': 1},\n",
       "  mean: 0.66608, std: 0.00774, params: {'max_depth': 4, 'min_child_weight': 3},\n",
       "  mean: 0.66635, std: 0.00822, params: {'max_depth': 4, 'min_child_weight': 5},\n",
       "  mean: 0.66613, std: 0.00788, params: {'max_depth': 5, 'min_child_weight': 1},\n",
       "  mean: 0.66655, std: 0.00743, params: {'max_depth': 5, 'min_child_weight': 3},\n",
       "  mean: 0.66636, std: 0.00795, params: {'max_depth': 5, 'min_child_weight': 5}],\n",
       " {'max_depth': 5, 'min_child_weight': 3},\n",
       " 0.6665538648142433)"
      ]
     },
     "execution_count": 105,
     "metadata": {},
     "output_type": "execute_result"
    }
   ],
   "source": [
    "''' Tune the parameters of XgboostClassifier step by step '''\n",
    "param_test1 = {\n",
    " 'max_depth':[2,3,4,5],\n",
    " 'min_child_weight':[1,3,5]\n",
    "}\n",
    "xgb_clf=xgb.XGBClassifier(learning_rate =0.1, n_estimators=50)\n",
    "gsearch1 = GridSearchCV(estimator = xgb_clf, param_grid = param_test1, scoring='roc_auc', cv=5)\n",
    "gsearch1.fit(X_train,y_train)\n",
    "gsearch1.grid_scores_, gsearch1.best_params_, gsearch1.best_score_"
   ]
  },
  {
   "cell_type": "code",
   "execution_count": 115,
   "metadata": {},
   "outputs": [
    {
     "name": "stderr",
     "output_type": "stream",
     "text": [
      "/anaconda3/lib/python3.6/site-packages/sklearn/preprocessing/label.py:151: DeprecationWarning: The truth value of an empty array is ambiguous. Returning False, but in future this will result in an error. Use `array.size > 0` to check that an array is not empty.\n",
      "  if diff:\n",
      "/anaconda3/lib/python3.6/site-packages/sklearn/preprocessing/label.py:151: DeprecationWarning: The truth value of an empty array is ambiguous. Returning False, but in future this will result in an error. Use `array.size > 0` to check that an array is not empty.\n",
      "  if diff:\n"
     ]
    },
    {
     "data": {
      "text/plain": [
       "(array([0.70426154, 0.70838757, 0.70660697, 0.70646269, 0.70655255]),\n",
       " 0.621080726297825)"
      ]
     },
     "execution_count": 115,
     "metadata": {},
     "output_type": "execute_result"
    }
   ],
   "source": [
    "''' Test the best parameters on the test data '''\n",
    "xfb_gs1 = xgb.XGBClassifier(\n",
    "    learning_rate =0.1,objective='binary:logistic',silent = True,\n",
    "    n_estimators=50,max_depth=5,min_child_weight=3)\n",
    "train_pipe(df_v2,xfb_gs1,resample=True)"
   ]
  },
  {
   "cell_type": "code",
   "execution_count": 110,
   "metadata": {},
   "outputs": [
    {
     "data": {
      "text/plain": [
       "([mean: 0.66655, std: 0.00743, params: {'gamma': 0.0},\n",
       "  mean: 0.66668, std: 0.00765, params: {'gamma': 0.1},\n",
       "  mean: 0.66694, std: 0.00803, params: {'gamma': 0.2},\n",
       "  mean: 0.66670, std: 0.00817, params: {'gamma': 0.3},\n",
       "  mean: 0.66693, std: 0.00799, params: {'gamma': 0.4}],\n",
       " {'gamma': 0.2},\n",
       " 0.6669428840998264)"
      ]
     },
     "execution_count": 110,
     "metadata": {},
     "output_type": "execute_result"
    }
   ],
   "source": [
    "param_test2 = {\n",
    " 'gamma':[i/10.0 for i in range(0,5)]\n",
    "}\n",
    "xgb_clf=xgb.XGBClassifier(\n",
    "    learning_rate =0.1,objective='binary:logistic',silent = True,\n",
    "    n_estimators=50,max_depth=5,min_child_weight=3)\n",
    "gsearch1 = GridSearchCV(estimator = xgb_clf, param_grid = param_test2, scoring='roc_auc', cv=5)\n",
    "gsearch1.fit(X_train,y_train)\n",
    "gsearch1.grid_scores_, gsearch1.best_params_, gsearch1.best_score_"
   ]
  },
  {
   "cell_type": "code",
   "execution_count": 116,
   "metadata": {},
   "outputs": [
    {
     "name": "stderr",
     "output_type": "stream",
     "text": [
      "/anaconda3/lib/python3.6/site-packages/sklearn/preprocessing/label.py:151: DeprecationWarning: The truth value of an empty array is ambiguous. Returning False, but in future this will result in an error. Use `array.size > 0` to check that an array is not empty.\n",
      "  if diff:\n",
      "/anaconda3/lib/python3.6/site-packages/sklearn/preprocessing/label.py:151: DeprecationWarning: The truth value of an empty array is ambiguous. Returning False, but in future this will result in an error. Use `array.size > 0` to check that an array is not empty.\n",
      "  if diff:\n"
     ]
    },
    {
     "data": {
      "text/plain": [
       "(array([0.70426124, 0.70837577, 0.70660697, 0.70645848, 0.70654582]),\n",
       " 0.621080726297825)"
      ]
     },
     "execution_count": 116,
     "metadata": {},
     "output_type": "execute_result"
    }
   ],
   "source": [
    "xfb_gs2 = xgb.XGBClassifier(\n",
    "    learning_rate =0.1,objective='binary:logistic',silent = True,\n",
    "    n_estimators=50,max_depth=5,min_child_weight=3, gamma=0.2)\n",
    "train_pipe(df_v2,xfb_gs2,resample=True)"
   ]
  },
  {
   "cell_type": "code",
   "execution_count": 112,
   "metadata": {},
   "outputs": [
    {
     "data": {
      "text/plain": [
       "([mean: 0.66656, std: 0.00817, params: {'colsample_bytree': 0.6, 'subsample': 0.6},\n",
       "  mean: 0.66746, std: 0.00700, params: {'colsample_bytree': 0.6, 'subsample': 0.7},\n",
       "  mean: 0.66799, std: 0.00730, params: {'colsample_bytree': 0.6, 'subsample': 0.8},\n",
       "  mean: 0.66857, std: 0.00668, params: {'colsample_bytree': 0.6, 'subsample': 0.9},\n",
       "  mean: 0.66717, std: 0.00534, params: {'colsample_bytree': 0.7, 'subsample': 0.6},\n",
       "  mean: 0.66781, std: 0.00817, params: {'colsample_bytree': 0.7, 'subsample': 0.7},\n",
       "  mean: 0.66794, std: 0.00690, params: {'colsample_bytree': 0.7, 'subsample': 0.8},\n",
       "  mean: 0.66790, std: 0.00670, params: {'colsample_bytree': 0.7, 'subsample': 0.9},\n",
       "  mean: 0.66600, std: 0.00628, params: {'colsample_bytree': 0.8, 'subsample': 0.6},\n",
       "  mean: 0.66765, std: 0.00768, params: {'colsample_bytree': 0.8, 'subsample': 0.7},\n",
       "  mean: 0.66810, std: 0.00668, params: {'colsample_bytree': 0.8, 'subsample': 0.8},\n",
       "  mean: 0.66789, std: 0.00755, params: {'colsample_bytree': 0.8, 'subsample': 0.9},\n",
       "  mean: 0.66701, std: 0.00621, params: {'colsample_bytree': 0.9, 'subsample': 0.6},\n",
       "  mean: 0.66761, std: 0.00768, params: {'colsample_bytree': 0.9, 'subsample': 0.7},\n",
       "  mean: 0.66655, std: 0.00714, params: {'colsample_bytree': 0.9, 'subsample': 0.8},\n",
       "  mean: 0.66681, std: 0.00802, params: {'colsample_bytree': 0.9, 'subsample': 0.9}],\n",
       " {'colsample_bytree': 0.6, 'subsample': 0.9},\n",
       " 0.6685740189659175)"
      ]
     },
     "execution_count": 112,
     "metadata": {},
     "output_type": "execute_result"
    }
   ],
   "source": [
    "param_test3 = {\n",
    " 'subsample':[i/10.0 for i in range(6,10)],\n",
    " 'colsample_bytree':[i/10.0 for i in range(6,10)]\n",
    "}\n",
    "xgb_clf=xgb.XGBClassifier(\n",
    "    learning_rate =0.1,objective='binary:logistic',silent = True,\n",
    "    n_estimators=50,max_depth=5,min_child_weight=3,gamma=0.2)\n",
    "gsearch1 = GridSearchCV(estimator = xgb_clf, param_grid = param_test3, scoring='roc_auc', cv=5)\n",
    "gsearch1.fit(X_train,y_train)\n",
    "gsearch1.grid_scores_, gsearch1.best_params_, gsearch1.best_score_"
   ]
  },
  {
   "cell_type": "code",
   "execution_count": 118,
   "metadata": {},
   "outputs": [
    {
     "name": "stderr",
     "output_type": "stream",
     "text": [
      "/anaconda3/lib/python3.6/site-packages/sklearn/preprocessing/label.py:151: DeprecationWarning: The truth value of an empty array is ambiguous. Returning False, but in future this will result in an error. Use `array.size > 0` to check that an array is not empty.\n",
      "  if diff:\n",
      "/anaconda3/lib/python3.6/site-packages/sklearn/preprocessing/label.py:151: DeprecationWarning: The truth value of an empty array is ambiguous. Returning False, but in future this will result in an error. Use `array.size > 0` to check that an array is not empty.\n",
      "  if diff:\n"
     ]
    },
    {
     "data": {
      "text/plain": [
       "(array([0.70423333, 0.70904206, 0.70497967, 0.70393   , 0.70579118]),\n",
       " 0.6188882708274509)"
      ]
     },
     "execution_count": 118,
     "metadata": {},
     "output_type": "execute_result"
    }
   ],
   "source": [
    "xfb_gs3 = xgb.XGBClassifier(\n",
    "    learning_rate =0.1,objective='binary:logistic',silent = True,\n",
    "    n_estimators=50,max_depth=5,min_child_weight=3, gamma=0.2,\n",
    "    colsample_bytree=0.6, subsample=0.9)\n",
    "train_pipe(df_v2,xfb_gs3,resample=True)"
   ]
  },
  {
   "cell_type": "code",
   "execution_count": 113,
   "metadata": {},
   "outputs": [
    {
     "data": {
      "text/plain": [
       "([mean: 0.66857, std: 0.00668, params: {'reg_alpha': 0},\n",
       "  mean: 0.66857, std: 0.00668, params: {'reg_alpha': 0.001},\n",
       "  mean: 0.66873, std: 0.00654, params: {'reg_alpha': 0.005},\n",
       "  mean: 0.66850, std: 0.00667, params: {'reg_alpha': 0.01},\n",
       "  mean: 0.66846, std: 0.00638, params: {'reg_alpha': 0.05}],\n",
       " {'reg_alpha': 0.005},\n",
       " 0.6687283922907716)"
      ]
     },
     "execution_count": 113,
     "metadata": {},
     "output_type": "execute_result"
    }
   ],
   "source": [
    "param_test4 = {\n",
    " 'reg_alpha':[0, 0.001, 0.005, 0.01, 0.05]\n",
    "}\n",
    "xgb_clf=xgb.XGBClassifier(\n",
    "    learning_rate =0.1,objective='binary:logistic',silent = True,\n",
    "    n_estimators=50,max_depth=5,min_child_weight=3,gamma=0.2,\n",
    "    colsample_bytree=0.6,subsample=0.9)\n",
    "gsearch1 = GridSearchCV(estimator = xgb_clf, param_grid = param_test4, scoring='roc_auc', cv=5)\n",
    "gsearch1.fit(X_train,y_train)\n",
    "gsearch1.grid_scores_, gsearch1.best_params_, gsearch1.best_score_"
   ]
  },
  {
   "cell_type": "code",
   "execution_count": 49,
   "metadata": {},
   "outputs": [
    {
     "name": "stderr",
     "output_type": "stream",
     "text": [
      "/anaconda3/lib/python3.6/site-packages/sklearn/preprocessing/label.py:151: DeprecationWarning: The truth value of an empty array is ambiguous. Returning False, but in future this will result in an error. Use `array.size > 0` to check that an array is not empty.\n",
      "  if diff:\n",
      "/anaconda3/lib/python3.6/site-packages/sklearn/preprocessing/label.py:151: DeprecationWarning: The truth value of an empty array is ambiguous. Returning False, but in future this will result in an error. Use `array.size > 0` to check that an array is not empty.\n",
      "  if diff:\n"
     ]
    },
    {
     "data": {
      "text/plain": [
       "(array([0.68781198, 0.69179057, 0.6883751 , 0.6893307 , 0.69002991]),\n",
       " 0.6214298459764939)"
      ]
     },
     "execution_count": 49,
     "metadata": {},
     "output_type": "execute_result"
    }
   ],
   "source": [
    "''' Finally, try a VotingClassifier with tuned models '''\n",
    "from sklearn.ensemble import VotingClassifier\n",
    "\n",
    "log_clf=LogisticRegression(class_weight=\"balanced\")\n",
    "xfb_gs2 = xgb.XGBClassifier(\n",
    "    learning_rate =0.1,objective='binary:logistic',silent = True,\n",
    "    n_estimators=50,max_depth=5,min_child_weight=3, gamma=0.2)\n",
    "\n",
    "eclf=VotingClassifier(estimators=[('lr', log_clf), ('xgb', xfb_gs2)], voting='soft')\n",
    "train_pipe(df_v2,eclf,resample=True)"
   ]
  },
  {
   "cell_type": "code",
   "execution_count": 55,
   "metadata": {},
   "outputs": [
    {
     "name": "stdout",
     "output_type": "stream",
     "text": [
      "\n",
      "******** For i = 0.35 ******\n",
      "Our AUC is 0.5620602471610237\n",
      "[[ 2837 13098]\n",
      " [   84  1474]]\n",
      "\n",
      "******** For i = 0.4 ******\n",
      "Our AUC is 0.5938777478951114\n",
      "[[ 5825 10110]\n",
      " [  277  1281]]\n",
      "\n",
      "******** For i = 0.42 ******\n",
      "Our AUC is 0.6021339701201085\n",
      "[[7070 8865]\n",
      " [ 373 1185]]\n",
      "\n",
      "******** For i = 0.45 ******\n",
      "Our AUC is 0.612007118939949\n",
      "[[8612 7323]\n",
      " [ 493 1065]]\n",
      "\n",
      "******** For i = 0.46 ******\n",
      "Our AUC is 0.614710737177228\n",
      "[[9005 6930]\n",
      " [ 523 1035]]\n",
      "\n",
      "******** For i = 0.47 ******\n",
      "Our AUC is 0.619523795522004\n",
      "[[9455 6480]\n",
      " [ 552 1006]]\n",
      "\n",
      "******** For i = 0.48 ******\n",
      "Our AUC is 0.6223100263304914\n",
      "[[9912 6023]\n",
      " [ 588  970]]\n",
      "\n",
      "******** For i = 0.49 ******\n",
      "Our AUC is 0.6212209380776285\n",
      "[[10358  5577]\n",
      " [  635   923]]\n",
      "\n",
      "******** For i = 0.5 ******\n",
      "Our AUC is 0.6214298459764939\n",
      "[[10784  5151]\n",
      " [  676   882]]\n",
      "\n",
      "******** For i = 0.51 ******\n",
      "Our AUC is 0.6199400001530608\n",
      "[[11207  4728]\n",
      " [  722   836]]\n",
      "\n",
      "******** For i = 0.52 ******\n",
      "Our AUC is 0.623480881292059\n",
      "[[11596  4339]\n",
      " [  749   809]]\n",
      "\n",
      "******** For i = 0.6 ******\n",
      "Our AUC is 0.5957860137037782\n",
      "[[13884  2051]\n",
      " [ 1059   499]]\n"
     ]
    }
   ],
   "source": [
    "X=df_v2.as_matrix()\n",
    "X_train, X_test, y_train, y_test = train_test_split(X,y,test_size=0.25,random_state=22)\n",
    "\n",
    "def thres_auc(target_proba_test):\n",
    "    for i in [0.35,0.4,0.42,0.45,0.46,0.47,0.48,0.49,0.5,0.51,0.52,0.6]:\n",
    "        df_test=pd.DataFrame(target_proba_test,columns=['p'])\n",
    "\n",
    "        df_test['target']=df_test['p'].apply(lambda x:1 if x>=i else 0)\n",
    "        y_pred_test=np.array(df_test['target'])\n",
    "        \n",
    "        print('\\n******** For i = {} ******'.format(i))\n",
    "        print('Our AUC is {}'.format(roc_auc_score(y_test,y_pred_test)))\n",
    "        print(confusion_matrix(y_test,y_pred_test))\n",
    "\n",
    "\n",
    "target_proba_test=eclf.predict_proba(X_test)[:,1]        \n",
    "thres_auc(target_proba_test)"
   ]
  },
  {
   "cell_type": "code",
   "execution_count": 68,
   "metadata": {},
   "outputs": [
    {
     "data": {
      "image/png": "[encoded data removed]",
      "text/plain": [
       "<matplotlib.figure.Figure at 0x112c14908>"
      ]
     },
     "metadata": {},
     "output_type": "display_data"
    }
   ],
   "source": [
    "from sklearn.metrics import precision_recall_curve\n",
    "\n",
    "precision, recall, _ = precision_recall_curve(y_test, target_proba_test)\n",
    "\n",
    "plt.step(recall, precision, color='b', alpha=0.2, where='post')\n",
    "plt.fill_between(recall, precision, step='post', alpha=0.2, color='b')\n",
    "\n",
    "plt.xlabel('Recall')\n",
    "plt.ylabel('Precision')\n",
    "plt.ylim([0.0, 1.05])\n",
    "plt.xlim([0.0, 1.0])\n",
    "plt.title('2-class Precision-Recall curve')\n",
    "plt.show()"
   ]
  },
  {
   "cell_type": "markdown",
   "metadata": {},
   "source": [
    "### Conclusions\n",
    "If we can bear lower AUC score or we don't care about it at all, we can use a lower threshold (<0.5), e.g., a threshold of 0.45 would identify around 2/3 of the early-readmitted patients with this model; among all the patients predicted with this model as early-readmitted in the future, 7/8 of them will actually not be early-readmitted and further screening process can be applied to these patients to filter out the right person that will have early-readmission."
   ]
  }
 ],
 "metadata": {
  "kernelspec": {
   "display_name": "Python 3",
   "language": "python",
   "name": "python3"
  },
  "language_info": {
   "codemirror_mode": {
    "name": "ipython",
    "version": 3
   },
   "file_extension": ".py",
   "mimetype": "text/x-python",
   "name": "python",
   "nbconvert_exporter": "python",
   "pygments_lexer": "ipython3",
   "version": "3.6.5"
  }
 },
 "nbformat": 4,
 "nbformat_minor": 2
}
